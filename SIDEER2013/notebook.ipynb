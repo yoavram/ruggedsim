{
 "metadata": {
  "name": "notebook"
 },
 "nbformat": 3,
 "nbformat_minor": 0,
 "worksheets": [
  {
   "cells": [
    {
     "cell_type": "markdown",
     "metadata": {
      "slideshow": {
       "slide_type": "slide"
      }
     },
     "source": [
      "# Temp title: Adaptation on rugged landscapes with stress-induced mutation\n",
      "## Yoav Ram & Lilach Hadany"
     ]
    },
    {
     "cell_type": "markdown",
     "metadata": {},
     "source": [
      "## Global parameters"
     ]
    },
    {
     "cell_type": "code",
     "collapsed": false,
     "input": [
      "s = 0.01\n",
      "H = 1\n",
      "U = 0.003\n",
      "u = U / 5000\n",
      "N = 1e6"
     ],
     "language": "python",
     "metadata": {},
     "outputs": [],
     "prompt_number": 1
    },
    {
     "cell_type": "code",
     "collapsed": false,
     "input": [
      "figsize(8,6)"
     ],
     "language": "python",
     "metadata": {},
     "outputs": [],
     "prompt_number": 53
    },
    {
     "cell_type": "markdown",
     "metadata": {},
     "source": [
      "## Numerical exact solutions"
     ]
    },
    {
     "cell_type": "markdown",
     "metadata": {},
     "source": [
      "### Appearance of double mutant\n",
      "#### CM\n",
      "\n",
      "$$\n",
      "e^{-\\frac{\\tau U}{s}} e^{-\\tau U} (\\tau u)^2 + 2\\frac{\\tau u}{s} e^{-\\frac{\\tau u}{s}} e^{-\\tau U} \\tau u\n",
      "$$"
     ]
    },
    {
     "cell_type": "code",
     "collapsed": false,
     "input": [
      "def appearance_cm_exact(T,U,u,s,H):\n",
      "    return e**(-T*U/s) * e**(-T*U) * (T*u)**2 + 2*(T*u/s) * e**(-T*u/s) * e**(-T*U) * T*u"
     ],
     "language": "python",
     "metadata": {},
     "outputs": [],
     "prompt_number": 27
    },
    {
     "cell_type": "markdown",
     "metadata": {},
     "source": [
      "#### SIM\n",
      "\n",
      "$$\n",
      "e^{-\\frac{U}{s}} e^{-U} u^2 + 2\\frac{u}{s} e^{-\\frac{u}{s}} e^{-\\tau U} \\tau u\n",
      "$$"
     ]
    },
    {
     "cell_type": "code",
     "collapsed": false,
     "input": [
      "def appearance_sim_exact(T,U,u,s,H):\n",
      "    return e**(-U/s) * e**(-U) * u**2 + 2*(u/s) * e**(-u/s) * e**(-T*U) * T*u"
     ],
     "language": "python",
     "metadata": {},
     "outputs": [],
     "prompt_number": 28
    },
    {
     "cell_type": "markdown",
     "metadata": {},
     "source": [
      "### Fixation probability\n",
      "#### CM\n",
      "\n",
      "$$\n",
      "\\alpha = \\frac{(1+sH)e^{-\\tau U}}{\\bar{\\omega}} \\\\\\\\\n",
      "\\bar{\\omega} = e^{-\\tau U} \\Rightarrow \\alpha = 1+sH\\\\\\\\\n",
      "\\pi = 2\\frac{\\alpha - 1}{\\alpha} \\Rightarrow \\\\\\\\\n",
      "\\pi = 2 \\frac{sh}{1+sh}\n",
      "$$"
     ]
    },
    {
     "cell_type": "code",
     "collapsed": false,
     "input": [
      "def fixation_cm_exact(T,U,u,s,H):\n",
      "    return 2 * s*H / (1 + s*H)"
     ],
     "language": "python",
     "metadata": {},
     "outputs": [],
     "prompt_number": 29
    },
    {
     "cell_type": "markdown",
     "metadata": {},
     "source": [
      "#### SIM\n",
      "\n",
      "$$\n",
      "\\alpha = \\frac{(1+s H)e^{-U}}{\\bar{\\omega}} \\\\\\\\\n",
      "\\bar{\\omega} = e^{-U/s} + (1-e^{-U/s})\\sum_{k \\ge 0} {(1-s)^{k+1} e^{-\\tau U/s}(\\tau U/s)^k/k!} \\Rightarrow \\\\\\\\\n",
      "\\bar{\\omega} = e^{-U/s} + (1-e^{-U/s})(1-s)e^{-\\tau U} \\ Rightarrow \\\\\\\\\n",
      "\\alpha = \\frac{1+sH}{e^{U-U/s}+(1-e^{-U/s})(1-s)e^{U-\\tau U}} \\Rightarrow \\\\\\\\\n",
      "\\pi = 2\\frac{1+sH-e^{U-U/s}-(1-e^{-U/s})(1-s)e^{U-\\tau U}}{{1+sH}} \\Rightarrow \\\\\\\\\n",
      "\\pi = 2-2\\frac{e^{U-U/s} + (1-e^{-U/s})(1-s)e^{U-\\tau U}}{{1+sH}}\n",
      "$$"
     ]
    },
    {
     "cell_type": "code",
     "collapsed": false,
     "input": [
      "def fixation_sim_exact(T,U,u,s,H):\n",
      "    return 2 - 2 * (e**(U-U/s) + (1 - e**(-U/s)) * (1-s) * e**(U-T*U) ) / (1+s*H)"
     ],
     "language": "python",
     "metadata": {},
     "outputs": [],
     "prompt_number": 30
    },
    {
     "cell_type": "markdown",
     "metadata": {},
     "source": [
      "### Total waiting time"
     ]
    },
    {
     "cell_type": "code",
     "collapsed": false,
     "input": [
      "def waiting_cm_exact(T,U,u,s,H):\n",
      "    return 1/(N * appearance_cm_exact(T,U,u,s,H) * fixation_cm_exact(T,U,u,s,H))\n",
      "def waiting_sim_exact(T,U,u,s,H):\n",
      "    return 1/(N * appearance_sim_exact(T,U,u,s,H) * fixation_sim_exact(T,U,u,s,H))"
     ],
     "language": "python",
     "metadata": {},
     "outputs": [],
     "prompt_number": 31
    },
    {
     "cell_type": "code",
     "collapsed": false,
     "input": [
      "taus = logspace(0,3)\n",
      "plot(taus, [waiting_cm_exact(T,U,u,s,H) for T in taus], 'r', taus, [waiting_sim_exact(T,U,u,s,H) for T in taus], 'b');\n",
      "axhline(y=waiting_cm_exact(1,U,u,s,H), color=\"k\")\n",
      "yscale(\"log\"); xscale(\"log\");\n",
      "xlabel(\"Log Tau\"); ylabel(\"Log waiting time\");\n",
      "legend([\"CM\",\"SIM\",\"NM\"], loc=3);"
     ],
     "language": "python",
     "metadata": {},
     "outputs": [
      {
       "output_type": "display_data",
       "png": "[encoded data removed]",
       "text": [
        "<matplotlib.figure.Figure at 0x9b51668>"
       ]
      }
     ],
     "prompt_number": 58
    },
    {
     "cell_type": "markdown",
     "metadata": {},
     "source": [
      "## Analytical approximation"
     ]
    },
    {
     "cell_type": "markdown",
     "metadata": {},
     "source": [
      "## Stochastic simulations"
     ]
    },
    {
     "cell_type": "code",
     "collapsed": false,
     "input": [
      "f0 = array([1-2*u/s,u/s,u/s,0]) # ab,Ab,aB,AB\n",
      "M = array([[(1-u)**2, u*(1-u), u*(1-u), u**2] , \n",
      "[u*(1-u), (1-u)**2, u*(1-u), u*(1-u)], \n",
      "[u*(1-u), u*(1-u), (1-u)**2, u*(1-u)], \n",
      "[u**2, u*(1-u),u*(1-u), (1-u)**2]])"
     ],
     "language": "python",
     "metadata": {},
     "outputs": []
    },
    {
     "cell_type": "code",
     "collapsed": false,
     "input": [
      "def simulate(w):\n",
      "    S = diag(w)\n",
      "    iter = 0\n",
      "    end_iter = 0\n",
      "    f = [f0.copy()]\n",
      "    while end_iter <= 0.1*iter and iter < 1e10:\n",
      "        f_next = S.dot(M.dot(f[-1]))\n",
      "        f_next[:] = f_next/f_next.sum()\n",
      "        f_next[:] = multinomial(N, f_next)\n",
      "        f_next[:] = f_next/f_next.sum()\n",
      "        f += [f_next]\n",
      "        if f[-1][-1] > 0.95:\n",
      "            end_iter += 1\n",
      "        iter += 1\n",
      "    f = array(f)\n",
      "    g = transpose(array([f[:,0], f[:,1]+f[:,2], f[:,3]]))\n",
      "    return g"
     ],
     "language": "python",
     "metadata": {},
     "outputs": []
    },
    {
     "cell_type": "code",
     "collapsed": false,
     "input": [
      "def plot_freq(ax, data, title, num):\n",
      "    lines = ax.plot(data, linewidth=2.5)\n",
      "    ax.set_yscale('log')\n",
      "    #ax.set_xscale('log')\n",
      "    ax.set_ylim(-10, 10);\n",
      "    ax.set_xlim(-10, data.shape[0]*1.01)\n",
      "   # ax.set_xticklabels(fontsize=8, fontname ='arial')\n",
      "    if num % 3 == 2:\n",
      "        ax.set_xlabel(\"Generation\", fontsize=20, fontname ='arial')\n",
      "    if num % 3 == 1:\n",
      "        #ax.legend(lines, [\"ab\",\"Ab+aB\",\"AB\"], loc=3, prop={\"size\":20})\n",
      "        ax.set_ylabel(\"Log Frequency\", fontsize=20, fontname ='arial')\n",
      "    if num %3 == 2:\n",
      "        ax.set_title(title, fontsize=20, fontname ='arial')\n",
      "    ax.tick_params(axis='both', which='major', labelsize=12, direction=\"vertical\")"
     ],
     "language": "python",
     "metadata": {},
     "outputs": []
    },
    {
     "cell_type": "code",
     "collapsed": false,
     "input": [
      "w = array([1, 1-s, 1-s, 1+s*H])\n",
      "#f1,f2,f3 = simulate(w),simulate(w),simulate(w)\n",
      "f1 = simulate(w)"
     ],
     "language": "python",
     "metadata": {},
     "outputs": []
    },
    {
     "cell_type": "code",
     "collapsed": false,
     "input": [
      "fig = pyplot.figure(figsize=(10,8))\n",
      "ax = fig.add_subplot(1,1,1)\n",
      "plot_freq(ax, f1, \"Complex landscape\",1);\n",
      "#ax = fig.add_subplot(1,3,2)\n",
      "#plot_freq(ax, f2, \"\",2);\n",
      "#ax = fig.add_subplot(1,3,3)\n",
      "#plot_freq(ax, f3, \"\",3);"
     ],
     "language": "python",
     "metadata": {},
     "outputs": []
    },
    {
     "cell_type": "code",
     "collapsed": false,
     "input": [
      "w = array([1-s*H, 1-s, 1-s, 1])\n",
      "#g1,g2,g3 = simulate(w),simulate(w),simulate(w)\n",
      "g1 = simulate(w)"
     ],
     "language": "python",
     "metadata": {},
     "outputs": []
    },
    {
     "cell_type": "code",
     "collapsed": false,
     "input": [
      "fig = pyplot.figure(figsize=(10,8))\n",
      "ax = fig.add_subplot(1,1,1)\n",
      "plot_freq(ax, g1, \"Smooth landscape\",1);\n",
      "\n",
      "#ax = fig.add_subplot(1,3,2)\n",
      "#plot_freq(ax, g2, \"\",2);\n",
      "#ax = fig.add_subplot(1,3,3)\n",
      "#plot_freq(ax, g3, \"\",3);"
     ],
     "language": "python",
     "metadata": {},
     "outputs": []
    },
    {
     "cell_type": "code",
     "collapsed": false,
     "input": [
      "print f1.shape\n",
      "print g1.shape"
     ],
     "language": "python",
     "metadata": {},
     "outputs": []
    },
    {
     "cell_type": "code",
     "collapsed": false,
     "input": [
      "def W(g,U,s):\n",
      "    return e**(-U*(1-(1-s)**g))"
     ],
     "language": "python",
     "metadata": {},
     "outputs": []
    },
    {
     "cell_type": "code",
     "collapsed": false,
     "input": [
      "fig = pyplot.figure(figsize=(18,4))\n",
      "for i in range(1,4):\n",
      "    G = 1000\n",
      "    ax = fig.add_subplot(1,3,i)\n",
      "    ax.plot([W(g, U, 10**(-i+1)) for g in range(G)])\n",
      "    ax.plot([W(g, 5*U, 10**(-i+1)) for g in range(G)])\n",
      "    ax.plot([W(g, 10*U, 10**(-i+1)) for g in range(G)])\n",
      "    ax.set_xlabel(\"Generation\", fontsize=20, fontname ='arial')\n",
      "    ax.set_title(\"s=\"+str(10**(-i+1)), fontsize=20, fontname ='arial')\n",
      "ax.set_ylabel(\"Fitness\", fontsize=20, fontname ='arial');\n",
      "ax.legend([\"U=\"+str(U),\"U=\"+str(U*5), \"U=\"+str(U*10)]);"
     ],
     "language": "python",
     "metadata": {},
     "outputs": []
    },
    {
     "cell_type": "markdown",
     "metadata": {},
     "source": [
      "# Knitting"
     ]
    },
    {
     "cell_type": "markdown",
     "metadata": {},
     "source": [
      "## `model.md`"
     ]
    },
    {
     "cell_type": "code",
     "collapsed": false,
     "input": [
      "cd D:\\\\workspace\\\\work\\\\SIDEER2013"
     ],
     "language": "python",
     "metadata": {},
     "outputs": [
      {
       "output_type": "stream",
       "stream": "stdout",
       "text": [
        "D:\\workspace\\work\\SIDEER2013\n"
       ]
      }
     ],
     "prompt_number": 11
    },
    {
     "cell_type": "code",
     "collapsed": false,
     "input": [
      "!pandoc model.md --bibliography=model.bib -s -S -o model.pdf"
     ],
     "language": "python",
     "metadata": {},
     "outputs": [],
     "prompt_number": 12
    },
    {
     "cell_type": "code",
     "collapsed": false,
     "input": [],
     "language": "python",
     "metadata": {},
     "outputs": []
    }
   ],
   "metadata": {}
  }
 ]
}