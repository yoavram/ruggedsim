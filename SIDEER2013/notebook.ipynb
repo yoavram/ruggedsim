{
 "metadata": {
  "name": "notebook"
 },
 "nbformat": 3,
 "nbformat_minor": 0,
 "worksheets": [
  {
   "cells": [
    {
     "cell_type": "markdown",
     "metadata": {
      "slideshow": {
       "slide_type": "slide"
      }
     },
     "source": [
      "# Temp title: Adaptation on rugged landscapes with stress-induced mutation\n",
      "## Yoav Ram & Lilach Hadany"
     ]
    },
    {
     "cell_type": "markdown",
     "metadata": {},
     "source": [
      "## Global parameters"
     ]
    },
    {
     "cell_type": "code",
     "collapsed": false,
     "input": [
      "s = 0.01\n",
      "H = 1\n",
      "U = 0.003\n",
      "u = U / 5000\n",
      "N = 1e6"
     ],
     "language": "python",
     "metadata": {},
     "outputs": [],
     "prompt_number": 10
    },
    {
     "cell_type": "code",
     "collapsed": false,
     "input": [
      "figsize(8,6)"
     ],
     "language": "python",
     "metadata": {},
     "outputs": [],
     "prompt_number": 11
    },
    {
     "cell_type": "markdown",
     "metadata": {},
     "source": [
      "## Numerical exact solutions"
     ]
    },
    {
     "cell_type": "markdown",
     "metadata": {},
     "source": [
      "### Appearance probability\n",
      "\n",
      "Disregarding back mutations, the general form of the probability of appearance of a double mutant is:\n",
      "$$\n",
      "q = f_{ab} \\omega_{ab} \\mu_{ab}^2 + f_{Ab} \\omega_{Ab} \\mu_{Ab} + f_{aB} \\omega_{aB} \\mu_{aB}\n",
      "$$\n",
      "Assuming the effect of deleterious mutations is $s$ and that the population is at a mutation-selection balance then we can subtitute the frequencies $f_{ab} = e^{-\\frac{U_{ab}}{s}}, f_{Ab}=f_{aB}=\\frac{\\mu_{ab}}{s}e^{-\\frac{\\mu_{ab}}{s}}$.\n",
      "Fitness takes to acount both the Fisherian fitness of the individuals ($\\omega_{ab}=1, \\omega_{Ab}=\\omega_{aB}=1-s$) and the fitness cost of mutation (the mutational load), given by the probability that no new mutation occurs $e^{-U_{k}}$:\n",
      "$$\n",
      "q = e^{-\\frac{U_{ab}}{s}} e^{-U_{ab}} \\mu_{ab}^2 + 2 \\frac{\\mu_{ab}}{s}e^{-\\frac{\\mu_{ab}}{s}} (1-s) e^{-U_{Ab}} \\mu_{Ab}\n",
      "$$"
     ]
    },
    {
     "cell_type": "markdown",
     "metadata": {},
     "source": [
      "#### CM\n",
      "In this case $U_{k}=\\tau U, \\mu_{k}=\\tau \\mu$:\n",
      "$$\n",
      "q_{CM} = e^{-\\frac{\\tau U}{s}} e^{-\\tau U} (\\tau \\mu)^2 + 2\\frac{\\tau \\mu}{s} e^{-\\frac{\\tau \\mu}{s}} e^{-\\tau U} \\tau \\mu \\Rightarrow \\\\\\\\\n",
      "q_{CM} = e^{-\\tau U} (\\tau \\mu)^2 ( e^{-\\frac{\\tau U}{s}} + \\frac{2}{s}  e^{-\\frac{\\tau \\mu}{s}})\n",
      "$$"
     ]
    },
    {
     "cell_type": "code",
     "collapsed": false,
     "input": [
      "def appearance_cm_exact(T,U,u,s,H):\n",
      "    return e**(-T*U) * (T*u)**2 * ( e**(-T*U/s) + 2 * e**(-T*u/s) / s)"
     ],
     "language": "python",
     "metadata": {},
     "outputs": [],
     "prompt_number": 4
    },
    {
     "cell_type": "markdown",
     "metadata": {},
     "source": [
      "#### SIM\n",
      "Here, $U_{ab}=U, U_{aB}=U{Ab}=\\tau U, \\mu_{ab}=\\mu, \\mu_{aB}=\\mu_{Ab}=\\tau \\mu$:\n",
      "$$\n",
      "q_{SIM} = e^{-\\frac{U}{s}} e^{-U} \\mu^2 + 2\\frac{\\mu}{s} e^{-\\frac{\\mu}{s}} e^{-\\tau U} \\tau \\mu \\Rightarrow \\\\\\\\\n",
      "q_{SIM} = \\mu^2 (e^{-U(1+\\frac{1}{s})} + \\frac{2\\tau}{s} e^{-\\frac{\\mu}{s}-\\tau U})\n",
      "$$"
     ]
    },
    {
     "cell_type": "code",
     "collapsed": false,
     "input": [
      "def appearance_sim_exact(T,U,u,s,H):\n",
      "    return u**2 * (e**(-U*(1+1/s)) + (2*T/s) * e**((-u/s)*T*U)) "
     ],
     "language": "python",
     "metadata": {},
     "outputs": [],
     "prompt_number": 22
    },
    {
     "cell_type": "markdown",
     "metadata": {},
     "source": [
      "### Fixation probability\n",
      "#### CM\n",
      "\n",
      "$$\n",
      "\\alpha = \\frac{(1+sH)e^{-\\tau U}}{\\bar{\\omega}} \\\\\\\\\n",
      "\\bar{\\omega} = e^{-\\tau U} \\Rightarrow \\alpha = 1+sH\\\\\\\\\n",
      "\\pi = 2\\frac{\\alpha - 1}{\\alpha} \\Rightarrow \\\\\\\\\n",
      "\\pi = 2 \\frac{sh}{1+sh}\n",
      "$$"
     ]
    },
    {
     "cell_type": "code",
     "collapsed": false,
     "input": [
      "def fixation_cm_exact(T,U,u,s,H):\n",
      "    return 2 * s*H / (1 + s*H)"
     ],
     "language": "python",
     "metadata": {},
     "outputs": [],
     "prompt_number": 6
    },
    {
     "cell_type": "markdown",
     "metadata": {},
     "source": [
      "#### SIM\n",
      "\n",
      "$$\n",
      "\\alpha = \\frac{(1+s H)e^{-U}}{\\bar{\\omega}} \\\\\\\\\n",
      "\\bar{\\omega} = e^{-U/s} + (1-e^{-U/s})\\sum_{k \\ge 0} {(1-s)^{k+1} e^{-\\tau U/s}(\\tau U/s)^k/k!} \\Rightarrow \\\\\\\\\n",
      "\\bar{\\omega} = e^{-U/s} + (1-e^{-U/s})(1-s)e^{-\\tau U} \\ Rightarrow \\\\\\\\\n",
      "\\alpha = \\frac{1+sH}{e^{U-U/s}+(1-e^{-U/s})(1-s)e^{U-\\tau U}} \\Rightarrow \\\\\\\\\n",
      "\\pi = 2\\frac{1+sH-e^{U-U/s}-(1-e^{-U/s})(1-s)e^{U-\\tau U}}{{1+sH}} \\Rightarrow \\\\\\\\\n",
      "\\pi = 2-2\\frac{e^{U-U/s} + (1-e^{-U/s})(1-s)e^{U-\\tau U}}{{1+sH}}\n",
      "$$"
     ]
    },
    {
     "cell_type": "code",
     "collapsed": false,
     "input": [
      "def fixation_sim_exact(T,U,u,s,H):\n",
      "    return 2 - 2 * (e**(U-U/s) + (1 - e**(-U/s)) * (1-s) * e**(U-T*U) ) / (1+s*H)"
     ],
     "language": "python",
     "metadata": {},
     "outputs": [],
     "prompt_number": 7
    },
    {
     "cell_type": "markdown",
     "metadata": {},
     "source": [
      "### Total waiting time"
     ]
    },
    {
     "cell_type": "code",
     "collapsed": false,
     "input": [
      "def waiting_cm_exact(T,U,u,s,H):\n",
      "    return 1/(N * appearance_cm_exact(T,U,u,s,H) * fixation_cm_exact(T,U,u,s,H))\n",
      "def waiting_sim_exact(T,U,u,s,H):\n",
      "    return 1/(N * appearance_sim_exact(T,U,u,s,H) * fixation_sim_exact(T,U,u,s,H))"
     ],
     "language": "python",
     "metadata": {},
     "outputs": [],
     "prompt_number": 8
    },
    {
     "cell_type": "code",
     "collapsed": false,
     "input": [
      "taus = logspace(0,3)\n",
      "plot(taus, [waiting_cm_exact(T,U,u,s,H) for T in taus], 'r', taus, [waiting_sim_exact(T,U,u,s,H) for T in taus], 'b');\n",
      "axhline(y=waiting_cm_exact(1,U,u,s,H), color=\"k\")\n",
      "yscale(\"log\"); xscale(\"log\");\n",
      "xlabel(\"Log Tau\"); ylabel(\"Log waiting time\");\n",
      "legend([\"CM\",\"SIM\",\"NM\"], loc=3);"
     ],
     "language": "python",
     "metadata": {},
     "outputs": [
      {
       "ename": "TypeError",
       "evalue": "'int' object is not callable",
       "output_type": "pyerr",
       "traceback": [
        "\u001b[1;31m---------------------------------------------------------------------------\u001b[0m\n\u001b[1;31mTypeError\u001b[0m                                 Traceback (most recent call last)",
        "\u001b[1;32m<ipython-input-19-a00a506fd74f>\u001b[0m in \u001b[0;36m<module>\u001b[1;34m()\u001b[0m\n\u001b[0;32m      1\u001b[0m \u001b[0mtaus\u001b[0m \u001b[1;33m=\u001b[0m \u001b[0mlogspace\u001b[0m\u001b[1;33m(\u001b[0m\u001b[1;36m0\u001b[0m\u001b[1;33m,\u001b[0m\u001b[1;36m3\u001b[0m\u001b[1;33m)\u001b[0m\u001b[1;33m\u001b[0m\u001b[0m\n\u001b[1;32m----> 2\u001b[1;33m \u001b[0mplot\u001b[0m\u001b[1;33m(\u001b[0m\u001b[0mtaus\u001b[0m\u001b[1;33m,\u001b[0m \u001b[1;33m[\u001b[0m\u001b[0mwaiting_cm_exact\u001b[0m\u001b[1;33m(\u001b[0m\u001b[0mT\u001b[0m\u001b[1;33m,\u001b[0m\u001b[0mU\u001b[0m\u001b[1;33m,\u001b[0m\u001b[0mu\u001b[0m\u001b[1;33m,\u001b[0m\u001b[0ms\u001b[0m\u001b[1;33m,\u001b[0m\u001b[0mH\u001b[0m\u001b[1;33m)\u001b[0m \u001b[1;32mfor\u001b[0m \u001b[0mT\u001b[0m \u001b[1;32min\u001b[0m \u001b[0mtaus\u001b[0m\u001b[1;33m]\u001b[0m\u001b[1;33m,\u001b[0m \u001b[1;34m'r'\u001b[0m\u001b[1;33m,\u001b[0m \u001b[0mtaus\u001b[0m\u001b[1;33m,\u001b[0m \u001b[1;33m[\u001b[0m\u001b[0mwaiting_sim_exact\u001b[0m\u001b[1;33m(\u001b[0m\u001b[0mT\u001b[0m\u001b[1;33m,\u001b[0m\u001b[0mU\u001b[0m\u001b[1;33m,\u001b[0m\u001b[0mu\u001b[0m\u001b[1;33m,\u001b[0m\u001b[0ms\u001b[0m\u001b[1;33m,\u001b[0m\u001b[0mH\u001b[0m\u001b[1;33m)\u001b[0m \u001b[1;32mfor\u001b[0m \u001b[0mT\u001b[0m \u001b[1;32min\u001b[0m \u001b[0mtaus\u001b[0m\u001b[1;33m]\u001b[0m\u001b[1;33m,\u001b[0m \u001b[1;34m'b'\u001b[0m\u001b[1;33m)\u001b[0m\u001b[1;33m;\u001b[0m\u001b[1;33m\u001b[0m\u001b[0m\n\u001b[0m\u001b[0;32m      3\u001b[0m \u001b[0maxhline\u001b[0m\u001b[1;33m(\u001b[0m\u001b[0my\u001b[0m\u001b[1;33m=\u001b[0m\u001b[0mwaiting_cm_exact\u001b[0m\u001b[1;33m(\u001b[0m\u001b[1;36m1\u001b[0m\u001b[1;33m,\u001b[0m\u001b[0mU\u001b[0m\u001b[1;33m,\u001b[0m\u001b[0mu\u001b[0m\u001b[1;33m,\u001b[0m\u001b[0ms\u001b[0m\u001b[1;33m,\u001b[0m\u001b[0mH\u001b[0m\u001b[1;33m)\u001b[0m\u001b[1;33m,\u001b[0m \u001b[0mcolor\u001b[0m\u001b[1;33m=\u001b[0m\u001b[1;34m\"k\"\u001b[0m\u001b[1;33m)\u001b[0m\u001b[1;33m\u001b[0m\u001b[0m\n\u001b[0;32m      4\u001b[0m \u001b[0myscale\u001b[0m\u001b[1;33m(\u001b[0m\u001b[1;34m\"log\"\u001b[0m\u001b[1;33m)\u001b[0m\u001b[1;33m;\u001b[0m \u001b[0mxscale\u001b[0m\u001b[1;33m(\u001b[0m\u001b[1;34m\"log\"\u001b[0m\u001b[1;33m)\u001b[0m\u001b[1;33m;\u001b[0m\u001b[1;33m\u001b[0m\u001b[0m\n\u001b[0;32m      5\u001b[0m \u001b[0mxlabel\u001b[0m\u001b[1;33m(\u001b[0m\u001b[1;34m\"Log Tau\"\u001b[0m\u001b[1;33m)\u001b[0m\u001b[1;33m;\u001b[0m \u001b[0mylabel\u001b[0m\u001b[1;33m(\u001b[0m\u001b[1;34m\"Log waiting time\"\u001b[0m\u001b[1;33m)\u001b[0m\u001b[1;33m;\u001b[0m\u001b[1;33m\u001b[0m\u001b[0m\n",
        "\u001b[1;32m<ipython-input-8-c8ca91736143>\u001b[0m in \u001b[0;36mwaiting_sim_exact\u001b[1;34m(T, U, u, s, H)\u001b[0m\n\u001b[0;32m      2\u001b[0m     \u001b[1;32mreturn\u001b[0m \u001b[1;36m1\u001b[0m\u001b[1;33m/\u001b[0m\u001b[1;33m(\u001b[0m\u001b[0mN\u001b[0m \u001b[1;33m*\u001b[0m \u001b[0mappearance_cm_exact\u001b[0m\u001b[1;33m(\u001b[0m\u001b[0mT\u001b[0m\u001b[1;33m,\u001b[0m\u001b[0mU\u001b[0m\u001b[1;33m,\u001b[0m\u001b[0mu\u001b[0m\u001b[1;33m,\u001b[0m\u001b[0ms\u001b[0m\u001b[1;33m,\u001b[0m\u001b[0mH\u001b[0m\u001b[1;33m)\u001b[0m \u001b[1;33m*\u001b[0m \u001b[0mfixation_cm_exact\u001b[0m\u001b[1;33m(\u001b[0m\u001b[0mT\u001b[0m\u001b[1;33m,\u001b[0m\u001b[0mU\u001b[0m\u001b[1;33m,\u001b[0m\u001b[0mu\u001b[0m\u001b[1;33m,\u001b[0m\u001b[0ms\u001b[0m\u001b[1;33m,\u001b[0m\u001b[0mH\u001b[0m\u001b[1;33m)\u001b[0m\u001b[1;33m)\u001b[0m\u001b[1;33m\u001b[0m\u001b[0m\n\u001b[0;32m      3\u001b[0m \u001b[1;32mdef\u001b[0m \u001b[0mwaiting_sim_exact\u001b[0m\u001b[1;33m(\u001b[0m\u001b[0mT\u001b[0m\u001b[1;33m,\u001b[0m\u001b[0mU\u001b[0m\u001b[1;33m,\u001b[0m\u001b[0mu\u001b[0m\u001b[1;33m,\u001b[0m\u001b[0ms\u001b[0m\u001b[1;33m,\u001b[0m\u001b[0mH\u001b[0m\u001b[1;33m)\u001b[0m\u001b[1;33m:\u001b[0m\u001b[1;33m\u001b[0m\u001b[0m\n\u001b[1;32m----> 4\u001b[1;33m     \u001b[1;32mreturn\u001b[0m \u001b[1;36m1\u001b[0m\u001b[1;33m/\u001b[0m\u001b[1;33m(\u001b[0m\u001b[0mN\u001b[0m \u001b[1;33m*\u001b[0m \u001b[0mappearance_sim_exact\u001b[0m\u001b[1;33m(\u001b[0m\u001b[0mT\u001b[0m\u001b[1;33m,\u001b[0m\u001b[0mU\u001b[0m\u001b[1;33m,\u001b[0m\u001b[0mu\u001b[0m\u001b[1;33m,\u001b[0m\u001b[0ms\u001b[0m\u001b[1;33m,\u001b[0m\u001b[0mH\u001b[0m\u001b[1;33m)\u001b[0m \u001b[1;33m*\u001b[0m \u001b[0mfixation_sim_exact\u001b[0m\u001b[1;33m(\u001b[0m\u001b[0mT\u001b[0m\u001b[1;33m,\u001b[0m\u001b[0mU\u001b[0m\u001b[1;33m,\u001b[0m\u001b[0mu\u001b[0m\u001b[1;33m,\u001b[0m\u001b[0ms\u001b[0m\u001b[1;33m,\u001b[0m\u001b[0mH\u001b[0m\u001b[1;33m)\u001b[0m\u001b[1;33m)\u001b[0m\u001b[1;33m\u001b[0m\u001b[0m\n\u001b[0m",
        "\u001b[1;32m<ipython-input-18-54b3c69b77cb>\u001b[0m in \u001b[0;36mappearance_sim_exact\u001b[1;34m(T, U, u, s, H)\u001b[0m\n\u001b[0;32m      1\u001b[0m \u001b[1;32mdef\u001b[0m \u001b[0mappearance_sim_exact\u001b[0m\u001b[1;33m(\u001b[0m\u001b[0mT\u001b[0m\u001b[1;33m,\u001b[0m\u001b[0mU\u001b[0m\u001b[1;33m,\u001b[0m\u001b[0mu\u001b[0m\u001b[1;33m,\u001b[0m\u001b[0ms\u001b[0m\u001b[1;33m,\u001b[0m\u001b[0mH\u001b[0m\u001b[1;33m)\u001b[0m\u001b[1;33m:\u001b[0m\u001b[1;33m\u001b[0m\u001b[0m\n\u001b[1;32m----> 2\u001b[1;33m     \u001b[1;32mreturn\u001b[0m \u001b[0mu\u001b[0m\u001b[1;33m**\u001b[0m\u001b[1;36m2\u001b[0m \u001b[1;33m(\u001b[0m\u001b[0me\u001b[0m\u001b[1;33m**\u001b[0m\u001b[1;33m(\u001b[0m\u001b[1;33m-\u001b[0m\u001b[0mU\u001b[0m\u001b[1;33m*\u001b[0m\u001b[1;33m(\u001b[0m\u001b[1;36m1\u001b[0m\u001b[1;33m+\u001b[0m\u001b[1;36m1\u001b[0m\u001b[1;33m/\u001b[0m\u001b[0ms\u001b[0m\u001b[1;33m)\u001b[0m\u001b[1;33m)\u001b[0m \u001b[1;33m+\u001b[0m \u001b[1;33m(\u001b[0m\u001b[1;36m2\u001b[0m\u001b[1;33m*\u001b[0m\u001b[0mT\u001b[0m\u001b[1;33m/\u001b[0m\u001b[0ms\u001b[0m\u001b[1;33m)\u001b[0m \u001b[1;33m*\u001b[0m \u001b[0me\u001b[0m\u001b[1;33m**\u001b[0m\u001b[1;33m(\u001b[0m\u001b[1;33m-\u001b[0m\u001b[1;33m(\u001b[0m\u001b[0mu\u001b[0m\u001b[1;33m/\u001b[0m\u001b[0ms\u001b[0m\u001b[1;33m)\u001b[0m\u001b[1;33m*\u001b[0m\u001b[0mT\u001b[0m\u001b[1;33m*\u001b[0m\u001b[0mU\u001b[0m\u001b[1;33m)\u001b[0m\u001b[1;33m)\u001b[0m\u001b[1;33m\u001b[0m\u001b[0m\n\u001b[0m",
        "\u001b[1;31mTypeError\u001b[0m: 'int' object is not callable"
       ]
      }
     ],
     "prompt_number": 19
    },
    {
     "cell_type": "markdown",
     "metadata": {},
     "source": [
      "## Analytical approximation"
     ]
    },
    {
     "cell_type": "markdown",
     "metadata": {},
     "source": [
      "### Appearance probability\n",
      "#### CM\n",
      "\n",
      "$$\n",
      "q \\approx (1-\\tau U) (\\tau u)^2 + 2\\frac{\\tau u}{s} (1-\\tau U) \\tau u = \\\\\\\\\n",
      "(1-\\tau U) (\\tau u)^2 ( 1 + \\frac{2}{s} ) \\approx \\\\\\\\\n",
      "\\frac{2}{s} (1-\\tau U) (\\tau u)^2 \n",
      "$$"
     ]
    },
    {
     "cell_type": "code",
     "collapsed": false,
     "input": [
      "def appearance_cm_approx(T,U,u,s,H):\n",
      "    return (2/s) * (1- T * U) * (T*u)**2"
     ],
     "language": "python",
     "metadata": {},
     "outputs": [],
     "prompt_number": 12
    },
    {
     "cell_type": "code",
     "collapsed": false,
     "input": [
      "taus = logspace(0,2)\n",
      "plot(taus,[abs(appearance_cm_approx(T,U,u,s,H)-appearance_cm_exact(T,U,u,s,H))/appearance_cm_exact(T,U,u,s,H) for T in taus], linewidth=2.5);\n",
      "title(\"Approx. Error rate - CM appearance\");"
     ],
     "language": "python",
     "metadata": {},
     "outputs": [
      {
       "output_type": "display_data",
       "png": "[encoded data removed]",
       "text": [
        "<matplotlib.figure.Figure at 0x6ea8b38>"
       ]
      }
     ],
     "prompt_number": 16
    },
    {
     "cell_type": "markdown",
     "metadata": {},
     "source": [
      "#### SIM\n",
      "$$\n",
      "q = e^{-\\frac{U}{s}} e^{-U} u^2 + 2\\frac{u}{s} e^{-\\frac{u}{s}} e^{-\\tau U} \\tau u \\\\\\\\\n",
      "q \\approx (1-\\frac{U}{s}) (1-U) u^2 + 2\\tau  \\frac{u^2}{s} (1-\\tau U) = \\\\\\\\\n",
      "u^2 (1 - \\frac{U}{s} - U + \\frac{U^2}{s} + \\frac{2\\tau}{s} - \\frac{2\\tau^2 U}{s}) \\approx \\\\\\\\\n",
      "u^2 (1 - U + \\frac{2 \\tau - U - 2 \\tau^2 U }{s} ) \\approx \\\\\\\\\n",
      "u^2 (1 + \\frac{2}{s} \\tau (1 - \\tau U) ) \\approx \\\\\\\\\n",
      "$$"
     ]
    },
    {
     "cell_type": "markdown",
     "metadata": {},
     "source": [
      "## Stochastic simulations"
     ]
    },
    {
     "cell_type": "code",
     "collapsed": false,
     "input": [
      "f0 = array([1-2*u/s,u/s,u/s,0]) # ab,Ab,aB,AB\n",
      "M = array([[(1-u)**2, u*(1-u), u*(1-u), u**2] , \n",
      "[u*(1-u), (1-u)**2, u*(1-u), u*(1-u)], \n",
      "[u*(1-u), u*(1-u), (1-u)**2, u*(1-u)], \n",
      "[u**2, u*(1-u),u*(1-u), (1-u)**2]])"
     ],
     "language": "python",
     "metadata": {},
     "outputs": []
    },
    {
     "cell_type": "code",
     "collapsed": false,
     "input": [
      "def simulate(w):\n",
      "    S = diag(w)\n",
      "    iter = 0\n",
      "    end_iter = 0\n",
      "    f = [f0.copy()]\n",
      "    while end_iter <= 0.1*iter and iter < 1e10:\n",
      "        f_next = S.dot(M.dot(f[-1]))\n",
      "        f_next[:] = f_next/f_next.sum()\n",
      "        f_next[:] = multinomial(N, f_next)\n",
      "        f_next[:] = f_next/f_next.sum()\n",
      "        f += [f_next]\n",
      "        if f[-1][-1] > 0.95:\n",
      "            end_iter += 1\n",
      "        iter += 1\n",
      "    f = array(f)\n",
      "    g = transpose(array([f[:,0], f[:,1]+f[:,2], f[:,3]]))\n",
      "    return g"
     ],
     "language": "python",
     "metadata": {},
     "outputs": []
    },
    {
     "cell_type": "code",
     "collapsed": false,
     "input": [
      "def plot_freq(ax, data, title, num):\n",
      "    lines = ax.plot(data, linewidth=2.5)\n",
      "    ax.set_yscale('log')\n",
      "    #ax.set_xscale('log')\n",
      "    ax.set_ylim(-10, 10);\n",
      "    ax.set_xlim(-10, data.shape[0]*1.01)\n",
      "   # ax.set_xticklabels(fontsize=8, fontname ='arial')\n",
      "    if num % 3 == 2:\n",
      "        ax.set_xlabel(\"Generation\", fontsize=20, fontname ='arial')\n",
      "    if num % 3 == 1:\n",
      "        #ax.legend(lines, [\"ab\",\"Ab+aB\",\"AB\"], loc=3, prop={\"size\":20})\n",
      "        ax.set_ylabel(\"Log Frequency\", fontsize=20, fontname ='arial')\n",
      "    if num %3 == 2:\n",
      "        ax.set_title(title, fontsize=20, fontname ='arial')\n",
      "    ax.tick_params(axis='both', which='major', labelsize=12, direction=\"vertical\")"
     ],
     "language": "python",
     "metadata": {},
     "outputs": []
    },
    {
     "cell_type": "code",
     "collapsed": false,
     "input": [
      "w = array([1, 1-s, 1-s, 1+s*H])\n",
      "#f1,f2,f3 = simulate(w),simulate(w),simulate(w)\n",
      "f1 = simulate(w)"
     ],
     "language": "python",
     "metadata": {},
     "outputs": []
    },
    {
     "cell_type": "code",
     "collapsed": false,
     "input": [
      "fig = pyplot.figure(figsize=(10,8))\n",
      "ax = fig.add_subplot(1,1,1)\n",
      "plot_freq(ax, f1, \"Complex landscape\",1);\n",
      "#ax = fig.add_subplot(1,3,2)\n",
      "#plot_freq(ax, f2, \"\",2);\n",
      "#ax = fig.add_subplot(1,3,3)\n",
      "#plot_freq(ax, f3, \"\",3);"
     ],
     "language": "python",
     "metadata": {},
     "outputs": []
    },
    {
     "cell_type": "code",
     "collapsed": false,
     "input": [
      "w = array([1-s*H, 1-s, 1-s, 1])\n",
      "#g1,g2,g3 = simulate(w),simulate(w),simulate(w)\n",
      "g1 = simulate(w)"
     ],
     "language": "python",
     "metadata": {},
     "outputs": []
    },
    {
     "cell_type": "code",
     "collapsed": false,
     "input": [
      "fig = pyplot.figure(figsize=(10,8))\n",
      "ax = fig.add_subplot(1,1,1)\n",
      "plot_freq(ax, g1, \"Smooth landscape\",1);\n",
      "\n",
      "#ax = fig.add_subplot(1,3,2)\n",
      "#plot_freq(ax, g2, \"\",2);\n",
      "#ax = fig.add_subplot(1,3,3)\n",
      "#plot_freq(ax, g3, \"\",3);"
     ],
     "language": "python",
     "metadata": {},
     "outputs": []
    },
    {
     "cell_type": "code",
     "collapsed": false,
     "input": [
      "print f1.shape\n",
      "print g1.shape"
     ],
     "language": "python",
     "metadata": {},
     "outputs": []
    },
    {
     "cell_type": "code",
     "collapsed": false,
     "input": [
      "def W(g,U,s):\n",
      "    return e**(-U*(1-(1-s)**g))"
     ],
     "language": "python",
     "metadata": {},
     "outputs": []
    },
    {
     "cell_type": "code",
     "collapsed": false,
     "input": [
      "fig = pyplot.figure(figsize=(18,4))\n",
      "for i in range(1,4):\n",
      "    G = 1000\n",
      "    ax = fig.add_subplot(1,3,i)\n",
      "    ax.plot([W(g, U, 10**(-i+1)) for g in range(G)])\n",
      "    ax.plot([W(g, 5*U, 10**(-i+1)) for g in range(G)])\n",
      "    ax.plot([W(g, 10*U, 10**(-i+1)) for g in range(G)])\n",
      "    ax.set_xlabel(\"Generation\", fontsize=20, fontname ='arial')\n",
      "    ax.set_title(\"s=\"+str(10**(-i+1)), fontsize=20, fontname ='arial')\n",
      "ax.set_ylabel(\"Fitness\", fontsize=20, fontname ='arial');\n",
      "ax.legend([\"U=\"+str(U),\"U=\"+str(U*5), \"U=\"+str(U*10)]);"
     ],
     "language": "python",
     "metadata": {},
     "outputs": []
    },
    {
     "cell_type": "markdown",
     "metadata": {},
     "source": [
      "# Knitting"
     ]
    },
    {
     "cell_type": "markdown",
     "metadata": {},
     "source": [
      "## `model.md`"
     ]
    },
    {
     "cell_type": "code",
     "collapsed": false,
     "input": [
      "cd D:\\\\workspace\\\\work\\\\SIDEER2013"
     ],
     "language": "python",
     "metadata": {},
     "outputs": [
      {
       "output_type": "stream",
       "stream": "stdout",
       "text": [
        "D:\\workspace\\work\\SIDEER2013\n"
       ]
      }
     ],
     "prompt_number": 11
    },
    {
     "cell_type": "code",
     "collapsed": false,
     "input": [
      "!pandoc model.md --bibliography=model.bib -s -S -o model.pdf"
     ],
     "language": "python",
     "metadata": {},
     "outputs": [],
     "prompt_number": 12
    },
    {
     "cell_type": "code",
     "collapsed": false,
     "input": [],
     "language": "python",
     "metadata": {},
     "outputs": []
    }
   ],
   "metadata": {}
  }
 ]
}