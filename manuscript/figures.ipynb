{
 "metadata": {
  "name": "figures"
 },
 "nbformat": 3,
 "nbformat_minor": 0,
 "worksheets": [
  {
   "cells": [
    {
     "cell_type": "markdown",
     "metadata": {},
     "source": [
      "# Figures"
     ]
    },
    {
     "cell_type": "code",
     "collapsed": false,
     "input": [
      "import scipy.stats as st\n",
      "import gzip\n",
      "import pandas as pd\n",
      "import scipy.linalg as lin\n",
      "import matplotlib.gridspec as gridspec # http://matplotlib.org/users/gridspec.html\n",
      "numpy.set_printoptions(formatter={'float': lambda x: '%.4g' % x})"
     ],
     "language": "python",
     "metadata": {},
     "outputs": [],
     "prompt_number": 1
    },
    {
     "cell_type": "code",
     "collapsed": false,
     "input": [
      "from mpltools import style\n",
      "# http://colorbrewer2.org/index.php?type=qualitative&scheme=Set1&n=3\n",
      "red,blue,green = '#E41A1C', '#377EB8', '#4DAF4A'\n",
      "style.baselib['ggplot']['axes.color_cycle'] = red,blue,green\n",
      "style.use('ggplot')\n",
      "\n",
      "font = {'family' : 'sans-serif',\n",
      "        'size'   : 18\n",
      "    }\n",
      "matplotlib.rc('font', **font)\n",
      "matplotlib.rc('legend',**{'fontsize':24})\n",
      "rcParams['figure.figsize'] = 10,8\n",
      "annotate_fontize = 16\n",
      "line_label_fontsize= 24"
     ],
     "language": "python",
     "metadata": {},
     "outputs": [],
     "prompt_number": 2
    },
    {
     "cell_type": "code",
     "collapsed": false,
     "input": [
      "T = 10 # tau\n",
      "s = 0.05 # s = 0.01 # Kibota and Lynch 1996\n",
      "H = 2\n",
      "U = 0.0004 # Wielgoss et al. 2011\n",
      "# U = 0.003 # Drake 1991\n",
      "u = U * 0.2 / 1000 # Gordo, Perfeito, and Sousa 2011\n",
      "N = 1e6\n",
      "G = 25"
     ],
     "language": "python",
     "metadata": {},
     "outputs": [],
     "prompt_number": 3
    },
    {
     "cell_type": "code",
     "collapsed": false,
     "input": [
      "print U < s\n",
      "print s / u < N < (s / u) ** 2"
     ],
     "language": "python",
     "metadata": {},
     "outputs": [
      {
       "output_type": "stream",
       "stream": "stdout",
       "text": [
        "True\n",
        "True\n"
       ]
      }
     ],
     "prompt_number": 4
    },
    {
     "cell_type": "markdown",
     "metadata": {},
     "source": [
      "## Results"
     ]
    },
    {
     "cell_type": "markdown",
     "metadata": {},
     "source": [
      "Analytic approximations:"
     ]
    },
    {
     "cell_type": "code",
     "collapsed": false,
     "input": [
      "def appearance_cm_exact(T,U,u,s,H):\n",
      "    return (T * u)**2 * e**(-T * U/s - T * U) + 2 * ((T * u)**2 / s) * e**(-T * u/s - T * U)\n",
      "def appearance_simI_exact(T,U,u,s,H):\n",
      "    return u**2 * e**(-U/s - U) + 2 * T * (u**2 / s) * e**(-u/s - T * U)\n",
      "appearance_simII_exact = appearance_cm_exact\n",
      "def fixation_cm_exact(T,U,u,s,H):\n",
      "    return 2 * s * H / (1 + s * H)\n",
      "fixation_simI_exact = fixation_cm_exact\n",
      "def fixation_simII_exact(T,U,u,s,H):\n",
      "    return fixation_cm_exact(T,U,u,s,H) * (1 + U * (T - 1)/(s * H))\n",
      "def adaptation_rate_cm_exact(T,U,u,s,H):\n",
      "    return N * appearance_cm_exact(T,U,u,s,H) * fixation_cm_exact(T,U,u,s,H)\n",
      "def adaptation_rate_simI_exact(T,U,u,s,H):\n",
      "    return N * appearance_simI_exact(T,U,u,s,H) * fixation_cm_exact(T,U,u,s,H)\n",
      "def adaptation_rate_simII_exact(T,U,u,s,H):\n",
      "    return N * appearance_cm_exact(T,U,u,s,H) * fixation_simII_exact(T,U,u,s,H)\n",
      "\n",
      "def appearance_cm_approx(T,U,u,s,H):\n",
      "    return (1 - T * U) * (2 - T * U) * ((T * u)**2)/s\n",
      "def appearance_simI_approx(T,U,u,s,H):\n",
      "    return (1 - T * U) * 2 * T * (u**2)/s\n",
      "appearance_simII_approx = appearance_cm_approx\n",
      "def fixation_cm_approx(T,U,u,s,H):\n",
      "    return 2 * s * H\n",
      "fixation_simI_approx = fixation_cm_approx\n",
      "def fixation_simII_approx(T,U,u,s,H):\n",
      "    return fixation_cm_approx(T,U,u,s,H) * (1 + U * (T - 1)/(s * H))\n",
      "def adaptation_rate_cm_approx(T,U,u,s,H):\n",
      "    return 4 * N * H * u**2 * T ** 2\n",
      "def adaptation_rate_simI_approx(T,U,u,s,H):\n",
      "    return adaptation_rate_cm_approx(T,U,u,s,H) / T\n",
      "def adaptation_rate_simII_approx(T,U,u,s,H):\n",
      "    return adaptation_rate_cm_approx(T,U,u,s,H) * (1 + U * (T - 1) / (s * H))"
     ],
     "language": "python",
     "metadata": {},
     "outputs": [],
     "prompt_number": 5
    },
    {
     "cell_type": "markdown",
     "metadata": {},
     "source": [
      "Simulation results:"
     ]
    },
    {
     "cell_type": "code",
     "collapsed": false,
     "input": [
      "with gzip.open(r\"d:/workspace/ruggedsim/stochastic/appearances_pop1e%d.csv.gz\" % log10(N)) as f:\n",
      "    dfI = pd.read_csv(f)\n",
      "with gzip.open(r\"d:/workspace/ruggedsim/stochastic/appearances_pop1e%dII.csv.gz\" % log10(N)) as f:\n",
      "    dfII = pd.read_csv(f)\n",
      "dfI = dfI[dfI.pi!=1.01]\n",
      "df=pd.concat((dfI,dfII))"
     ],
     "language": "python",
     "metadata": {},
     "outputs": [],
     "prompt_number": 6
    },
    {
     "cell_type": "code",
     "collapsed": false,
     "input": [
      "xdf = df[df.U==U]\n",
      "xdf = xdf[xdf.s==s]\n",
      "xdf = xdf[xdf.pop_size==N]\n",
      "xdf_simI = xdf[xdf.pi==1]\n",
      "xdf_simII = xdf[xdf.pi==1.01]\n",
      "xdf_sim = pd.concat((xdf_simI,xdf_simII))\n",
      "xdf_cm = xdf[xdf.pi==10]\n",
      "print 'all',len(xdf)\n",
      "print 'sim',len(xdf_sim)\n",
      "print 'sim-I',len(xdf_simI)\n",
      "print 'sim-II',len(xdf_simII)\n",
      "print 'cm',len(xdf_cm)"
     ],
     "language": "python",
     "metadata": {},
     "outputs": [
      {
       "output_type": "stream",
       "stream": "stdout",
       "text": [
        "all 26439\n",
        "sim 18149\n",
        "sim-I 9115\n",
        "sim-II 9034\n",
        "cm 8290\n"
       ]
      }
     ],
     "prompt_number": 7
    },
    {
     "cell_type": "code",
     "collapsed": false,
     "input": [
      "taus = xdf['tau']\n",
      "taus = taus.unique()\n",
      "taus.sort()\n",
      "taus"
     ],
     "language": "python",
     "metadata": {},
     "outputs": [
      {
       "metadata": {},
       "output_type": "pyout",
       "prompt_number": 8,
       "text": [
        "array([ 1,  2,  5,  7, 10, 15, 20, 28, 35, 42, 50], dtype=int64)"
       ]
      }
     ],
     "prompt_number": 8
    },
    {
     "cell_type": "code",
     "collapsed": false,
     "input": [
      "# ADAPTATION TIME\n",
      "grouped_fname = xdf.groupby(['U','G','H','s','beta','pop_size','tau','pi','fname'])\n",
      "funcs = {}\n",
      "for k in xdf.keys():\n",
      "    funcs[k] = lambda x: x.unique()[0]\n",
      "T_df = grouped_fname.agg(funcs)\n",
      "grouped_T = T_df.groupby(['U','G','H','s','beta','pop_size','tau','pi'])\n",
      "\n",
      "adapt_time_mean = grouped_T.T.aggregate(np.mean).reset_index()\n",
      "adapt_time_se = (grouped_T.T.aggregate(np.std) / sqrt(grouped_T.T.size())).reset_index()\n",
      "\n",
      "# APPEARANCE TIME\n",
      "grouped = xdf.groupby(['U','H','s','pi','tau','pop_size'])\n",
      "\n",
      "app_time_mean = grouped.dif.aggregate(np.mean).reset_index()\n",
      "app_time_se = (grouped.dif.aggregate(np.std) / np.sqrt(grouped.dif.size())).reset_index()\n",
      "\n",
      "app_prob_mean = grouped.dif.aggregate(lambda arr: (1.0/(N*arr)).mean()).reset_index()\n",
      "app_prob_se = (grouped.dif.aggregate(lambda arr: (1.0/(N*arr)).std()) / (grouped.dif.size())).reset_index()\n",
      "\n",
      "# FIXATION TIME\n",
      "grouped_fname = xdf.groupby(['U','G','H','s','beta','pop_size','tau','pi','fname'])\n",
      "funcs = {}\n",
      "for k in xdf.keys():\n",
      "    if k == 'dif':\n",
      "        funcs[k] = len\n",
      "    else:\n",
      "        funcs[k] = lambda x: x.unique()[0]\n",
      "rho_df = grouped_fname.agg(funcs)\n",
      "grouped_rho = rho_df.groupby(['U','G','H','s','beta','pop_size','tau','pi'])\n",
      "\n",
      "fix_time_mean = grouped_rho.dif.aggregate(np.mean).reset_index()\n",
      "fix_time_se = (grouped_rho.dif.aggregate(np.std) / sqrt(grouped_rho.dif.size())).reset_index()\n",
      "\n",
      "fix_prob_mean = grouped_rho.dif.aggregate(lambda arr: (1.0/arr).mean()).reset_index()\n",
      "fix_prob_se = (grouped_rho.dif.aggregate(lambda arr: (1.0/arr).std()) / sqrt(grouped_rho.dif.size())).reset_index()"
     ],
     "language": "python",
     "metadata": {},
     "outputs": [],
     "prompt_number": 9
    },
    {
     "cell_type": "markdown",
     "metadata": {},
     "source": [
      "## Adaptation time, appearance and fixation probabilities"
     ]
    },
    {
     "cell_type": "code",
     "collapsed": false,
     "input": [
      "sizes = grouped_T.T.aggregate(np.size).reset_index()\n",
      "\n",
      "sim_fmt = '.'\n",
      "\n",
      "fig = figure(dpi=300,figsize=(10,8))\n",
      "ax = fig.add_subplot(111)\n",
      "\n",
      "ax.plot(taus,sizes[sizes.pi==10]['T'], 'o', markersize=10, label=\"CM\")\n",
      "ax.plot(taus,sizes[sizes.pi==1]['T'], 'o', markersize=10, label=\"SIM\")\n",
      "ax.plot(taus,sizes[sizes.pi==1.01]['T'], 'o', markersize=10, label=\"SIM2\")\n",
      "ax.set_xlabel(r\"$\\tau$\")\n",
      "ax.set_ylabel(\"Repititions\")\n",
      "ax.set_xlim((min(taus)-1,max(taus)+1))\n",
      "ax.set_xticks([1,10,20,30,40,50])\n",
      "ax.legend(loc=8)\n",
      "ax.set_title(\"# repitions per parameter set\")\n",
      "plt.setp(ax.get_xticklabels(), fontsize=annotate_fontize)\n",
      "plt.setp(ax.get_yticklabels(), fontsize=annotate_fontize)\n",
      ";"
     ],
     "language": "python",
     "metadata": {},
     "outputs": [
      {
       "metadata": {},
       "output_type": "pyout",
       "prompt_number": 12,
       "text": [
        "''"
       ]
      },
      {
       "metadata": {},
       "output_type": "display_data",
       "png": "[encoded data removed]",
       "text": [
        "<matplotlib.figure.Figure at 0x105157f0>"
       ]
      }
     ],
     "prompt_number": 12
    },
    {
     "cell_type": "markdown",
     "metadata": {},
     "source": [
      "## Adaptation time plots"
     ]
    },
    {
     "cell_type": "code",
     "collapsed": false,
     "input": [
      "approx_fmt = '-'\n",
      "sim_fmt = '.'\n",
      "\n",
      "fig = figure(dpi=300,figsize=(10,8))\n",
      "ax = fig.add_subplot(111)\n",
      "\n",
      "ax.plot(taus, [1./adaptation_rate_cm_approx(TT,U,u,s,H) for TT in taus], '--', linewidth=3, color=red, label=\"CM\", zorder=1)\n",
      "ax.errorbar(taus,adapt_time_mean[adapt_time_mean.pi==10]['T'], yerr=adapt_time_se[adapt_time_se.pi==10][0L], fmt='o', markersize=6, elinewidth=1, capsize=5,ecolor='k', zorder=2, color='k', label='CM')\n",
      "\n",
      "ax.plot(taus, [1./adaptation_rate_simI_approx(TT,U,u,s,H) for TT in taus], '-', linewidth=3, color=blue, label=\"SIM\", zorder=1)\n",
      "ax.errorbar(taus,adapt_time_mean[adapt_time_mean.pi==1]['T'], yerr=adapt_time_se[adapt_time_se.pi==1][0L], fmt='^', markersize=6, elinewidth=1, capsize=5, ecolor='k', color='k', zorder=2, label=\"SIM\")\n",
      "\n",
      "\n",
      "#p = ax.errorbar(taus,adapt_time_mean[adapt_time_mean.pi==1.01]['T'], yerr=adapt_time_se[adapt_time_se.pi==1.01][0L], fmt='x', markersize=10)\n",
      "#p[0].set_color(green)\n",
      "#ax.plot(taus, [1./adaptation_rate_simII_exact(TT,U,u,s,H) for TT in taus], '-.', linewidth=3, color=p[0].get_color(), label=\"SIM-II\")\n",
      "\n",
      "ax.set_ylim((-0.1*max(adapt_time_mean['T']),1.1*max(adapt_time_mean['T'])))\n",
      "ax.set_xlim((min(taus)-1,max(taus)+1))\n",
      "ax.set_xticks([1,10,20,30,40,50])\n",
      "#ax.set_yscale('log')\n",
      "#ax.set_xscale('log')\n",
      "#ax.legend()\n",
      "ax.set_xlabel(r\"Mutation rate fold increase - $\\tau$\")\n",
      "ax.set_ylabel('Adaptation time - generations')\n",
      "\n",
      "ax.text(1,adapt_time_mean['T'].max(), \" NM\", fontsize=line_label_fontsize)\n",
      "ax.text(45,-1500000, \"CM\", fontsize=line_label_fontsize, color=red)\n",
      "ax.text(45,1000000, \"SIM\", fontsize=line_label_fontsize, color=blue)\n",
      "\n",
      "plt.setp(ax.get_xticklabels(), fontsize=annotate_fontize)\n",
      "plt.setp(ax.get_yticklabels(), fontsize=annotate_fontize)\n",
      ";"
     ],
     "language": "python",
     "metadata": {},
     "outputs": [
      {
       "metadata": {},
       "output_type": "pyout",
       "prompt_number": 13,
       "text": [
        "''"
       ]
      },
      {
       "metadata": {},
       "output_type": "display_data",
       "png": "[encoded data removed]",
       "text": [
        "<matplotlib.figure.Figure at 0x147c2cf8>"
       ]
      }
     ],
     "prompt_number": 13
    },
    {
     "cell_type": "code",
     "collapsed": false,
     "input": [
      "fig.savefig(\"adaptation_s_%.2f_logN_%d.png\" % ( s, int(log10(N))))"
     ],
     "language": "python",
     "metadata": {},
     "outputs": [],
     "prompt_number": 14
    },
    {
     "cell_type": "code",
     "collapsed": false,
     "input": [
      "approx_fmt = '-'\n",
      "sim_fmt = '.'\n",
      "\n",
      "fig_log = figure(dpi=300,figsize=(10,8))\n",
      "ax = fig_log.add_subplot(111)\n",
      "\n",
      "ax.plot(taus, [1./adaptation_rate_cm_approx(TT,U,u,s,H) for TT in taus], '--', linewidth=3, color=red, label=\"CM\", zorder=1)\n",
      "ax.errorbar(taus,adapt_time_mean[adapt_time_mean.pi==10]['T'], yerr=adapt_time_se[adapt_time_se.pi==10][0L], fmt='o', markersize=6, elinewidth=1, capsize=5,ecolor='k', zorder=2, color='k', label='CM')\n",
      "\n",
      "ax.plot(taus, [1./adaptation_rate_simI_approx(TT,U,u,s,H) for TT in taus], '-', linewidth=3, color=blue, label=\"SIM\", zorder=1)\n",
      "ax.errorbar(taus,adapt_time_mean[adapt_time_mean.pi==1]['T'], yerr=adapt_time_se[adapt_time_se.pi==1][0L], fmt='^', markersize=6, elinewidth=1, capsize=5, ecolor='k', color='k', zorder=2, label=\"SIM\")\n",
      "\n",
      "\n",
      "#p = ax.errorbar(taus,adapt_time_mean[adapt_time_mean.pi==1.01]['T'], yerr=adapt_time_se[adapt_time_se.pi==1.01][0L], fmt='x', markersize=10)\n",
      "#p[0].set_color(green)\n",
      "#ax.plot(taus, [1./adaptation_rate_simII_exact(TT,U,u,s,H) for TT in taus], '-.', linewidth=3, color=p[0].get_color(), label=\"SIM-II\")\n",
      "\n",
      "ax.set_ylim((5e3, 2*max(adapt_time_mean['T'])))\n",
      "ax.set_xlim((min(taus)-0.1,max(taus)+5))\n",
      "ax.set_yscale('log')\n",
      "ax.set_xscale('log')\n",
      "ax.set_xticks([1,2,5,10,20,50])\n",
      "ax.set_xticklabels([1,2,5,10,20,50])\n",
      "\n",
      "ax.set_xlabel(r\"Log mutation rate fold increase - $\\tau$\")\n",
      "ax.set_ylabel('Log adaptation time - generations')\n",
      "ax.minorticks_off()\n",
      "\n",
      "ax.text(1,adapt_time_mean['T'].max()+3e6, \" NM\", fontsize=line_label_fontsize)\n",
      "ax.text(15,3e4, \"CM\", fontsize=line_label_fontsize, color=red)\n",
      "ax.text(15,6e5, \"SIM\", fontsize=line_label_fontsize, color=blue)\n",
      "\n",
      "\n",
      "plt.setp(ax.get_xticklabels(), fontsize=annotate_fontize)\n",
      "plt.setp(ax.get_yticklabels(), fontsize=annotate_fontize)\n",
      ";"
     ],
     "language": "python",
     "metadata": {},
     "outputs": [
      {
       "metadata": {},
       "output_type": "pyout",
       "prompt_number": 15,
       "text": [
        "''"
       ]
      },
      {
       "metadata": {},
       "output_type": "display_data",
       "png": "[encoded data removed]",
       "text": [
        "<matplotlib.figure.Figure at 0x13f1c550>"
       ]
      }
     ],
     "prompt_number": 15
    },
    {
     "cell_type": "code",
     "collapsed": false,
     "input": [
      "fig_log.savefig(\"log_adaptation_s_%.2f_logN_%d.png\" % ( s, int(log10(N))))"
     ],
     "language": "python",
     "metadata": {},
     "outputs": [],
     "prompt_number": 16
    },
    {
     "cell_type": "code",
     "collapsed": false,
     "input": [
      "approx_fmt = '-'\n",
      "sim_fmt = '.'\n",
      "\n",
      "fig = figure(dpi=300,figsize=(10,8))\n",
      "ax = fig.add_subplot(111)\n",
      "\n",
      "ax.plot(taus, [1./adaptation_rate_cm_approx(TT,U,u,s,H) for TT in taus], '--', linewidth=3, color=red, label=\"CM\", zorder=1)\n",
      "ax.errorbar(taus,adapt_time_mean[adapt_time_mean.pi==10]['T'], yerr=adapt_time_se[adapt_time_se.pi==10][0L], fmt='o', markersize=6, elinewidth=1, capsize=5,ecolor='k', zorder=2, color='k', label='CM')\n",
      "\n",
      "ax.plot(taus, [1./adaptation_rate_simI_approx(TT,U,u,s,H) for TT in taus], '-', linewidth=3, color=blue, label=\"SIM\", zorder=1)\n",
      "ax.errorbar(taus,adapt_time_mean[adapt_time_mean.pi==1]['T'], yerr=adapt_time_se[adapt_time_se.pi==1][0L], fmt='^', markersize=6, elinewidth=1, capsize=5, ecolor='k', color='k', zorder=2, label=\"SIM\")\n",
      "\n",
      "ax.set_ylim((-0.1*max(adapt_time_mean['T']),1.1*max(adapt_time_mean['T'])))\n",
      "ax.set_xlim((min(taus)-1,max(taus)+1))\n",
      "ax.set_xticks([1,10,20,30,40,50])\n",
      "ax.set_xlabel(r\"Mutation rate fold increase - $\\tau$\")\n",
      "ax.set_ylabel('Adaptation time - generations')\n",
      "\n",
      "ax.text(1,adapt_time_mean['T'].max(), \" NM\", fontsize=line_label_fontsize)\n",
      "ax.text(45,-1500000, \"CM\", fontsize=line_label_fontsize, color=red)\n",
      "ax.text(45,1000000, \"SIM\", fontsize=line_label_fontsize, color=blue)\n",
      "\n",
      "plt.setp(ax.get_xticklabels(), fontsize=annotate_fontize)\n",
      "plt.setp(ax.get_yticklabels(), fontsize=annotate_fontize)\n",
      "\n",
      "# Inset\n",
      "inset = plt.axes((0.5,0.5,0.35,0.35), frameon=False)\n",
      "\n",
      "inset.plot(taus, [1./adaptation_rate_cm_approx(TT,U,u,s,H) for TT in taus], '--', linewidth=3, \n",
      "           color=red, label=\"CM\", zorder=1)\n",
      "inset.errorbar(taus,adapt_time_mean[adapt_time_mean.pi==10]['T'], \n",
      "               yerr=adapt_time_se[adapt_time_se.pi==10][0L], fmt='o', markersize=6, \n",
      "               elinewidth=1, capsize=5,ecolor='k', zorder=2, color='k', label='CM')\n",
      "\n",
      "inset.plot(taus, [1./adaptation_rate_simI_approx(TT,U,u,s,H) for TT in taus], '-', linewidth=3, \n",
      "           color=blue, label=\"SIM\", zorder=1)\n",
      "inset.errorbar(taus,adapt_time_mean[adapt_time_mean.pi==1]['T'], \n",
      "               yerr=adapt_time_se[adapt_time_se.pi==1][0L], fmt='^', markersize=6, \n",
      "               elinewidth=1, capsize=5, ecolor='k', color='k', zorder=2, label=\"SIM\")\n",
      "\n",
      "\n",
      "#p = ax.errorbar(taus,adapt_time_mean[adapt_time_mean.pi==1.01]['T'], yerr=adapt_time_se[adapt_time_se.pi==1.01][0L], fmt='x', markersize=10)\n",
      "#p[0].set_color(green)\n",
      "#ax.plot(taus, [1./adaptation_rate_simII_exact(TT,U,u,s,H) for TT in taus], '-.', linewidth=3, color=p[0].get_color(), label=\"SIM-II\")\n",
      "\n",
      "inset.set_ylim((5e3, 2*max(adapt_time_mean['T'])))\n",
      "inset.set_xlim((min(taus)-0.1,max(taus)+5))\n",
      "inset.set_yscale('log')\n",
      "inset.set_xscale('log')\n",
      "inset.set_xticks([1,2,5,10,20,50])\n",
      "inset.set_xticklabels([1,2,5,10,20,50])\n",
      "\n",
      "inset.set_xlabel(r\"Log $\\tau$\", fontsize=line_label_fontsize/1.5)\n",
      "inset.set_ylabel('Log adaptation time', fontsize=line_label_fontsize/1.5)\n",
      "inset.minorticks_off()\n",
      "\n",
      "plt.setp(inset.get_xticklabels(), fontsize=annotate_fontize)\n",
      "plt.setp(inset.get_yticklabels(), fontsize=annotate_fontize)\n",
      ";"
     ],
     "language": "python",
     "metadata": {},
     "outputs": [
      {
       "metadata": {},
       "output_type": "pyout",
       "prompt_number": 17,
       "text": [
        "''"
       ]
      },
      {
       "metadata": {},
       "output_type": "display_data",
       "png": "[encoded data removed]",
       "text": [
        "<matplotlib.figure.Figure at 0x13f168d0>"
       ]
      }
     ],
     "prompt_number": 17
    },
    {
     "cell_type": "code",
     "collapsed": false,
     "input": [
      "fig.savefig(\"adaptation_with_inset_s_%.2f_logN_%d.png\" % ( s, int(log10(N))))"
     ],
     "language": "python",
     "metadata": {},
     "outputs": [],
     "prompt_number": 18
    },
    {
     "cell_type": "markdown",
     "metadata": {},
     "source": [
      "## Appearance comparison"
     ]
    },
    {
     "cell_type": "code",
     "collapsed": false,
     "input": [
      "approx_fmt = '-'\n",
      "sim_fmt = '.'\n",
      "\n",
      "fig = figure(dpi=300,figsize=(10,8))\n",
      "ax = fig.add_subplot(111)\n",
      "'''\n",
      "ax.plot(taus, [1./(N*appearance_cm_exact(TT,U,u,s,H)) for TT in taus], '--', linewidth=3, \n",
      "        color=red, label=\"CM\", zorder=1)\n",
      "ax.errorbar(taus,app_time_mean[app_time_mean.pi==10]['dif'], \n",
      "            yerr=app_time_se[app_time_se.pi==10][0L], fmt='o', markersize=6, \n",
      "            elinewidth=1, capsize=5,ecolor='k', zorder=2, color='k', label='CM')\n",
      "\n",
      "ax.plot(taus, [1./(N*appearance_simI_exact(TT,U,u,s,H)) for TT in taus], '-', linewidth=3, \n",
      "        color=blue, label=\"SIM\", zorder=1)\n",
      "ax.errorbar(taus,app_time_mean[app_time_mean.pi==1]['dif'], \n",
      "            yerr=app_time_se[app_time_se.pi==1][0L], fmt='^', markersize=6, \n",
      "            elinewidth=1, capsize=5, ecolor='k', color='k', zorder=2, label=\"SIM\")\n",
      "\n",
      "\n",
      "ax.set_ylim((-0.1*max(app_time_mean['dif']),1.1*max(app_time_mean['dif'])))\n",
      "ax.set_xlim((min(taus)-1,max(taus)+1))\n",
      "ax.set_xticks([1,10,20,30,40,50])\n",
      "ax.set_xlabel(r\"Mutation rate fold increase - $\\tau$\")\n",
      "ax.set_ylabel('Appearance time - generations')\n",
      "\n",
      "#ax.set_yticklabels([y*1000 for y in ax.get_yticks()])\n",
      "\n",
      "\n",
      "ax.text(1,app_time_mean['dif'].max(), \" NM\", fontsize=line_label_fontsize)\n",
      "ax.text(45,-300000, \"CM\", fontsize=line_label_fontsize, color=red)\n",
      "ax.text(45,200000, \"SIM\", fontsize=line_label_fontsize, color=blue)\n",
      "\n",
      "plt.setp(ax.get_xticklabels(), fontsize=annotate_fontize)\n",
      "plt.setp(ax.get_yticklabels(), fontsize=annotate_fontize)\n",
      "'''\n",
      "# Inset\n",
      "\n",
      "#inset = plt.axes((0.5,0.5,0.35,0.35), frameon=False)\n",
      "inset = ax\n",
      "inset.plot(taus, [1./(N*appearance_cm_approx(TT,U,u,s,H)) for TT in taus], '--', linewidth=3, \n",
      "           color=red, label=\"CM\", zorder=1)\n",
      "inset.errorbar(taus,app_time_mean[app_time_mean.pi==10]['dif'], \n",
      "               yerr=app_time_se[app_time_se.pi==10][0L], fmt='o', markersize=6, \n",
      "               elinewidth=1, capsize=5,ecolor='k', zorder=2, color='k', label='CM')\n",
      "\n",
      "inset.plot(taus, [1./(N*appearance_simI_approx(TT,U,u,s,H)) for TT in taus], '-', linewidth=3, \n",
      "           color=blue, label=\"SIM\", zorder=1)\n",
      "inset.errorbar(taus,app_time_mean[app_time_mean.pi==1]['dif'], \n",
      "               yerr=app_time_se[app_time_se.pi==1][0L], fmt='^', markersize=6, \n",
      "               elinewidth=1, capsize=5, ecolor='k', color='k', zorder=2, label=\"SIM\")\n",
      "\n",
      "inset.set_ylim((1e3, 1e7))\n",
      "inset.set_xlim((min(taus)-0.1,max(taus)+5))\n",
      "inset.set_yscale('log')\n",
      "inset.set_xscale('log')\n",
      "inset.set_xticks([1,2,5,10,20,50])\n",
      "inset.set_xticklabels([1,2,5,10,20,50])\n",
      "\n",
      "inset.set_xlabel(r\"Log mutation rate fold increae - $\\tau$\", fontsize=line_label_fontsize)\n",
      "inset.set_ylabel('Log appearance time - generations', fontsize=line_label_fontsize)\n",
      "inset.minorticks_off()\n",
      "\n",
      "ax.text(1,app_time_mean['dif'].max()+5e5, \" NM\", fontsize=line_label_fontsize)\n",
      "ax.text(15,6e3, \"CM\", fontsize=line_label_fontsize, color=red)\n",
      "ax.text(14,1.2e5, \"SIM\", fontsize=line_label_fontsize, color=blue)\n",
      "\n",
      "plt.setp(inset.get_xticklabels(), fontsize=annotate_fontize)\n",
      "plt.setp(inset.get_yticklabels(), fontsize=annotate_fontize)\n",
      "\n",
      ";"
     ],
     "language": "python",
     "metadata": {},
     "outputs": [
      {
       "metadata": {},
       "output_type": "pyout",
       "prompt_number": 19,
       "text": [
        "''"
       ]
      },
      {
       "metadata": {},
       "output_type": "display_data",
       "png": "[encoded data removed]",
       "text": [
        "<matplotlib.figure.Figure at 0x13f37550>"
       ]
      }
     ],
     "prompt_number": 19
    },
    {
     "cell_type": "code",
     "collapsed": false,
     "input": [
      "fig.savefig(\"log_appearance_s_%.2f_logN_%d.png\" % ( s, int(log10(N))))"
     ],
     "language": "python",
     "metadata": {},
     "outputs": [],
     "prompt_number": 20
    },
    {
     "cell_type": "markdown",
     "metadata": {},
     "source": [
      "## Plots of appearance, fixation and adaptation"
     ]
    },
    {
     "cell_type": "code",
     "collapsed": false,
     "input": [
      "def appearance_fixation_adaptation(PI,appearance,fixation,adaptation,color=blue):\n",
      "    approx_fmt = '-'\n",
      "    sim_fmt = 'ko'\n",
      "    \n",
      "    fig = figure(dpi=300,figsize=(8,16))\n",
      "    gs = gridspec.GridSpec(3,1, height_ratios=[2,1,2]) \n",
      "    x_axis_label = r\"Mutation rate fold increase ($\\tau$)\"\n",
      "    \n",
      "    # Adaptation\n",
      "    \n",
      "    ax = plt.subplot(gs[2])\n",
      "    \n",
      "    p = ax.plot(taus, [1./adaptation(TT,U,u,s,H) for TT in taus], approx_fmt, linewidth=3, label='Approximation')\n",
      "    p[0].set_color(color)\n",
      "    ax.errorbar(taus, adapt_time_mean[adapt_time_mean.pi==PI]['T'], yerr=adapt_time_se[adapt_time_se.pi==PI][0L], fmt='ok', label='Simulation', elinewidth=1, linewidth=3)\n",
      "    ax.set_xlabel(x_axis_label)\n",
      "    ax.set_ylabel('Adaptation time - generations')\n",
      "    ax.set_xlim((min(taus)-1,max(taus)+1))\n",
      "    ax.set_xticks([1,10,20,30,40,50])\n",
      "    ax.set_ylim((-0.1/adaptation(min(taus),U,u,s,H),1.1/adaptation(min(taus),U,u,s,H)))\n",
      "    plt.setp(ax.get_xticklabels(), fontsize=annotate_fontize)\n",
      "    plt.setp(ax.get_yticklabels(), fontsize=annotate_fontize)\n",
      "    \n",
      "    # Appearance\n",
      "    \n",
      "    ax = plt.subplot(gs[0])\n",
      "    \n",
      "    baseline = 1.0/(N*appearance(1,U,u,s,H))\n",
      "    p = ax.plot(taus, [(1.0/(N*appearance(TT,U,u,s,H)))/baseline for TT in taus], approx_fmt, linewidth=3, label='Approximation')\n",
      "    p[0].set_color(color)\n",
      "    baseline = float(app_time_mean[app_time_mean.pi==PI][app_time_mean.tau==1]['dif'])\n",
      "    ax.errorbar(taus, app_time_mean[app_time_mean.pi==PI]['dif']/baseline, yerr=app_time_se[app_time_se.pi==PI][0L]/baseline, fmt='ok', label='Simulation', elinewidth=1, linewidth=3)\n",
      "    \n",
      "    ax.set_ylabel('Appearance time\\nfold change\\n\\n', horizontalalignment=\"center\")\n",
      "    ax.set_xlim((min(taus)-1,max(taus)+1))\n",
      "    ax.set_xticks([1,10,20,30,40,50])\n",
      "    ax.set_xticklabels([])\n",
      "    ax.set_ylim((-0.1,1.1))\n",
      "    ax.set_yticks([0,0.25,0.5,0.75,1])\n",
      "    #ax.axhline(y=0.1, xmax=10, color='k', ls='--')\n",
      "    #ax.axvline(x=10, ymax=0.2, color='k', ls='--')\n",
      "    plt.setp(ax.get_xticklabels(), fontsize=annotate_fontize)\n",
      "    plt.setp(ax.get_yticklabels(), fontsize=annotate_fontize)\n",
      "    \n",
      "    ax.legend(loc=1)\n",
      "    \n",
      "    # Fixation\n",
      "    ax = plt.subplot(gs[1])\n",
      "    \n",
      "    baseline = 1.0/(fixation(1,U,u,s,H))\n",
      "    p = ax.plot(taus, [(1.0/fixation(TT,U,u,s,H))/baseline for TT in taus], approx_fmt, linewidth=3, label='Approximation')\n",
      "    p[0].set_color(color)\n",
      "    baseline = float(fix_time_mean[fix_time_mean.pi==PI][fix_time_mean.tau==1]['dif'])\n",
      "    ax.errorbar(taus, fix_time_mean[fix_time_mean.pi==PI]['dif']/baseline, yerr=fix_time_se[fix_time_se.pi==PI][0L]/baseline, fmt='ok', label='Simulation', elinewidth=1, linewidth=3)\n",
      "    \n",
      "    ax.set_ylabel('Fixation time\\nfold change\\n\\n', horizontalalignment=\"center\")\n",
      "    ax.set_xlim((min(taus)-1,max(taus)+1))\n",
      "    ax.set_ylim((0.25,1.75))\n",
      "    ax.set_yticks([0.5,0.75,1,1.25,1.5])\n",
      "    ax.set_yticklabels([0.5,'',1,'',1.5])\n",
      "    ax.set_xticks([1,10,20,30,40,50])\n",
      "    ax.set_xticklabels([])\n",
      "    plt.setp(ax.get_xticklabels(), fontsize=annotate_fontize)\n",
      "    plt.setp(ax.get_yticklabels(), fontsize=annotate_fontize)\n",
      "    \n",
      "    ax.annotate('(a)', xy=(15,1130), xycoords=\"figure points\", size=30)\n",
      "    ax.annotate('(b)', xy=(15,700), xycoords=\"figure points\", size=30)\n",
      "    ax.annotate('(c)', xy=(15,450), xycoords=\"figure points\", size=30)\n",
      "    \n",
      "    fig.tight_layout()\n",
      "    return fig"
     ],
     "language": "python",
     "metadata": {},
     "outputs": [],
     "prompt_number": 21
    },
    {
     "cell_type": "markdown",
     "metadata": {},
     "source": [
      "## Fixation regression analysis"
     ]
    },
    {
     "cell_type": "code",
     "collapsed": false,
     "input": [
      "import statsmodels.api as sm # GLM \n",
      "import scikits.bootstrap as bs #Bootstrap CI"
     ],
     "language": "python",
     "metadata": {},
     "outputs": [],
     "prompt_number": 10
    },
    {
     "cell_type": "code",
     "collapsed": false,
     "input": [
      "def fixation_regression(PI, fixation_function, ax=None, color=\"k\", annotate=True):\n",
      "    xs = rho_df[rho_df.pi==PI].tau\n",
      "    ys = rho_df[rho_df.pi==PI].dif\n",
      "    \n",
      "    # GLM: general linear model regression\n",
      "    X = sm.add_constant(xs, prepend=True)\n",
      "    glm_gamma = sm.GLM(ys, X, family=sm.families.Gamma())\n",
      "    glm_results = glm_gamma.fit()\n",
      "    b,a = glm_results.params\n",
      "    pval = glm_results.pvalues[1]\n",
      "    \n",
      "    # estimare rho and use bootstrap to calculate CI\n",
      "    taus = xs.unique()    \n",
      "    ys = ys.reset_index()    \n",
      "    rhos = ys.groupby('tau').dif.agg(estimate_rho)\n",
      "    errs = zeros(taus.shape)\n",
      "    errs = ys.groupby('tau').dif.agg(lambda arr: tuple(bs.ci(arr, estimate_rho, output='errorbar')))\n",
      "    errs = array([[x[0][0],x[1][0]] for x in errs.tolist()]).transpose()\n",
      "    \n",
      "    if ax == None:\n",
      "        fig = figure(figsize=(6,4))\n",
      "        ax = fig.add_subplot(111)\n",
      "    \n",
      "    ax.plot(taus, b + a * taus, '-', color=color, linewidth=2, label=\"Regression\")\n",
      "    ax.errorbar(taus, rhos, yerr=errs, fmt='o', color=color, elinewidth=2, capsize=5, label=\"Simulation\")\n",
      "    ax.plot(taus, [fixation_function(TT,U,u,s,H) for TT in taus],'--', linewidth=2, color=color, label=\"Approximation\")\n",
      "    if annotate:\n",
      "        ax.annotate('slope=%.4f, intercept=%.2f, P=%.4f' % (a,b,pval),(0.02,0.02), xycoords='axes fraction',fontsize=annotate_fontize)\n",
      "    plt.setp(ax.get_xticklabels(), fontsize=annotate_fontize)\n",
      "    plt.setp(ax.get_yticklabels(), fontsize=annotate_fontize)\n",
      "    return ax,a,b,pval"
     ],
     "language": "python",
     "metadata": {},
     "outputs": [],
     "prompt_number": 208
    },
    {
     "cell_type": "code",
     "collapsed": false,
     "input": [
      "annotate_xpos = 1\n",
      "annotate_ypos = 0.28\n",
      "\n",
      "fig = figure(figsize=(6,12))\n",
      "ax1 = fig.add_subplot(311)\n",
      "fixation_regression(10, fixation_cm_exact, ax1, red)\n",
      "ax1.set_xticklabels([])\n",
      "ax1.text(annotate_xpos,annotate_ypos,\"CM\",color=red, fontsize=line_label_fontsize)\n",
      "\n",
      "ax2 = fig.add_subplot(312)\n",
      "fixation_regression(1.0, fixation_simI_exact, ax2, blue)\n",
      "ax2.set_xticklabels([])\n",
      "ax2.set_ylabel(r\"Fixation probability - $\\rho$\")\n",
      "ax2.text(annotate_xpos,annotate_ypos,\"SIM\",color=blue, fontsize=line_label_fontsize)\n",
      "\n",
      "ax3 = fig.add_subplot(313)\n",
      "fixation_regression(1.01, fixation_simII_exact, ax3, green)\n",
      "ax3.set_xticks([1]+range(10,51,10))\n",
      "ax3.set_xticklabels([1]+range(10,51,10))\n",
      "ax3.set_xlabel(r\"Mutation rate fold increase - $\\tau$\")\n",
      "ax3.text(annotate_xpos,annotate_ypos,r\"SIM$_E$\",color=green, fontsize=line_label_fontsize)\n",
      "\n",
      "plt.setp((ax1,ax2,ax3), xlim=(0,51))\n",
      "plt.setp((ax1,ax2,ax3), ylim=(0.1,0.3))\n",
      "plt.setp((ax1,ax2,ax3), ymargin=0)\n",
      "plt.setp((ax1,ax2,ax3), yticks=arange(0.15,0.3,0.05))\n",
      "\n",
      "fig.subplots_adjust(left=None, bottom=0, right=None, top=None, wspace=None, hspace=0.25)\n",
      "fig.tight_layout(pad=0)"
     ],
     "language": "python",
     "metadata": {},
     "outputs": [],
     "prompt_number": "*"
    },
    {
     "cell_type": "code",
     "collapsed": false,
     "input": [
      "fig.savefig(\"fixation_regression_in_three_s_%.2f_logN_%d.png\" % ( s, int(log10(N))))"
     ],
     "language": "python",
     "metadata": {},
     "outputs": [],
     "prompt_number": 205
    },
    {
     "cell_type": "markdown",
     "metadata": {},
     "source": [
      "# Trade-off"
     ]
    },
    {
     "cell_type": "code",
     "collapsed": false,
     "input": [
      "def mean_fitness(T,U,u,s,H,G=25,PI=1):\n",
      "    w = (1-s)**arange(G)\n",
      "    M = repeat(w,G).reshape(G,G).transpose()\n",
      "    for i in arange(G):\n",
      "        for j in arange(G):\n",
      "            if j >= PI:\n",
      "                tau = T\n",
      "            else:\n",
      "                tau = 1\n",
      "            #print j,'->',i,':',\n",
      "            if j <= i:\n",
      "                #print '%.5g' % d_poi.pmf(i-j)\n",
      "                M[i,j] *= st.poisson(tau * U).pmf(i-j)\n",
      "            if j > i:\n",
      "                #print '%.5g' % b_poi.pmf(j-i)\n",
      "                M[i,j] *= st.poisson(tau * u).pmf(j-i)\n",
      "    #print M\n",
      "    return max(lin.eigvals(M)).real"
     ],
     "language": "python",
     "metadata": {},
     "outputs": []
    },
    {
     "cell_type": "code",
     "collapsed": false,
     "input": [
      "print T,U,u,s,H,log10(N),G\n",
      "taus = array(sorted(np.concatenate(([3,7,9,10,20,60,100],linspace(1,s/U,100)))))\n",
      "print taus.max()"
     ],
     "language": "python",
     "metadata": {},
     "outputs": []
    },
    {
     "cell_type": "code",
     "collapsed": false,
     "input": [
      "w_cm = array([mean_fitness(TT,U,u,s,H,G,PI=0) for TT in taus if TT < 12]) / mean_fitness(1,U,u,s,H,G,PI=0)\n",
      "w_sim = array([mean_fitness(TT,U,u,s,H,G,PI=1) for TT in taus]) / mean_fitness(1,U,u,s,H,G,PI=0)\n",
      "nu_cm = array([adaptation_rate_cm_approx(TT,U,u,s,H) for TT in taus if TT < 12]) / adaptation_rate_cm_approx(1,U,u,s,H)\n",
      "nu_simI = array([adaptation_rate_simI_approx(TT,U,u,s,H) for TT in taus]) / adaptation_rate_simI_approx(1,U,u,s,H)\n",
      "#nu_simII = array([adaptation_rate_simII_exact(TT,U,u,s,H) for TT in taus]) / adaptation_rate_simII_exact(1,U,u,s,H)"
     ],
     "language": "python",
     "metadata": {},
     "outputs": []
    },
    {
     "cell_type": "code",
     "collapsed": false,
     "input": [
      "T1s = linspace(1,10,10)\n",
      "w_sim_mixed = []\n",
      "nu_simI_mixed = []\n",
      "\n",
      "for T1 in T1s:\n",
      "    T2 = 100/(T1**2)\n",
      "    w_sim_mixed.append(mean_fitness(T2,T1*U,T1*u,s,H,G,PI=1))\n",
      "    nu_simI_mixed.append(adaptation_rate_simI_approx(T2,T1*U,T1*u,s,H)) \n",
      "\n",
      "w_sim_mixed = array(w_sim_mixed) / mean_fitness(1,U,u,s,H,G,PI=0)\n",
      "nu_simI_mixed = array(nu_simI_mixed) / adaptation_rate_simI_approx(1,U,u,s,H)"
     ],
     "language": "python",
     "metadata": {},
     "outputs": []
    },
    {
     "cell_type": "code",
     "collapsed": false,
     "input": [
      "fig = figure()\n",
      "ax = fig.add_subplot(111)\n",
      "\n",
      "cm,simI,nm,mixed = ax.plot(w_cm,nu_cm,'-',w_sim,nu_simI,'-',w_cm[0],nu_cm[0],'ko',w_sim_mixed,nu_simI_mixed,'--',linewidth=3)\n",
      "mixed.set_color(green)\n",
      "ax.set_xlabel(r'Mean fitness relative to NM', fontsize=line_label_fontsize)\n",
      "ax.set_ylabel(r'Adaptation rate relative to NM', fontsize=line_label_fontsize)\n",
      "ax.set_ylim((0,120))\n",
      "ax.set_xlim((0.996, 1.0007))\n",
      "yticks = ax.get_yticks()\n",
      "yticks[0] = 1\n",
      "ax.set_yticks(yticks)\n",
      "\n",
      "for T in [3,7,9]:\n",
      "    i = taus.tolist().index(T)\n",
      "    ax.text(w_cm[i], nu_cm[i], r'  $\\tau_{CM}=%d$' % taus[i], fontsize=annotate_fontize)\n",
      "    ax.plot(w_cm[i], nu_cm[i], 'ko')\n",
      "for T in [20,60,100]:\n",
      "    i = taus.tolist().index(T)\n",
      "    ax.text(w_sim[i], nu_simI[i], r'  $\\tau_{SIM}=%d$' % taus[i], fontsize=annotate_fontize)\n",
      "    if T == 100:\n",
      "        ax.text(w_sim[i], nu_simI[i]-5, r'  $\\tau_{CM}=1$', fontsize=annotate_fontize)\n",
      "    ax.plot(w_sim[i], nu_simI[i], 'ko')\n",
      "        \n",
      "for T1 in [3,7,10]:\n",
      "    i = T1s.tolist().index(T1)\n",
      "    ax.text(w_sim_mixed[i], nu_simI_mixed[i]+3, r'$\\tau_{CM}=%d$' % T1, fontsize=annotate_fontize)\n",
      "    ax.text(w_sim_mixed[i], nu_simI_mixed[i]+8, r'$\\tau_{SIM}=%.3g$' % (100.0/(T1**2)), fontsize=annotate_fontize)\n",
      "    ax.plot(w_sim_mixed[i], nu_simI_mixed[i], 'ko')\n",
      "    \n",
      "ax.text(w_cm[0],nu_cm[0], \" NM\", color='k', fontsize=line_label_fontsize)\n",
      "ax.text(0.9968,61,\"CM\",color=red, fontsize=line_label_fontsize)\n",
      "ax.text(0.9996,61,\"SIM\",color=blue, fontsize=line_label_fontsize)\n",
      "ax.text(0.9981,89,r\"Mixed\",color=green, fontsize=line_label_fontsize)\n",
      "#ax.set_title(\"U=%.2g, u=%.2g, s=%.2f, H=%d, logN=%d\" % (U,u,s,H,log10(N)))\n",
      "\n",
      "plt.setp(ax.get_xticklabels(), fontsize=annotate_fontize)\n",
      "plt.setp(ax.get_yticklabels(), fontsize=annotate_fontize)\n",
      "\n",
      ";"
     ],
     "language": "python",
     "metadata": {},
     "outputs": []
    },
    {
     "cell_type": "code",
     "collapsed": false,
     "input": [
      "fig.savefig(\"tradeoff_s_%.2f_logN_%d.png\" % ( s, int(log10(N))))"
     ],
     "language": "python",
     "metadata": {},
     "outputs": []
    },
    {
     "cell_type": "markdown",
     "metadata": {},
     "source": [
      "#### Mean fitness comparison"
     ]
    },
    {
     "cell_type": "code",
     "collapsed": false,
     "input": [
      "print \"NM:\", mean_fitness(1,U,u,s,H,G,PI=0) #/ mean_fitness(1,U,u,s,H,G,PI=0)\n",
      "print \"CM 10:\", mean_fitness(10,U,u,s,H,G,PI=0) #/ mean_fitness(1,U,u,s,H,G,PI=0)\n",
      "print \"SIM 100:\", mean_fitness(100,U,u,s,H,G,PI=1) #/ mean_fitness(1,U,u,s,H,G,PI=0)\n",
      "print \"Mixed 7-2:\", mean_fitness(2.04,7*U,7*u,s,H,G,PI=1) #/ mean_fitness(1,U,u,s,H,G,PI=0)"
     ],
     "language": "python",
     "metadata": {},
     "outputs": []
    },
    {
     "cell_type": "markdown",
     "metadata": {},
     "source": [
      "# Mean fitness"
     ]
    },
    {
     "cell_type": "code",
     "collapsed": false,
     "input": [
      "ys = linspace(2,50,15)\n",
      "xs = logspace(-5,-1,15)\n",
      "print ys\n",
      "print xs"
     ],
     "language": "python",
     "metadata": {},
     "outputs": []
    },
    {
     "cell_type": "code",
     "collapsed": false,
     "input": [
      "mf = [[mean_fitness(ys[i],U,U*xs[j],s,H,G=25,PI=1) / mean_fitness(1,U,U*xs[j],s,H,G=25,PI=0) for j in range(len(xs))] for i in range(len(ys))]\n",
      "mf = array(mf)-1"
     ],
     "language": "python",
     "metadata": {},
     "outputs": []
    },
    {
     "cell_type": "code",
     "collapsed": false,
     "input": [
      "b = u/U\n",
      "am = (xs < b).argmin()\n",
      "xb = am-1 + (b-xs[am-1])/(xs[am]-xs[am-1])"
     ],
     "language": "python",
     "metadata": {},
     "outputs": []
    },
    {
     "cell_type": "code",
     "collapsed": false,
     "input": [
      "t = 10\n",
      "am = (ys < t).argmin()\n",
      "yt = am-1 + (t-ys[am-1])/(ys[am]-ys[am-1])"
     ],
     "language": "python",
     "metadata": {},
     "outputs": []
    },
    {
     "cell_type": "code",
     "collapsed": false,
     "input": [
      "print xs\n",
      "print [10**x for x in range(-5,0)]"
     ],
     "language": "python",
     "metadata": {},
     "outputs": []
    },
    {
     "cell_type": "code",
     "collapsed": false,
     "input": [
      "extent = (-0.5,len(xs)-0.5,-0.5,len(ys))\n",
      "\n",
      "fig = figure()\n",
      "ax = fig.add_subplot(111)\n",
      "\n",
      "im = ax.imshow(mf,aspect=1,norm=matplotlib.colors.LogNorm(),cmap=matplotlib.cm.YlOrRd,origin=(0,0),extent=extent)\n",
      "\n",
      "#cntr = ax.contourf(mf,aspect=1,norm=matplotlib.colors.LogNorm(),cmap=matplotlib.cm.YlOrRd)\n",
      "cb = colorbar(im);\n",
      "cntr = ax.contour(mf,levels=logspace(-10,-6,5),aspect=1,norm=matplotlib.colors.LogNorm(),linewidths=0.5,colors='k',extent=extent)\n",
      "ax.clabel(cntr, fmt=lambda x: r'$10^{%d}$' % log10(x), fontsize=annotate_fontize, colors=\"#252525\")\n",
      "cb.set_label(\"Relative fitness advantage\", rotation=270, fontsize=line_label_fontsize)\n",
      "\n",
      "ax.set_xlabel(r\"Beneficial mutation fraction - $\\beta$\", fontsize=line_label_fontsize)\n",
      "ax.set_ylabel(r\"Mutation rate increase - $\\tau$\", fontsize=line_label_fontsize)\n",
      "ax.xaxis.grid(False)\n",
      "ax.yaxis.grid(False)\n",
      "ax.set_xlim((-0.5,len(xs) - 0.5))\n",
      "ax.set_xticks([i*14.0/4 for i in range(5)])\n",
      "ax.set_xticklabels([r'$10^{%d}$' % x for x in range(-5,0)])\n",
      "ax.set_ylim((-0.5,len(ys) - 0.5))\n",
      "ax.set_yticks([i*14.0/5 for i in range(6)])\n",
      "ax.set_yticklabels(['%d' % y for y in [2,10,20,30,40,50]])\n",
      "plt.setp(ax.get_xticklabels(), fontsize=annotate_fontize)\n",
      "plt.setp(ax.get_yticklabels(), fontsize=annotate_fontize)\n",
      "\n",
      "ax.text(xb,yt,r\"X\")\n",
      ";"
     ],
     "language": "python",
     "metadata": {},
     "outputs": []
    },
    {
     "cell_type": "code",
     "collapsed": false,
     "input": [
      "fig.savefig(\"mean_fitness_tau_u.png\", dpi=100)"
     ],
     "language": "python",
     "metadata": {},
     "outputs": []
    },
    {
     "cell_type": "code",
     "collapsed": false,
     "input": [
      "mean_fitness(10,U,u,s,H,G=25,PI=1) / mean_fitness(1,U,u,s,H,G=25,PI=0) - 1 "
     ],
     "language": "python",
     "metadata": {},
     "outputs": []
    },
    {
     "cell_type": "markdown",
     "metadata": {},
     "source": [
      "# Muller's ratchet"
     ]
    },
    {
     "cell_type": "code",
     "collapsed": false,
     "input": [
      "def mutation_matrix(T,U,u,s,H,G=25,PI=1):\n",
      "    w = (1-s)**arange(G)\n",
      "    M = repeat(w,G).reshape(G,G).transpose()\n",
      "    for i in arange(G):\n",
      "        for j in arange(G):\n",
      "            if j >= PI:\n",
      "                tau = T\n",
      "            else:\n",
      "                tau = 1\n",
      "            #print j,'->',i,':',\n",
      "            if j <= i:\n",
      "                #print '%.5g' % d_poi.pmf(i-j)\n",
      "                M[i,j] *= st.poisson(tau * U).pmf(i-j)\n",
      "            if j > i:\n",
      "                #print '%.5g' % b_poi.pmf(j-i)\n",
      "                M[i,j] *= st.poisson(tau * u).pmf(j-i)\n",
      "    return M"
     ],
     "language": "python",
     "metadata": {},
     "outputs": []
    },
    {
     "cell_type": "code",
     "collapsed": false,
     "input": [
      "def stable_frequencies(T,U,u,s,H,G=25,PI=1):\n",
      "    M = mutation_matrix(T,U,u,s,H,G,PI)\n",
      "    val,vec = lin.eig(M)\n",
      "    v = -vec[:,0]\n",
      "    #print (v >= 0).all()\n",
      "    v /= v.sum()\n",
      "    #print np.allclose(v.sum(), 1)\n",
      "    #print np.allclose((M.dot(v)) , val[0]*v)\n",
      "    return v"
     ],
     "language": "python",
     "metadata": {},
     "outputs": []
    },
    {
     "cell_type": "code",
     "collapsed": false,
     "input": [
      "f_nm = stable_frequencies(1,U,u,s,H,G,0)\n",
      "f_cm = stable_frequencies(10,U,u,s,H,G,0)[0]\n",
      "f_sim = stable_frequencies(10,U,u,s,H,G,1)[0] "
     ],
     "language": "python",
     "metadata": {},
     "outputs": []
    },
    {
     "cell_type": "code",
     "collapsed": false,
     "input": [
      "f_cm/ f_nm[0],f_sim/ f_nm[0]"
     ],
     "language": "python",
     "metadata": {},
     "outputs": []
    },
    {
     "cell_type": "code",
     "collapsed": false,
     "input": [
      "def ratchet_click(T,U,u,s,H,G,PI,N,repeats=10):\n",
      "    M = mutation_matrix(T,U,u,s,H,G,PI)\n",
      "    generations = []\n",
      "    for i in range(repeats):\n",
      "        f = stable_frequencies(T,U,u,s,H,G,PI)\n",
      "        tick = 0\n",
      "        while f[0] > 0:\n",
      "            if tick % 1000 == 0: \n",
      "                pass#print tick, f[0]\n",
      "            tick += 1\n",
      "            f = M.dot(f)\n",
      "            f = multinomial(N, f).astype(f_nm.dtype)\n",
      "            f = f/f.sum()\n",
      "        #print tick, f[0]\n",
      "        generations.append(tick)\n",
      "    return generations, mean(generations), std(generations)"
     ],
     "language": "python",
     "metadata": {},
     "outputs": []
    },
    {
     "cell_type": "code",
     "collapsed": false,
     "input": [
      "repeats = 1000\n",
      "a,m_nm,m_nm_std = ratchet_click(1,U,u,s,H,G,0,N,repeats)\n",
      "a,m_cm,m_cm_std = ratchet_click(10,U,u,s,H,G,0,N,10)\n",
      "a,m_sim,m_sim_std = ratchet_click(10,U,u,s,H,G,1,N,repeats)"
     ],
     "language": "python",
     "metadata": {},
     "outputs": []
    },
    {
     "cell_type": "code",
     "collapsed": false,
     "input": [
      "m_nm,m_cm,m_sim\n",
      "errorbar([1,2,3],[m_nm,m_cm,m_sim], [m_nm_std/sqrt(repeats),m_cm_std/sqrt(10),m_sim_std/sqrt(repeats)], fmt='ko')\n",
      "xlim((0,4))\n",
      "xticks([1,2,3],['NM','CM','SIM'])\n",
      "ylim((17000,19000))\n",
      "axhline(y=m_nm+(m_sim-m_nm)/2.0,color='k',linewidth=0.5)\n",
      "ylabel(\"Time to first click\")\n",
      "savefig(\"ratchet.png\")"
     ],
     "language": "python",
     "metadata": {},
     "outputs": []
    },
    {
     "cell_type": "markdown",
     "metadata": {},
     "source": [
      "# Fitness landscapes"
     ]
    },
    {
     "cell_type": "markdown",
     "metadata": {},
     "source": [
      "[PyDot](https://github.com/y-p/pydot): Python interface to [Graphviz Dot](http://www.graphviz.org/Documentation/dotguide.pdf). For this to work with IPython Notebook you need to install the code from GitHub rather than use `pip` etc. "
     ]
    },
    {
     "cell_type": "code",
     "collapsed": false,
     "input": [
      "import pydot\n",
      "fontname = \"calibri\"\n",
      "G = 3"
     ],
     "language": "python",
     "metadata": {},
     "outputs": []
    },
    {
     "cell_type": "markdown",
     "metadata": {},
     "source": [
      "[Colors](http://colorbrewer2.org/index.php?type=sequential&scheme=YlGn&n=9) from [ColorBrewer](http://colorbrewer2.org/)"
     ]
    },
    {
     "cell_type": "code",
     "collapsed": false,
     "input": [
      "colors = '0xFFFFE5; 0xFFF7BC; 0xFEE391; 0xFEC44F; 0xFE9929; 0xEC7014; 0xCC4C02; 0x993404; 0x662506; 0x331608;'\n",
      "colors = colors.split(';')\n",
      "colors = [c.replace('0x','#').strip() for c in colors[:-1]]\n",
      "colors"
     ],
     "language": "python",
     "metadata": {},
     "outputs": []
    },
    {
     "cell_type": "code",
     "collapsed": false,
     "input": [
      "class Genotype:\n",
      "    def __init__(self, Aa, Bb, num_deleterious=0):\n",
      "        self.Aa = Aa\n",
      "        self.Bb = Bb\n",
      "        self.num_deleterious = num_deleterious\n",
      "        self.name = Aa+Bb\n",
      "        if num_deleterious > -1:\n",
      "            self.name += '/' + str(num_deleterious)\n",
      "        if Aa == 'A' and Bb == 'B':\n",
      "            self.fitness = (1 - s) ** num_deleterious * (1 + s * H)\n",
      "        elif Aa == 'A' or Bb == 'B':\n",
      "            self.fitness = (1 - s) ** (num_deleterious + 1)\n",
      "        else:\n",
      "            self.fitness = (1 - s) ** num_deleterious\n",
      "        self.color = '#ffffff'\n",
      "        self.sons = []\n",
      "        if num_deleterious < G:\n",
      "            self.sons.append(Genotype(Aa, Bb, num_deleterious + 1))\n",
      "        if Aa.islower():\n",
      "            self.sons.append(Genotype(Aa.upper(), Bb, num_deleterious))\n",
      "        if Bb.islower():\n",
      "            self.sons.append(Genotype(Aa, Bb.upper(), num_deleterious))\n",
      "    def __repr__(self):\n",
      "        return self.name\n",
      "    \n",
      "    def set_color(self, color):\n",
      "        self.color = color\n",
      "        \n",
      "    def to_node(self):\n",
      "        style = 'filled'\n",
      "        shape = \"ellipse\"\n",
      "        if self.fitness >= 1: \n",
      "            style = '\"' + style + '\"'\n",
      "            shape = \"rect\"\n",
      "        if self.fitness == 1 + s * H:\n",
      "            style = '\"diagonals,' + style[1:]\n",
      "        node = pydot.Node(self.name, style=style, fillcolor=self.color, fontname=fontname, shape=shape)\n",
      "        if self.fitness < (1 - s) ** 3: \n",
      "            node.set_fontcolor('#CCCC9A')\n",
      "        return node\n",
      "    \n",
      "    def __eq__(self, other):\n",
      "        return self.name == other.name\n",
      "    \n",
      "    def all_paths(self):\n",
      "        if len(self.sons) == 0:\n",
      "            return [self]\n",
      "        sibs = self.sons + [self]\n",
      "        for g in self.sons:            \n",
      "            sibs.extend([s for s in g.all_paths() if s not in sibs])\n",
      "        return sibs\n",
      "    \n",
      "    def is_leaf(self):\n",
      "        return self.num_deleterious == G"
     ],
     "language": "python",
     "metadata": {},
     "outputs": []
    },
    {
     "cell_type": "code",
     "collapsed": false,
     "input": [
      "ab = Genotype('a','b',0)\n",
      "genotypes = sorted(ab.all_paths(), key=lambda x: x.name)\n",
      "fitness = sorted(unique([g.fitness for g in genotypes]), reverse=True)\n",
      "print len(fitness)\n",
      "print fitness\n",
      "fitness_to_color = { w:colors[i] for i,w in enumerate(fitness) }    \n",
      "for g in genotypes:\n",
      "    g.set_color(fitness_to_color[g.fitness])"
     ],
     "language": "python",
     "metadata": {},
     "outputs": []
    },
    {
     "cell_type": "markdown",
     "metadata": {},
     "source": [
      "### Stochastic model"
     ]
    },
    {
     "cell_type": "code",
     "collapsed": false,
     "input": [
      "graph = pydot.Dot(graph_type='digraph',strict=True)\n",
      "for g in genotypes:\n",
      "    node = g.to_node()\n",
      "    graph.add_node(node)\n",
      "    \n",
      "for g in genotypes:\n",
      "    if g.is_leaf():\n",
      "        node = pydot.Node(g.name + '...')\n",
      "        node.set_label('...')\n",
      "        node.set_style('filled')\n",
      "        node.set_fillcolor(colors[-1])\n",
      "        node.set_fontcolor('#CCCC9A')\n",
      "        node.set_fontname(fontname)\n",
      "        graph.add_node(node)\n",
      "        edge = pydot.Edge(g.to_node(), node)\n",
      "        edge.set_label(' U')\n",
      "        edge.set_style('dashed')\n",
      "        edge.set_fontname(fontname)\n",
      "        graph.add_edge(edge)\n",
      "    for gs in g.sons:\n",
      "        edge = pydot.Edge(g.to_node(), gs.to_node())\n",
      "        if g.name[:2] == gs.name[:2]:\n",
      "            edge.set_label(' U')\n",
      "            edge.set_style('dashed')\n",
      "\n",
      "        else:\n",
      "            edge.set_label(u\" \\u03BC\")\n",
      "        edge.set_fontname(fontname)\n",
      "        graph.add_edge(edge)\n",
      "graph.set_ratio(2./1)\n",
      "graph"
     ],
     "language": "python",
     "metadata": {},
     "outputs": []
    },
    {
     "cell_type": "code",
     "collapsed": false,
     "input": [
      "graph.set_dpi(300)\n",
      "graph.write_png(\"fitness_landscape_stochastic_model.png\")\n",
      "#! fitness_landscape_stochastic_model.png"
     ],
     "language": "python",
     "metadata": {},
     "outputs": []
    },
    {
     "cell_type": "markdown",
     "metadata": {},
     "source": [
      "### Analytic model"
     ]
    },
    {
     "cell_type": "code",
     "collapsed": false,
     "input": [
      "def no_del(node):\n",
      "    node.set_name(node.get_name()[1:3])\n",
      "    return node"
     ],
     "language": "python",
     "metadata": {},
     "outputs": []
    },
    {
     "cell_type": "code",
     "collapsed": false,
     "input": [
      "graph = pydot.Dot(graph_type='digraph',strict=True)\n",
      "\n",
      "rip = pydot.Node(\"RIP\", style=\"filled\", fillcolor=colors[-3], fontname=fontname)\n",
      "graph.add_node(rip)\n",
      "\n",
      "for g in [x for x in genotypes if x.num_deleterious == 0]:\n",
      "    graph.add_node(no_del(g.to_node()))\n",
      "\n",
      "for g in [x for x in genotypes if x.num_deleterious == 0]:\n",
      "    for gs in [x for x in g.sons if x.num_deleterious == 0]:\n",
      "        # single beneficial mutations\n",
      "        edge = pydot.Edge(no_del(g.to_node()), no_del(gs.to_node()))\n",
      "        edge.set_label(u\" \\u03BC\")\n",
      "        edge.set_fontname(fontname)\n",
      "        graph.add_edge(edge)\n",
      "    # deleterious mutation\n",
      "    edge = pydot.Edge(no_del(g.to_node()), rip)\n",
      "    edge.set_label(' U')\n",
      "    edge.set_style('dashed')\n",
      "    edge.set_fontname(fontname)\n",
      "    graph.add_edge(edge)\n",
      "# double beneficial mutation\n",
      "edge = pydot.Edge('ab','AB')\n",
      "edge.set_label(u\"<&nbsp;\\u03BC<SUP>2</SUP>>\")\n",
      "edge.set_fontname(fontname)\n",
      "graph.add_edge(edge)\n",
      "\n",
      "graph.set_ratio(2./1)\n",
      "graph"
     ],
     "language": "python",
     "metadata": {},
     "outputs": []
    },
    {
     "cell_type": "code",
     "collapsed": false,
     "input": [
      "graph.set_dpi(300)\n",
      "graph.write_png(\"fitness_landscape_analytic_model.png\")\n",
      "#! fitness_landscape_analytic_model.png"
     ],
     "language": "python",
     "metadata": {},
     "outputs": []
    },
    {
     "cell_type": "markdown",
     "metadata": {},
     "source": [
      "The following has the background settings for the [website](https://www.yoavram.com/):"
     ]
    },
    {
     "cell_type": "code",
     "collapsed": false,
     "input": [
      "graph.set_bgcolor('#f4f4f4')\n",
      "graph.set_dpi(300)\n",
      "graph.write_png(\"fitness_landscape_analytic_model_for_website.png\")"
     ],
     "language": "python",
     "metadata": {},
     "outputs": []
    },
    {
     "cell_type": "markdown",
     "metadata": {},
     "source": [
      "### Key"
     ]
    },
    {
     "cell_type": "code",
     "collapsed": false,
     "input": [
      "graph = pydot.Dot(graph_type='digraph',strict=True)\n",
      "\n",
      "node = pydot.Node('Fittest', shape='rect', style='\"diagonals,filled\"', fontname=fontname)\n",
      "graph.add_node(node)\n",
      "node = pydot.Node('Adapted', shape='rect', style='\"filled\"', fontname=fontname)\n",
      "graph.add_node(node)\n",
      "node = pydot.Node('Stressed', style='\"filled\"', fontname=fontname)\n",
      "graph.add_node(node)\n",
      "graph.add_edge(pydot.Edge('  ',' ', label=\"  Mutation\\nRate\", fontname=fontname))\n",
      "\n",
      "#graph.set_ratio(2./1)\n",
      "graph"
     ],
     "language": "python",
     "metadata": {},
     "outputs": []
    },
    {
     "cell_type": "code",
     "collapsed": false,
     "input": [
      "graph.set_dpi(300)\n",
      "graph.write_png(\"fitness_landscape_key.png\")\n",
      "#! fitness_landscape_analytic_model.png"
     ],
     "language": "python",
     "metadata": {},
     "outputs": []
    },
    {
     "cell_type": "markdown",
     "metadata": {},
     "source": [
      "### Colormap"
     ]
    },
    {
     "cell_type": "code",
     "collapsed": false,
     "input": [
      "cmap = matplotlib.colors.ListedColormap(list(reversed(colors)))\n",
      "bounds = [1 + s * H] + [(1 - s) ** i for i in range(len(colors) - 1)]\n",
      "bounds.reverse()\n",
      "norm = matplotlib.colors.BoundaryNorm(bounds, cmap.N)"
     ],
     "language": "python",
     "metadata": {},
     "outputs": []
    },
    {
     "cell_type": "code",
     "collapsed": false,
     "input": [
      "np.random.seed(101)\n",
      "zvals = np.random.rand(100, 100) * (1 + s * H)"
     ],
     "language": "python",
     "metadata": {},
     "outputs": []
    },
    {
     "cell_type": "code",
     "collapsed": false,
     "input": [
      "fig = figure(figsize=(30,30), dpi=300)\n",
      "ax = plt.subplot(111)\n",
      "im = ax.imshow(zvals, interpolation='nearest', origin='lower', cmap=cmap, norm=norm)\n",
      "cb = fig.colorbar(im, format=FormatStrFormatter('${%.2f}$'), orientation=\"horizontal\")\n",
      "#cb.set_label(\"\\nFitness\", fontsize=50)\n",
      "\n",
      "for t in cb.ax.get_xticklabels():\n",
      "    t.set_fontsize(50)\n",
      "    t.set_fontweight('bold')"
     ],
     "language": "python",
     "metadata": {},
     "outputs": []
    },
    {
     "cell_type": "code",
     "collapsed": false,
     "input": [
      "fig.savefig(\"fitness_landscape_colorbar.png\")\n",
      "#! fitness_landscape_colorbar.png"
     ],
     "language": "python",
     "metadata": {},
     "outputs": []
    },
    {
     "cell_type": "markdown",
     "metadata": {},
     "source": [
      "## Glew it together"
     ]
    },
    {
     "cell_type": "code",
     "collapsed": false,
     "input": [
      "from PIL import Image\n",
      "from PIL import ImageDraw\n",
      "from PIL import ImageFont"
     ],
     "language": "python",
     "metadata": {},
     "outputs": []
    },
    {
     "cell_type": "code",
     "collapsed": false,
     "input": [
      "# This allows to show PIL images and Matrix in IPython Notebook\n",
      "from io import BytesIO\n",
      "from IPython.core import display\n",
      "\n",
      "def display_pil_image(img):\n",
      "    \"\"\"Displayhook function for PIL Images, rendered as PNG.\"\"\"\n",
      "    b = BytesIO()\n",
      "    img.save(b,format='png')\n",
      "    data = b.getvalue()\n",
      "    display.display_png(data, raw=True)\n",
      "\n",
      "png_formatter = get_ipython().display_formatter.formatters['image/png']\n",
      "dpi = png_formatter.for_type(Image.Image, display_pil_image)"
     ],
     "language": "python",
     "metadata": {},
     "outputs": []
    },
    {
     "cell_type": "code",
     "collapsed": false,
     "input": [
      "analytic = Image.open('fitness_landscape_analytic_model.png')\n",
      "stochastic = Image.open('fitness_landscape_stochastic_model.png')\n",
      "colorbar = Image.open('fitness_landscape_colorbar.png')\n",
      "key = Image.open('fitness_landscape_key.png')"
     ],
     "language": "python",
     "metadata": {},
     "outputs": []
    },
    {
     "cell_type": "code",
     "collapsed": false,
     "input": [
      "#Returns a rectangular region from the current image. The box is a 4-tuple defining the left, upper, right, and lower pixel coordinate.\n",
      "w,h = colorbar.size\n",
      "colorbar = colorbar.crop((200,1650,12*w/13,1780))\n",
      "colorbar"
     ],
     "language": "python",
     "metadata": {},
     "outputs": []
    },
    {
     "cell_type": "code",
     "collapsed": false,
     "input": [
      "w = max(colorbar.size[0],analytic.size[0]) + stochastic.size[0]\n",
      "h = max(analytic.size[1] + colorbar.size[1], stochastic.size[1])"
     ],
     "language": "python",
     "metadata": {},
     "outputs": []
    },
    {
     "cell_type": "code",
     "collapsed": false,
     "input": [
      "img = Image.new(analytic.mode, (w,h), 255)\n",
      "pos_colorbar = 0, 250\n",
      "img.paste(colorbar, pos_colorbar)\n",
      "pos_key = pos_colorbar[0] + colorbar.size[0]/2 - key.size[0]/2, pos_colorbar[1] + colorbar.size[1] + 200\n",
      "img.paste(key, pos_key)\n",
      "pos_stochastic = colorbar.size[0], 0\n",
      "img.paste(stochastic, pos_stochastic)\n",
      "pos_analytic = colorbar.size[0]/2 - analytic.size[0]/2 , pos_key[1] + key.size[1] + 100\n",
      "img.paste(analytic, pos_analytic)"
     ],
     "language": "python",
     "metadata": {},
     "outputs": []
    },
    {
     "cell_type": "code",
     "collapsed": false,
     "input": [
      "font_large = ImageFont.truetype(fontname + \".ttf\", 160)\n",
      "font_small = ImageFont.truetype(fontname + \".ttf\", 100)\n",
      "draw = ImageDraw.Draw(img)\n",
      "draw.text((pos_colorbar[0] + 70, pos_colorbar[1]/3),\"Fitness:\",(0,0,0),font=font_small)\n",
      "draw.text((pos_colorbar[0] + 70, pos_key[1] - 150), \"Key:\",(0,0,0),font=font_small)\n",
      "draw.text((pos_stochastic[0] + 50, pos_stochastic[1] ),\"(b)\",(0,0,0),font=font_large)\n",
      "draw.text(pos_analytic,\"(a)\",(0,0,0),font=font_large)"
     ],
     "language": "python",
     "metadata": {},
     "outputs": []
    },
    {
     "cell_type": "code",
     "collapsed": false,
     "input": [
      "img"
     ],
     "language": "python",
     "metadata": {},
     "outputs": []
    },
    {
     "cell_type": "code",
     "collapsed": false,
     "input": [
      "img.save(\"fitness_landscape.png\")"
     ],
     "language": "python",
     "metadata": {},
     "outputs": []
    }
   ],
   "metadata": {}
  }
 ]
}