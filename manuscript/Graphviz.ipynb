{
 "metadata": {
  "name": "Graphviz"
 },
 "nbformat": 3,
 "nbformat_minor": 0,
 "worksheets": [
  {
   "cells": [
    {
     "cell_type": "code",
     "collapsed": false,
     "input": [
      "from IPython.external import mathjax; mathjax.install_mathjax()"
     ],
     "language": "python",
     "metadata": {},
     "outputs": []
    },
    {
     "cell_type": "markdown",
     "metadata": {},
     "source": [
      "[PyDot](https://github.com/y-p/pydot): Python interface to Graphviz Dot. For this to work with IPython Notebook you need to install the code from GitHub rather than use `pip` etc. "
     ]
    },
    {
     "cell_type": "code",
     "collapsed": false,
     "input": [
      "import pydot"
     ],
     "language": "python",
     "metadata": {},
     "outputs": [],
     "prompt_number": 108
    },
    {
     "cell_type": "markdown",
     "metadata": {},
     "source": [
      "Model parameters:"
     ]
    },
    {
     "cell_type": "code",
     "collapsed": false,
     "input": [
      "s = 0.01\n",
      "H = 2\n",
      "G = 3"
     ],
     "language": "python",
     "metadata": {},
     "outputs": [],
     "prompt_number": 109
    },
    {
     "cell_type": "markdown",
     "metadata": {},
     "source": [
      "[Colors](http://colorbrewer2.org/index.php?type=sequential&scheme=YlGn&n=7) from [ColorBrewer](http://colorbrewer2.org/)"
     ]
    },
    {
     "cell_type": "code",
     "collapsed": false,
     "input": [
      "colors = '0xF6EFF7; 0xD0D1E6; 0xA6BDDB; 0x67A9CF; 0x3690C0; 0x02818A; 0x016450; '\n",
      "colors = colors.split(';')\n",
      "colors = [c.replace('0x','#').strip() for c in colors[:-1]]\n",
      "#colors.reverse()\n",
      "colors"
     ],
     "language": "python",
     "metadata": {},
     "outputs": [
      {
       "output_type": "pyout",
       "prompt_number": 110,
       "text": [
        "['#F6EFF7', '#D0D1E6', '#A6BDDB', '#67A9CF', '#3690C0', '#02818A', '#016450']"
       ]
      }
     ],
     "prompt_number": 110
    },
    {
     "cell_type": "code",
     "collapsed": false,
     "input": [
      "class Genotype:\n",
      "    def __init__(self, Aa, Bb, num_deleterious=0):\n",
      "        self.Aa = Aa\n",
      "        self.Bb = Bb\n",
      "        self.num_deleterious = num_deleterious\n",
      "        self.name = Aa+Bb\n",
      "        if num_deleterious > 0:\n",
      "            self.name += str(num_deleterious)\n",
      "        if Aa == 'A' and Bb == 'B':\n",
      "            self.fitness = (1 - s) ** num_deleterious * (1 + s * H)\n",
      "        elif Aa == 'A' or Bb == 'B':\n",
      "            self.fitness = (1 - s) ** (num_deleterious + 1)\n",
      "        else:\n",
      "            self.fitness = (1 - s) ** num_deleterious\n",
      "        self.color = '#ffffff'\n",
      "        \n",
      "    def __repr__(self):\n",
      "        return self.name\n",
      "    \n",
      "    def set_color(self, color):\n",
      "        self.color = color\n",
      "        \n",
      "    def to_node(self):\n",
      "        return pydot.Node(self.name, style=\"filled\", fillcolor=self.color)"
     ],
     "language": "python",
     "metadata": {},
     "outputs": [],
     "prompt_number": 136
    },
    {
     "cell_type": "code",
     "collapsed": false,
     "input": [
      "genotypes = []\n",
      "for Aa in ('A','a'):\n",
      "    for Bb in ('B','b'):\n",
      "        for k in range(G):\n",
      "            genotypes.append(Genotype(Aa, Bb, k))\n",
      "genotypes"
     ],
     "language": "python",
     "metadata": {},
     "outputs": [
      {
       "output_type": "pyout",
       "prompt_number": 144,
       "text": [
        "[AB, AB1, AB2, Ab, Ab1, Ab2, aB, aB1, aB2, ab, ab1, ab2]"
       ]
      }
     ],
     "prompt_number": 144
    },
    {
     "cell_type": "code",
     "collapsed": false,
     "input": [
      "fitness = sorted(unique([g.fitness for g in genotypes]), reverse=True)\n",
      "print len(fitness)\n",
      "print fitness"
     ],
     "language": "python",
     "metadata": {},
     "outputs": [
      {
       "output_type": "stream",
       "stream": "stdout",
       "text": [
        "7\n",
        "[1.02, 1.0098, 1.0, 0.99970199999999998, 0.98999999999999999, 0.98009999999999997, 0.97029900000000002]\n"
       ]
      }
     ],
     "prompt_number": 147
    },
    {
     "cell_type": "code",
     "collapsed": false,
     "input": [
      "fitness_to_color = { w:colors[i] for i,w in enumerate(fitness) }    \n",
      "for g in genotypes:\n",
      "    g.set_color(fitness_to_color[g.fitness])"
     ],
     "language": "python",
     "metadata": {},
     "outputs": [],
     "prompt_number": 148
    },
    {
     "cell_type": "code",
     "collapsed": false,
     "input": [
      "graph = pydot.Dot(graph_type='digraph',strict=True)\n",
      "graph.add_node(genotypes[0].to_node())"
     ],
     "language": "python",
     "metadata": {},
     "outputs": [
      {
       "output_type": "pyout",
       "png": "[encoded data removed]",
       "prompt_number": 150,
       "svg": [
        "<?xml version=\"1.0\" encoding=\"UTF-8\" standalone=\"no\"?>\r\n",
        "<!DOCTYPE svg PUBLIC \"-//W3C//DTD SVG 1.1//EN\"\r\n",
        " \"http://www.w3.org/Graphics/SVG/1.1/DTD/svg11.dtd\">\r\n",
        "<!-- Generated by graphviz version 2.30.1 (20130214.1330)\r\n",
        " -->\r\n",
        "<!-- Title: G Pages: 1 -->\r\n",
        "<svg width=\"62pt\" height=\"44pt\"\r\n",
        " viewBox=\"0.00 0.00 62.00 44.00\" xmlns=\"http://www.w3.org/2000/svg\" xmlns:xlink=\"http://www.w3.org/1999/xlink\">\r\n",
        "<g id=\"graph0\" class=\"graph\" transform=\"scale(1 1) rotate(0) translate(4 40)\">\r\n",
        "<title>G</title>\r\n",
        "<polygon fill=\"white\" stroke=\"white\" points=\"-4,5 -4,-40 59,-40 59,5 -4,5\"/>\r\n",
        "<!-- AB -->\r\n",
        "<g id=\"node1\" class=\"node\"><title>AB</title>\r\n",
        "<ellipse fill=\"#f6eff7\" stroke=\"black\" cx=\"27\" cy=\"-18\" rx=\"27\" ry=\"18\"/>\r\n",
        "<text text-anchor=\"middle\" x=\"27\" y=\"-14.3\" font-family=\"Times New Roman,serif\" font-size=\"14.00\">AB</text>\r\n",
        "</g>\r\n",
        "</g>\r\n",
        "</svg>\r\n"
       ],
       "text": [
        "<pydot.Dot at 0x7805320>"
       ]
      }
     ],
     "prompt_number": 150
    },
    {
     "cell_type": "code",
     "collapsed": false,
     "input": [
      "graph = pydot.Dot(graph_type='digraph',strict=True)\n",
      "for g in genotypes:\n",
      "    graph.add_node(g.to_node())\n",
      "graph"
     ],
     "language": "python",
     "metadata": {},
     "outputs": [
      {
       "output_type": "pyout",
       "png": "[encoded data removed]",
       "prompt_number": 151,
       "svg": [
        "<?xml version=\"1.0\" encoding=\"UTF-8\" standalone=\"no\"?>\r\n",
        "<!DOCTYPE svg PUBLIC \"-//W3C//DTD SVG 1.1//EN\"\r\n",
        " \"http://www.w3.org/Graphics/SVG/1.1/DTD/svg11.dtd\">\r\n",
        "<!-- Generated by graphviz version 2.30.1 (20130214.1330)\r\n",
        " -->\r\n",
        "<!-- Title: G Pages: 1 -->\r\n",
        "<svg width=\"855pt\" height=\"44pt\"\r\n",
        " viewBox=\"0.00 0.00 855.00 44.00\" xmlns=\"http://www.w3.org/2000/svg\" xmlns:xlink=\"http://www.w3.org/1999/xlink\">\r\n",
        "<g id=\"graph0\" class=\"graph\" transform=\"scale(1 1) rotate(0) translate(4 40)\">\r\n",
        "<title>G</title>\r\n",
        "<polygon fill=\"white\" stroke=\"white\" points=\"-4,5 -4,-40 852,-40 852,5 -4,5\"/>\r\n",
        "<!-- AB -->\r\n",
        "<g id=\"node1\" class=\"node\"><title>AB</title>\r\n",
        "<ellipse fill=\"#f6eff7\" stroke=\"black\" cx=\"27\" cy=\"-18\" rx=\"27\" ry=\"18\"/>\r\n",
        "<text text-anchor=\"middle\" x=\"27\" y=\"-14.3\" font-family=\"Times New Roman,serif\" font-size=\"14.00\">AB</text>\r\n",
        "</g>\r\n",
        "<!-- AB1 -->\r\n",
        "<g id=\"node2\" class=\"node\"><title>AB1</title>\r\n",
        "<ellipse fill=\"#d0d1e6\" stroke=\"black\" cx=\"99\" cy=\"-18\" rx=\"26.949\" ry=\"18\"/>\r\n",
        "<text text-anchor=\"middle\" x=\"99\" y=\"-14.3\" font-family=\"Times New Roman,serif\" font-size=\"14.00\">AB1</text>\r\n",
        "</g>\r\n",
        "<!-- AB2 -->\r\n",
        "<g id=\"node3\" class=\"node\"><title>AB2</title>\r\n",
        "<ellipse fill=\"#67a9cf\" stroke=\"black\" cx=\"172\" cy=\"-18\" rx=\"26.949\" ry=\"18\"/>\r\n",
        "<text text-anchor=\"middle\" x=\"172\" y=\"-14.3\" font-family=\"Times New Roman,serif\" font-size=\"14.00\">AB2</text>\r\n",
        "</g>\r\n",
        "<!-- Ab -->\r\n",
        "<g id=\"node4\" class=\"node\"><title>Ab</title>\r\n",
        "<ellipse fill=\"#3690c0\" stroke=\"black\" cx=\"244\" cy=\"-18\" rx=\"27\" ry=\"18\"/>\r\n",
        "<text text-anchor=\"middle\" x=\"244\" y=\"-14.3\" font-family=\"Times New Roman,serif\" font-size=\"14.00\">Ab</text>\r\n",
        "</g>\r\n",
        "<!-- Ab1 -->\r\n",
        "<g id=\"node5\" class=\"node\"><title>Ab1</title>\r\n",
        "<ellipse fill=\"#02818a\" stroke=\"black\" cx=\"316\" cy=\"-18\" rx=\"27\" ry=\"18\"/>\r\n",
        "<text text-anchor=\"middle\" x=\"316\" y=\"-14.3\" font-family=\"Times New Roman,serif\" font-size=\"14.00\">Ab1</text>\r\n",
        "</g>\r\n",
        "<!-- Ab2 -->\r\n",
        "<g id=\"node6\" class=\"node\"><title>Ab2</title>\r\n",
        "<ellipse fill=\"#016450\" stroke=\"black\" cx=\"388\" cy=\"-18\" rx=\"27\" ry=\"18\"/>\r\n",
        "<text text-anchor=\"middle\" x=\"388\" y=\"-14.3\" font-family=\"Times New Roman,serif\" font-size=\"14.00\">Ab2</text>\r\n",
        "</g>\r\n",
        "<!-- aB -->\r\n",
        "<g id=\"node7\" class=\"node\"><title>aB</title>\r\n",
        "<ellipse fill=\"#3690c0\" stroke=\"black\" cx=\"460\" cy=\"-18\" rx=\"27\" ry=\"18\"/>\r\n",
        "<text text-anchor=\"middle\" x=\"460\" y=\"-14.3\" font-family=\"Times New Roman,serif\" font-size=\"14.00\">aB</text>\r\n",
        "</g>\r\n",
        "<!-- aB1 -->\r\n",
        "<g id=\"node8\" class=\"node\"><title>aB1</title>\r\n",
        "<ellipse fill=\"#02818a\" stroke=\"black\" cx=\"532\" cy=\"-18\" rx=\"27\" ry=\"18\"/>\r\n",
        "<text text-anchor=\"middle\" x=\"532\" y=\"-14.3\" font-family=\"Times New Roman,serif\" font-size=\"14.00\">aB1</text>\r\n",
        "</g>\r\n",
        "<!-- aB2 -->\r\n",
        "<g id=\"node9\" class=\"node\"><title>aB2</title>\r\n",
        "<ellipse fill=\"#016450\" stroke=\"black\" cx=\"604\" cy=\"-18\" rx=\"27\" ry=\"18\"/>\r\n",
        "<text text-anchor=\"middle\" x=\"604\" y=\"-14.3\" font-family=\"Times New Roman,serif\" font-size=\"14.00\">aB2</text>\r\n",
        "</g>\r\n",
        "<!-- ab -->\r\n",
        "<g id=\"node10\" class=\"node\"><title>ab</title>\r\n",
        "<ellipse fill=\"#a6bddb\" stroke=\"black\" cx=\"676\" cy=\"-18\" rx=\"27\" ry=\"18\"/>\r\n",
        "<text text-anchor=\"middle\" x=\"676\" y=\"-14.3\" font-family=\"Times New Roman,serif\" font-size=\"14.00\">ab</text>\r\n",
        "</g>\r\n",
        "<!-- ab1 -->\r\n",
        "<g id=\"node11\" class=\"node\"><title>ab1</title>\r\n",
        "<ellipse fill=\"#3690c0\" stroke=\"black\" cx=\"748\" cy=\"-18\" rx=\"27\" ry=\"18\"/>\r\n",
        "<text text-anchor=\"middle\" x=\"748\" y=\"-14.3\" font-family=\"Times New Roman,serif\" font-size=\"14.00\">ab1</text>\r\n",
        "</g>\r\n",
        "<!-- ab2 -->\r\n",
        "<g id=\"node12\" class=\"node\"><title>ab2</title>\r\n",
        "<ellipse fill=\"#02818a\" stroke=\"black\" cx=\"820\" cy=\"-18\" rx=\"27\" ry=\"18\"/>\r\n",
        "<text text-anchor=\"middle\" x=\"820\" y=\"-14.3\" font-family=\"Times New Roman,serif\" font-size=\"14.00\">ab2</text>\r\n",
        "</g>\r\n",
        "</g>\r\n",
        "</svg>\r\n"
       ],
       "text": [
        "<pydot.Dot at 0x79dbb38>"
       ]
      }
     ],
     "prompt_number": 151
    },
    {
     "cell_type": "code",
     "collapsed": false,
     "input": [],
     "language": "python",
     "metadata": {},
     "outputs": []
    },
    {
     "cell_type": "code",
     "collapsed": false,
     "input": [
      "graph.write_png(\"fitness_landscape.png\")\n",
      "! fitness_landscape.png"
     ],
     "language": "python",
     "metadata": {},
     "outputs": [],
     "prompt_number": 6
    },
    {
     "cell_type": "markdown",
     "metadata": {},
     "source": [
      "Create a colorbar - for this I need to create a random image.\n",
      "Note `s` and `H` are from the model."
     ]
    },
    {
     "cell_type": "code",
     "collapsed": false,
     "input": [
      "cmap = matplotlib.colors.ListedColormap(list(reversed(colors)))\n",
      "bounds = [1 + s * H] + [(1 - s) ** i for i in range(len(colors) - 1)]\n",
      "bounds.reverse()\n",
      "norm = matplotlib.colors.BoundaryNorm(bounds, cmap.N)"
     ],
     "language": "python",
     "metadata": {},
     "outputs": [],
     "prompt_number": 8
    },
    {
     "cell_type": "code",
     "collapsed": false,
     "input": [
      "print cmap.colors == list(reversed(colors))\n",
      "print bounds"
     ],
     "language": "python",
     "metadata": {},
     "outputs": [
      {
       "output_type": "stream",
       "stream": "stdout",
       "text": [
        "True\n",
        "[0.9509900498999999, 0.96059601, 0.970299, 0.9801, 0.99, 1.0, 1.02]\n"
       ]
      }
     ],
     "prompt_number": 9
    },
    {
     "cell_type": "code",
     "collapsed": false,
     "input": [
      "np.random.seed(101)\n",
      "zvals = np.random.rand(100, 100) * (1 + s * H)"
     ],
     "language": "python",
     "metadata": {},
     "outputs": [],
     "prompt_number": 10
    },
    {
     "cell_type": "code",
     "collapsed": false,
     "input": [
      "fig = figure(figsize=(20,10))\n",
      "ax = plt.subplot(111)\n",
      "im = ax.imshow(zvals, interpolation='nearest', origin='lower', cmap=cmap, norm=norm)\n",
      "cb = fig.colorbar(im, format=FormatStrFormatter('${%.2f}$'))\n",
      "for t in cb.ax.get_yticklabels():\n",
      "     t.set_fontsize(20)"
     ],
     "language": "python",
     "metadata": {},
     "outputs": [
      {
       "output_type": "display_data",
       "png": "[encoded data removed]",
       "text": [
        "<matplotlib.figure.Figure at 0x770d668>"
       ]
      }
     ],
     "prompt_number": 11
    },
    {
     "cell_type": "code",
     "collapsed": false,
     "input": [
      "fig.savefig(\"fitness_landscape_colorbar.png\")\n",
      "! fitness_landscape_colorbar.png"
     ],
     "language": "python",
     "metadata": {},
     "outputs": [],
     "prompt_number": 12
    },
    {
     "cell_type": "code",
     "collapsed": false,
     "input": [],
     "language": "python",
     "metadata": {},
     "outputs": []
    }
   ],
   "metadata": {}
  }
 ]
}