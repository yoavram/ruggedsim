{
 "metadata": {
  "name": "ruggedsim new model"
 },
 "nbformat": 3,
 "nbformat_minor": 0,
 "worksheets": [
  {
   "cells": [
    {
     "cell_type": "markdown",
     "metadata": {},
     "source": [
      "# Stress-induced mutation on rugged landscapes\n",
      "## New computational model\n",
      "\n",
      "#### Parameters"
     ]
    },
    {
     "cell_type": "code",
     "collapsed": false,
     "input": [
      "U = 0.003\n",
      "beta = 1./5000.\n",
      "s = 0.01\n",
      "H = 2\n",
      "pi = 100\n",
      "tau = 10\n",
      "pop_size = 1e6\n",
      "cutoff = 4"
     ],
     "language": "python",
     "metadata": {},
     "outputs": [],
     "prompt_number": 431
    },
    {
     "cell_type": "code",
     "collapsed": false,
     "input": [
      "def mprint(M, precision=3):\n",
      "    '''mprint(matrix, precision=int) -> None\n",
      "    pretty prints a matrix with specified precision.\n",
      "    '''\n",
      "    for row in M:\n",
      "        for cell in row:\n",
      "            print (\"%.\" +str(precision) + \"f\") % cell,\n",
      "        print\n",
      "mprint([[1,2,3],[2,3,4],[4,5,6]],1)\n",
      "help(mprint)"
     ],
     "language": "python",
     "metadata": {},
     "outputs": [
      {
       "output_type": "stream",
       "stream": "stdout",
       "text": [
        "1.0 2.0 3.0\n",
        "2.0 3.0 4.0\n",
        "4.0 5.0 6.0\n",
        "Help on function mprint in module __main__:\n",
        "\n",
        "mprint(M, precision=3)\n",
        "    mprint(matrix, precision=int) -> None\n",
        "    pretty prints a matrix with specified precision.\n",
        "\n"
       ]
      }
     ],
     "prompt_number": 432
    },
    {
     "cell_type": "markdown",
     "metadata": {},
     "source": [
      "### Population matrix"
     ]
    },
    {
     "cell_type": "markdown",
     "metadata": {},
     "source": [
      "The population matrix $p_{i,j}$ stands for the number of individuals of strain $i$ with $j$ harmful alleles, with $i \\in \\{wildtype, single \\; mutant, double \\; mutant\\}$ and $j \\ge 0$."
     ]
    },
    {
     "cell_type": "code",
     "collapsed": false,
     "input": [
      "def mutation_free_population(pop_size, strains, cutoff):\n",
      "    p = array([ [0] * cutoff for _ in range(strains) ], dtype=np.uint64)\n",
      "    p[0,0] = pop_size\n",
      "    return p\n",
      "p = mutation_free_population(pop_size, 3, cutoff)\n",
      "print p"
     ],
     "language": "python",
     "metadata": {},
     "outputs": [
      {
       "output_type": "stream",
       "stream": "stdout",
       "text": [
        "[[1000000       0       0       0]\n",
        " [      0       0       0       0]\n",
        " [      0       0       0       0]]\n"
       ]
      }
     ],
     "prompt_number": 433
    },
    {
     "cell_type": "code",
     "collapsed": false,
     "input": [
      "def uniform_population(pop_size, strains, cutoff):\n",
      "    rounded = int(pop_size / (strains * cutoff))\n",
      "    p =  ones((strains, cutoff), dtype=np.int) * rounded\n",
      "    p[0,0] += pop_size % (strains * cutoff)\n",
      "    return p\n",
      "mprint(uniform_population(pop_size, 3, cutoff),0)\n",
      "type(uniform_population(pop_size, 3, cutoff)[0,0])"
     ],
     "language": "python",
     "metadata": {},
     "outputs": [
      {
       "output_type": "stream",
       "stream": "stdout",
       "text": [
        "83337 83333 83333 83333\n",
        "83333 83333 83333 83333\n",
        "83333 83333 83333 83333\n"
       ]
      },
      {
       "output_type": "pyout",
       "prompt_number": 434,
       "text": [
        "numpy.int32"
       ]
      }
     ],
     "prompt_number": 434
    },
    {
     "cell_type": "code",
     "collapsed": false,
     "input": [
      "np.set_printoptions(precision=5)"
     ],
     "language": "python",
     "metadata": {},
     "outputs": [],
     "prompt_number": 435
    },
    {
     "cell_type": "markdown",
     "metadata": {},
     "source": [
      "### Mutation matrix\n",
      "#### Global mutation"
     ]
    },
    {
     "cell_type": "code",
     "collapsed": false,
     "input": [
      "from scipy.stats import poisson\n",
      "from scipy.linalg import block_diag"
     ],
     "language": "python",
     "metadata": {},
     "outputs": [],
     "prompt_number": 436
    },
    {
     "cell_type": "markdown",
     "metadata": {},
     "source": [
      "Construct the mutation matrix"
     ]
    },
    {
     "cell_type": "code",
     "collapsed": false,
     "input": [
      "mutation_rates = array([U for _ in range(min(pi,cutoff))] + [tau * U for _ in range(pi, cutoff)])\n",
      "print mutation_rates\n",
      "mutation_rvs = poisson(mutation_rates)"
     ],
     "language": "python",
     "metadata": {},
     "outputs": [
      {
       "output_type": "stream",
       "stream": "stdout",
       "text": [
        "[ 0.003  0.003  0.003  0.003]\n"
       ]
      }
     ],
     "prompt_number": 437
    },
    {
     "cell_type": "markdown",
     "metadata": {},
     "source": [
      "The mutation matrix $m_{i,j}$ gives the transition probabilities from individual with $j$ harmful alleles to an individual with $i$ harmful alleles, where $i \\ge j \\ge 0$ and $i \\ge 0$."
     ]
    },
    {
     "cell_type": "code",
     "collapsed": false,
     "input": [
      "m = diag(mutation_rvs.pmf(0))\n",
      "for k in range(1,cutoff):\n",
      "    m += diag(mutation_rvs.pmf(k)[:-k],-k)\n",
      "# absorb further mutations in the last class\n",
      "for j in range(cutoff):\n",
      "    m[-1,j] = 1 - mutation_rvs.cdf(cutoff - 2 - j)[j]"
     ],
     "language": "python",
     "metadata": {},
     "outputs": [],
     "prompt_number": 438
    },
    {
     "cell_type": "code",
     "collapsed": false,
     "input": [
      "print m.shape"
     ],
     "language": "python",
     "metadata": {},
     "outputs": [
      {
       "output_type": "stream",
       "stream": "stdout",
       "text": [
        "(4L, 4L)\n"
       ]
      }
     ],
     "prompt_number": 439
    },
    {
     "cell_type": "code",
     "collapsed": false,
     "input": [
      "Mm = block_diag(m,m,m)\n",
      "print Mm\n",
      "print Mm.shape"
     ],
     "language": "python",
     "metadata": {},
     "outputs": [
      {
       "output_type": "stream",
       "stream": "stdout",
       "text": [
        "[[  9.97004e-01   0.00000e+00   0.00000e+00   0.00000e+00   0.00000e+00\n",
        "    0.00000e+00   0.00000e+00   0.00000e+00   0.00000e+00   0.00000e+00\n",
        "    0.00000e+00   0.00000e+00]\n",
        " [  2.99101e-03   9.97004e-01   0.00000e+00   0.00000e+00   0.00000e+00\n",
        "    0.00000e+00   0.00000e+00   0.00000e+00   0.00000e+00   0.00000e+00\n",
        "    0.00000e+00   0.00000e+00]\n",
        " [  4.48652e-06   2.99101e-03   9.97004e-01   0.00000e+00   0.00000e+00\n",
        "    0.00000e+00   0.00000e+00   0.00000e+00   0.00000e+00   0.00000e+00\n",
        "    0.00000e+00   0.00000e+00]\n",
        " [  4.48989e-09   4.49101e-06   2.99550e-03   1.00000e+00   0.00000e+00\n",
        "    0.00000e+00   0.00000e+00   0.00000e+00   0.00000e+00   0.00000e+00\n",
        "    0.00000e+00   0.00000e+00]\n",
        " [  0.00000e+00   0.00000e+00   0.00000e+00   0.00000e+00   9.97004e-01\n",
        "    0.00000e+00   0.00000e+00   0.00000e+00   0.00000e+00   0.00000e+00\n",
        "    0.00000e+00   0.00000e+00]\n",
        " [  0.00000e+00   0.00000e+00   0.00000e+00   0.00000e+00   2.99101e-03\n",
        "    9.97004e-01   0.00000e+00   0.00000e+00   0.00000e+00   0.00000e+00\n",
        "    0.00000e+00   0.00000e+00]\n",
        " [  0.00000e+00   0.00000e+00   0.00000e+00   0.00000e+00   4.48652e-06\n",
        "    2.99101e-03   9.97004e-01   0.00000e+00   0.00000e+00   0.00000e+00\n",
        "    0.00000e+00   0.00000e+00]\n",
        " [  0.00000e+00   0.00000e+00   0.00000e+00   0.00000e+00   4.48989e-09\n",
        "    4.49101e-06   2.99550e-03   1.00000e+00   0.00000e+00   0.00000e+00\n",
        "    0.00000e+00   0.00000e+00]\n",
        " [  0.00000e+00   0.00000e+00   0.00000e+00   0.00000e+00   0.00000e+00\n",
        "    0.00000e+00   0.00000e+00   0.00000e+00   9.97004e-01   0.00000e+00\n",
        "    0.00000e+00   0.00000e+00]\n",
        " [  0.00000e+00   0.00000e+00   0.00000e+00   0.00000e+00   0.00000e+00\n",
        "    0.00000e+00   0.00000e+00   0.00000e+00   2.99101e-03   9.97004e-01\n",
        "    0.00000e+00   0.00000e+00]\n",
        " [  0.00000e+00   0.00000e+00   0.00000e+00   0.00000e+00   0.00000e+00\n",
        "    0.00000e+00   0.00000e+00   0.00000e+00   4.48652e-06   2.99101e-03\n",
        "    9.97004e-01   0.00000e+00]\n",
        " [  0.00000e+00   0.00000e+00   0.00000e+00   0.00000e+00   0.00000e+00\n",
        "    0.00000e+00   0.00000e+00   0.00000e+00   4.48989e-09   4.49101e-06\n",
        "    2.99550e-03   1.00000e+00]]\n",
        "(12L, 12L)\n"
       ]
      }
     ],
     "prompt_number": 440
    },
    {
     "cell_type": "code",
     "collapsed": false,
     "input": [
      "assert Mm[0,0] == e ** -U\n",
      "assert (Mm.sum(axis=0) == 1).all()"
     ],
     "language": "python",
     "metadata": {},
     "outputs": [],
     "prompt_number": 441
    },
    {
     "cell_type": "markdown",
     "metadata": {},
     "source": [
      "Run the mutation function"
     ]
    },
    {
     "cell_type": "code",
     "collapsed": false,
     "input": [
      "#%%timeit\n",
      "p = mutation_free_population(pop_size, 3, cutoff)\n",
      "print p\n",
      "for strain in range(p.shape[0]):\n",
      "    strain_size = p[strain,:].sum()\n",
      "    if strain_size > 0:\n",
      "        freqs = m.dot( p[strain,:] ) / strain_size\n",
      "        p[strain,:] = multinomial(strain_size, freqs)\n",
      "print p"
     ],
     "language": "python",
     "metadata": {},
     "outputs": [
      {
       "output_type": "stream",
       "stream": "stdout",
       "text": [
        "[[1000000       0       0       0]\n",
        " [      0       0       0       0]\n",
        " [      0       0       0       0]]\n",
        "[[996903   3094      3      0]\n",
        " [     0      0      0      0]\n",
        " [     0      0      0      0]]\n"
       ]
      }
     ],
     "prompt_number": 442
    },
    {
     "cell_type": "code",
     "collapsed": false,
     "input": [
      "#%%timeit\n",
      "p = mutation_free_population(pop_size, 3, cutoff)\n",
      "mprint(p,0)\n",
      "size, shape = p.sum(), p.shape\n",
      "freqs = Mm.dot( p.flatten(order=\"C\") ) / size\n",
      "p = multinomial(size, freqs)\n",
      "p = p.reshape(shape)\n",
      "mprint(p,0)"
     ],
     "language": "python",
     "metadata": {},
     "outputs": [
      {
       "output_type": "stream",
       "stream": "stdout",
       "text": [
        "1000000 0 0 0\n",
        "0 0 0 0\n",
        "0 0 0 0\n",
        "996983 3016 1 0\n",
        "0 0 0 0\n",
        "0 0 0 0\n"
       ]
      }
     ],
     "prompt_number": 443
    },
    {
     "cell_type": "markdown",
     "metadata": {},
     "source": [
      "A separate mutation operator creates transition between the strains"
     ]
    },
    {
     "cell_type": "code",
     "collapsed": false,
     "input": [
      "def small_strain_mutation_matrix(mutation_rates, beta):\n",
      "    mu = mutation_rates * beta\n",
      "    u = array([ [ (1-mu[0])**2, 0, 0 ], [2 * mu[0] * (1-mu[0]) , 1-mu[1], 0], [ mu[0] ** 2, mu[1], 1 ] ])\n",
      "    assert (1 == u.sum(axis=0)).all()\n",
      "    return u\n",
      "\n",
      "def big_strain_mutation_matrix(mutation_rates, beta, cutoff):\n",
      "    Mu = zeros((0,0))\n",
      "    for i in range(cutoff):\n",
      "        u = small_strain_mutation_matrix(mutation_rates, beta)\n",
      "        Mu = block_diag(Mu, u)\n",
      "    assert (1 == Mu.sum(axis=0)).all()\n",
      "    return Mu\n",
      "Mu = big_strain_mutation_matrix(mutation_rates, beta, cutoff)\n",
      "mprint(Mu,7)"
     ],
     "language": "python",
     "metadata": {},
     "outputs": [
      {
       "output_type": "stream",
       "stream": "stdout",
       "text": [
        "0.9999988 0.0000000 0.0000000 0.0000000 0.0000000 0.0000000 0.0000000 0.0000000 0.0000000 0.0000000 0.0000000 0.0000000\n",
        "0.0000012 0.9999994 0.0000000 0.0000000 0.0000000 0.0000000 0.0000000 0.0000000 0.0000000 0.0000000 0.0000000 0.0000000\n",
        "0.0000000 0.0000006 1.0000000 0.0000000 0.0000000 0.0000000 0.0000000 0.0000000 0.0000000 0.0000000 0.0000000 0.0000000\n",
        "0.0000000 0.0000000 0.0000000 0.9999988 0.0000000 0.0000000 0.0000000 0.0000000 0.0000000 0.0000000 0.0000000 0.0000000\n",
        "0.0000000 0.0000000 0.0000000 0.0000012 0.9999994 0.0000000 0.0000000 0.0000000 0.0000000 0.0000000 0.0000000 0.0000000\n",
        "0.0000000 0.0000000 0.0000000 0.0000000 0.0000006 1.0000000 0.0000000 0.0000000 0.0000000 0.0000000 0.0000000 0.0000000\n",
        "0.0000000 0.0000000 0.0000000 0.0000000 0.0000000 0.0000000 0.9999988 0.0000000 0.0000000 0.0000000 0.0000000 0.0000000\n",
        "0.0000000 0.0000000 0.0000000 0.0000000 0.0000000 0.0000000 0.0000012 0.9999994 0.0000000 0.0000000 0.0000000 0.0000000\n",
        "0.0000000 0.0000000 0.0000000 0.0000000 0.0000000 0.0000000 0.0000000 0.0000006 1.0000000 0.0000000 0.0000000 0.0000000\n",
        "0.0000000 0.0000000 0.0000000 0.0000000 0.0000000 0.0000000 0.0000000 0.0000000 0.0000000 0.9999988 0.0000000 0.0000000\n",
        "0.0000000 0.0000000 0.0000000 0.0000000 0.0000000 0.0000000 0.0000000 0.0000000 0.0000000 0.0000012 0.9999994 0.0000000\n",
        "0.0000000 0.0000000 0.0000000 0.0000000 0.0000000 0.0000000 0.0000000 0.0000000 0.0000000 0.0000000 0.0000006 1.0000000\n"
       ]
      }
     ],
     "prompt_number": 444
    },
    {
     "cell_type": "code",
     "collapsed": false,
     "input": [
      "p = mutation_free_population(pop_size, 3, cutoff)\n",
      "mprint(p,0)\n",
      "#print p.flatten(\"F\")\n",
      "size, shape = p.sum(), p.shape\n",
      "freqs = Mu.dot( p.flatten(order=\"F\") ) / size\n",
      "p = multinomial(size, freqs)\n",
      "p = p.reshape(shape, order=\"F\")\n",
      "#print p\n",
      "mprint(p,0)"
     ],
     "language": "python",
     "metadata": {},
     "outputs": [
      {
       "output_type": "stream",
       "stream": "stdout",
       "text": [
        "1000000 0 0 0\n",
        "0 0 0 0\n",
        "0 0 0 0\n",
        "999997 0 0 0\n",
        "3 0 0 0\n",
        "0 0 0 0\n"
       ]
      }
     ],
     "prompt_number": 445
    },
    {
     "cell_type": "markdown",
     "metadata": {},
     "source": [
      "### Fitness matrix"
     ]
    },
    {
     "cell_type": "markdown",
     "metadata": {},
     "source": [
      "The fitness matrix $\\omega_{i,j}$ gives the fitness of strain $i \\in \\{wildtype, single \\; mutant, double \\; mutant\\}$ with $j \\ge 0$ harmful alleles."
     ]
    },
    {
     "cell_type": "code",
     "collapsed": false,
     "input": [
      "def smooth_fitness(s, H, strains, cutoff):\n",
      "    w = array([ [ (1 - s ) ** (k + i) for k in range(cutoff)] for i in range(strains) ])\n",
      "    return w\n",
      "w = smooth_fitness(s, H, 3, cutoff)\n",
      "mprint(w,5)"
     ],
     "language": "python",
     "metadata": {},
     "outputs": [
      {
       "output_type": "stream",
       "stream": "stdout",
       "text": [
        "1.00000 0.99000 0.98010 0.97030\n",
        "0.99000 0.98010 0.97030 0.96060\n",
        "0.98010 0.97030 0.96060 0.95099\n"
       ]
      }
     ],
     "prompt_number": 446
    },
    {
     "cell_type": "code",
     "collapsed": false,
     "input": [
      "def rugged_fitness(s, H, strains, cutoff):\n",
      "    w = smooth_fitness(s, H, strains, cutoff)\n",
      "    w[-1,:] *= (1 + s * H)/((1 - s) ** 2) # fix fitness of the double mutant strain\n",
      "    return w\n",
      "ww = rugged_fitness(s, H, 3, cutoff)\n",
      "mprint(ww,5)"
     ],
     "language": "python",
     "metadata": {},
     "outputs": [
      {
       "output_type": "stream",
       "stream": "stdout",
       "text": [
        "1.00000 0.99000 0.98010 0.97030\n",
        "0.99000 0.98010 0.97030 0.96060\n",
        "1.02000 1.00980 0.99970 0.98970\n"
       ]
      }
     ],
     "prompt_number": 447
    },
    {
     "cell_type": "code",
     "collapsed": false,
     "input": [
      "mprint(p,0)\n",
      "print\n",
      "wp = w * p\n",
      "wp /= wp.sum()\n",
      "mprint(wp,8)"
     ],
     "language": "python",
     "metadata": {},
     "outputs": [
      {
       "output_type": "stream",
       "stream": "stdout",
       "text": [
        "999997 0 0 0\n",
        "3 0 0 0\n",
        "0 0 0 0\n",
        "\n",
        "0.99999703 0.00000000 0.00000000 0.00000000\n",
        "0.00000297 0.00000000 0.00000000 0.00000000\n",
        "0.00000000 0.00000000 0.00000000 0.00000000\n"
       ]
      }
     ],
     "prompt_number": 448
    },
    {
     "cell_type": "code",
     "collapsed": false,
     "input": [
      "mprint(p,0)\n",
      "size, shape = p.sum(), p.shape\n",
      "wp = w * p\n",
      "wp /= wp.sum()\n",
      "p = multinomial(p.sum(), wp.flatten())\n",
      "p = p.reshape(shape)\n",
      "print\n",
      "mprint(p,0)"
     ],
     "language": "python",
     "metadata": {},
     "outputs": [
      {
       "output_type": "stream",
       "stream": "stdout",
       "text": [
        "999997 0 0 0\n",
        "3 0 0 0\n",
        "0 0 0 0\n",
        "\n",
        "999997 0 0 0\n",
        "3 0 0 0\n",
        "0 0 0 0\n"
       ]
      }
     ],
     "prompt_number": 449
    },
    {
     "cell_type": "markdown",
     "metadata": {},
     "source": [
      "### Mean fitness"
     ]
    },
    {
     "cell_type": "code",
     "collapsed": false,
     "input": [
      "def mean_fitness(p, w):\n",
      "    return ((p*w).sum())/(p.sum())"
     ],
     "language": "python",
     "metadata": {},
     "outputs": [],
     "prompt_number": 450
    },
    {
     "cell_type": "code",
     "collapsed": false,
     "input": [
      "p = uniform_population(pop_size, 3, cutoff)\n",
      "#p = mutation_free_population(pop_size, 3, cutoff)\n",
      "print mean_fitness(p,w)"
     ],
     "language": "python",
     "metadata": {},
     "outputs": [
      {
       "output_type": "stream",
       "stream": "stdout",
       "text": [
        "0.975281688032\n"
       ]
      }
     ],
     "prompt_number": 451
    },
    {
     "cell_type": "markdown",
     "metadata": {},
     "source": [
      "### Integrate mutation and selection"
     ]
    },
    {
     "cell_type": "code",
     "collapsed": false,
     "input": [
      "p = mutation_free_population(pop_size, 3, cutoff)\n",
      "mprint(p,0)\n",
      "w = smooth_fitness(s, H, 3, cutoff)\n",
      "W = [mean_fitness(p,w)]\n",
      "for i in range(1):\n",
      "    #if i % 100 == 0: print p[0,1]\n",
      "    size, shape = p.sum(), p.shape\n",
      "    # selection\n",
      "    p = w * p\n",
      "    #p /= W[-1]\n",
      "    # strain mutations\n",
      "    p = Mu.dot( p.flatten(order=\"F\") ) / size\n",
      "    p = p.reshape(shape, order=\"F\")\n",
      "    # background mutations and drift\n",
      "    p = Mm.dot( p.flatten(order=\"C\") ) / size\n",
      "    p = multinomial(size, p)\n",
      "    p = p.reshape(shape, order=\"C\")\n",
      "    assert (size, shape) == (p.sum(), p.shape)\n",
      "    W += [mean_fitness(p,w)]\n",
      "print\n",
      "mprint(p,0)\n",
      "print\n",
      "mprint(w*p,14)"
     ],
     "language": "python",
     "metadata": {},
     "outputs": [
      {
       "output_type": "stream",
       "stream": "stdout",
       "text": [
        "1000000 0 0 0\n",
        "0 0 0 0\n",
        "0 0 0 0\n",
        "\n",
        "0 0 0 0\n",
        "0 0 0 0\n",
        "0 0 0 1000000\n",
        "\n",
        "0.00000000000000 0.00000000000000 0.00000000000000 0.00000000000000\n",
        "0.00000000000000 0.00000000000000 0.00000000000000 0.00000000000000\n",
        "0.00000000000000 0.00000000000000 0.00000000000000 950990.04989999986719\n"
       ]
      }
     ],
     "prompt_number": 452
    },
    {
     "cell_type": "code",
     "collapsed": false,
     "input": [
      "p = mutation_free_population(pop_size, 3, cutoff)\n",
      "w = smooth_fitness(s, H, 3, cutoff)\n",
      "mprint(p,0)\n",
      "print\n",
      "W = [mean_fitness(p,w)]"
     ],
     "language": "python",
     "metadata": {},
     "outputs": [
      {
       "output_type": "stream",
       "stream": "stdout",
       "text": [
        "1000000 0 0 0\n",
        "0 0 0 0\n",
        "0 0 0 0\n",
        "\n"
       ]
      }
     ],
     "prompt_number": 453
    },
    {
     "cell_type": "code",
     "collapsed": false,
     "input": [
      "for i in range(1000):\n",
      "    size, shape = p.sum(), p.shape\n",
      "    # selection\n",
      "    p = w * p\n",
      "    \n",
      "    # strain mutations\n",
      "    p = Mu.dot( p.flatten(order=\"F\") ) / size\n",
      "    p = p.reshape(shape, order=\"F\")\n",
      "    \n",
      "    # background mutations \n",
      "    p = Mm.dot( p.flatten(order=\"C\") ) / size\n",
      "    p = p.reshape(shape, order=\"C\")\n",
      "    \n",
      "    # drift\n",
      "    p /= p.sum()\n",
      "    p = multinomial(size, p.flatten())\n",
      "    p = p.reshape(shape)\n",
      "    W += [mean_fitness(p,w)]\n",
      "    \n",
      "mprint(p,0)\n",
      "print"
     ],
     "language": "python",
     "metadata": {},
     "outputs": [
      {
       "output_type": "stream",
       "stream": "stdout",
       "text": [
        "738447 223591 34064 3818\n",
        "76 4 0 0\n",
        "0 0 0 0\n",
        "\n"
       ]
      }
     ],
     "prompt_number": 454
    },
    {
     "cell_type": "code",
     "collapsed": false,
     "input": [
      "plot(log(W));"
     ],
     "language": "python",
     "metadata": {},
     "outputs": [
      {
       "output_type": "display_data",
       "png": "[encoded data removed]",
       "text": [
        "<matplotlib.figure.Figure at 0x79d1588>"
       ]
      }
     ],
     "prompt_number": 457
    },
    {
     "cell_type": "code",
     "collapsed": false,
     "input": [
      "W[0],W[1],W[-1],e**(-(1+beta)*U)"
     ],
     "language": "python",
     "metadata": {},
     "outputs": [
      {
       "output_type": "pyout",
       "prompt_number": 456,
       "text": [
        "(1.0, 0.99997026019999991, 0.99697197838199991, 0.9970038973008551)"
       ]
      }
     ],
     "prompt_number": 456
    },
    {
     "cell_type": "code",
     "collapsed": false,
     "input": [
      "mprint(p,0)"
     ],
     "language": "python",
     "metadata": {},
     "outputs": [
      {
       "output_type": "stream",
       "stream": "stdout",
       "text": [
        "0 0 0 0\n",
        "0 0 0 0\n",
        "0 0 0 1000000000\n"
       ]
      }
     ],
     "prompt_number": 368
    },
    {
     "cell_type": "code",
     "collapsed": false,
     "input": [],
     "language": "python",
     "metadata": {},
     "outputs": []
    }
   ],
   "metadata": {}
  }
 ]
}