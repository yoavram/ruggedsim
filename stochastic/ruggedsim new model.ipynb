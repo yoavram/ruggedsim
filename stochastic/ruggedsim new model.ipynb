{
 "metadata": {
  "name": "ruggedsim new model"
 },
 "nbformat": 3,
 "nbformat_minor": 0,
 "worksheets": [
  {
   "cells": [
    {
     "cell_type": "markdown",
     "metadata": {},
     "source": [
      "# Stress-induced mutation on rugged landscapes\n",
      "## New computational model\n",
      "\n",
      "#### Parameters"
     ]
    },
    {
     "cell_type": "code",
     "collapsed": false,
     "input": [
      "U = 0.003\n",
      "beta = 1./5000.\n",
      "s = 0.01\n",
      "H = 2\n",
      "pi = 0\n",
      "tau = 10\n",
      "pop_size = 1e6\n",
      "cutoff = 4"
     ],
     "language": "python",
     "metadata": {},
     "outputs": [],
     "prompt_number": 542
    },
    {
     "cell_type": "code",
     "collapsed": false,
     "input": [
      "def mprint(M, precision=3):\n",
      "    '''mprint(matrix, precision=int) -> None\n",
      "    pretty prints a matrix with specified precision.\n",
      "    '''\n",
      "    for row in M:\n",
      "        for cell in row:\n",
      "            print (\"%.\" +str(precision) + \"f\") % cell,\n",
      "        print\n",
      "mprint([[1,2,3],[2,3,4],[4,5,6]],1)\n",
      "help(mprint)"
     ],
     "language": "python",
     "metadata": {},
     "outputs": [
      {
       "output_type": "stream",
       "stream": "stdout",
       "text": [
        "1.0 2.0 3.0\n",
        "2.0 3.0 4.0\n",
        "4.0 5.0 6.0\n",
        "Help on function mprint in module __main__:\n",
        "\n",
        "mprint(M, precision=3)\n",
        "    mprint(matrix, precision=int) -> None\n",
        "    pretty prints a matrix with specified precision.\n",
        "\n"
       ]
      }
     ],
     "prompt_number": 432
    },
    {
     "cell_type": "markdown",
     "metadata": {},
     "source": [
      "### Population matrix"
     ]
    },
    {
     "cell_type": "markdown",
     "metadata": {},
     "source": [
      "The population matrix $p_{i,j}$ stands for the number of individuals of strain $i$ with $j$ harmful alleles, with $i \\in \\{wildtype, single \\; mutant, double \\; mutant\\}$ and $j \\ge 0$."
     ]
    },
    {
     "cell_type": "code",
     "collapsed": false,
     "input": [
      "def mutation_free_population(pop_size, strains, cutoff):\n",
      "    p = array([ [0] * cutoff for _ in range(strains) ], dtype=np.uint64)\n",
      "    p[0,0] = pop_size\n",
      "    return p\n",
      "p = mutation_free_population(pop_size, 3, cutoff)\n",
      "print p"
     ],
     "language": "python",
     "metadata": {},
     "outputs": [
      {
       "output_type": "stream",
       "stream": "stdout",
       "text": [
        "[[1000000       0       0       0]\n",
        " [      0       0       0       0]\n",
        " [      0       0       0       0]]\n"
       ]
      }
     ],
     "prompt_number": 433
    },
    {
     "cell_type": "code",
     "collapsed": false,
     "input": [
      "def uniform_population(pop_size, strains, cutoff):\n",
      "    rounded = int(pop_size / (strains * cutoff))\n",
      "    p =  ones((strains, cutoff), dtype=np.int) * rounded\n",
      "    p[0,0] += pop_size % (strains * cutoff)\n",
      "    return p\n",
      "mprint(uniform_population(pop_size, 3, cutoff),0)\n",
      "type(uniform_population(pop_size, 3, cutoff)[0,0])"
     ],
     "language": "python",
     "metadata": {},
     "outputs": [
      {
       "output_type": "stream",
       "stream": "stdout",
       "text": [
        "83337 83333 83333 83333\n",
        "83333 83333 83333 83333\n",
        "83333 83333 83333 83333\n"
       ]
      },
      {
       "output_type": "pyout",
       "prompt_number": 434,
       "text": [
        "numpy.int32"
       ]
      }
     ],
     "prompt_number": 434
    },
    {
     "cell_type": "code",
     "collapsed": false,
     "input": [
      "np.set_printoptions(precision=5)"
     ],
     "language": "python",
     "metadata": {},
     "outputs": [],
     "prompt_number": 435
    },
    {
     "cell_type": "markdown",
     "metadata": {},
     "source": [
      "### Fitness matrix\n",
      "The fitness matrix $\\omega_{i,j}$ gives the fitness of strain $i \\in \\{wildtype, single \\; mutant, double \\; mutant\\}$ with $j \\ge 0$ "
     ]
    },
    {
     "cell_type": "code",
     "collapsed": false,
     "input": [
      "def smooth_fitness(s, H, strains, cutoff):\n",
      "    w = array([ [ (1 - s ) ** (k + i) for k in range(cutoff)] for i in range(strains) ])\n",
      "    return w\n",
      "w = smooth_fitness(s, H, 3, cutoff)\n",
      "mprint(w,5)"
     ],
     "language": "python",
     "metadata": {},
     "outputs": [
      {
       "output_type": "stream",
       "stream": "stdout",
       "text": [
        "1.00000 0.99000 0.98010 0.97030\n",
        "0.99000 0.98010 0.97030 0.96060\n",
        "0.98010 0.97030 0.96060 0.95099\n"
       ]
      }
     ],
     "prompt_number": 523
    },
    {
     "cell_type": "code",
     "collapsed": false,
     "input": [
      "def rugged_fitness(s, H, strains, cutoff):\n",
      "    w = smooth_fitness(s, H, strains, cutoff)\n",
      "    w[-1,:] *= (1 + s * H)/((1 - s) ** 2) # fix fitness of the double mutant strain\n",
      "    return w\n",
      "ww = rugged_fitness(s, H, 3, cutoff)\n",
      "mprint(ww,5)"
     ],
     "language": "python",
     "metadata": {},
     "outputs": [
      {
       "output_type": "stream",
       "stream": "stdout",
       "text": [
        "1.00000 0.99000 0.98010 0.97030\n",
        "0.99000 0.98010 0.97030 0.96060\n",
        "1.02000 1.00980 0.99970 0.98970\n"
       ]
      }
     ],
     "prompt_number": 524
    },
    {
     "cell_type": "code",
     "collapsed": false,
     "input": [
      "mprint(p,0)\n",
      "size, shape = p.sum(), p.shape\n",
      "wp = w * p\n",
      "wp /= wp.sum()\n",
      "p = multinomial(p.sum(), wp.flatten())\n",
      "p = p.reshape(shape)\n",
      "print\n",
      "mprint(p,0)"
     ],
     "language": "python",
     "metadata": {},
     "outputs": [
      {
       "output_type": "stream",
       "stream": "stdout",
       "text": [
        "999999 0 0 0\n",
        "1 0 0 0\n",
        "0 0 0 0\n",
        "\n",
        "999999 0 0 0\n",
        "1 0 0 0\n",
        "0 0 0 0\n"
       ]
      }
     ],
     "prompt_number": 526
    },
    {
     "cell_type": "markdown",
     "metadata": {},
     "source": [
      "### Mean fitness"
     ]
    },
    {
     "cell_type": "code",
     "collapsed": false,
     "input": [
      "def mean_fitness(p, w):\n",
      "    return ((p*w).sum())/(p.sum())\n",
      "\n",
      "p = uniform_population(pop_size, 3, cutoff)\n",
      "#p = mutation_free_population(pop_size, 3, cutoff)\n",
      "print mean_fitness(p,w)"
     ],
     "language": "python",
     "metadata": {},
     "outputs": [
      {
       "output_type": "stream",
       "stream": "stdout",
       "text": [
        "0.9883834623\n"
       ]
      }
     ],
     "prompt_number": 569
    },
    {
     "cell_type": "markdown",
     "metadata": {},
     "source": [
      "### Mutation rates matrix and stress-induction\n",
      "\n",
      "The mutation rates matrix $\\mu_{i,j}$ gives the mutation rate of strain $i$ with $j$ harmful alleles."
     ]
    },
    {
     "cell_type": "code",
     "collapsed": false,
     "input": [
      "def mutation_rates_matrix(U, pi, tau, w):\n",
      "    mutation_rates = np.ones(w.shape) * U\n",
      "    mutation_rates[w < pi] *= tau\n",
      "    return mutation_rates\n",
      "mprint(mutation_rates_matrix(U,1,10,smooth_fitness(s,H,3,cutoff)))\n",
      "mprint(mutation_rates_matrix(U,1,10,rugged_fitness(s,H,3,cutoff)))\n",
      "mprint(mutation_rates_matrix(U,1-s,10,smooth_fitness(s,H,3,cutoff)))"
     ],
     "language": "python",
     "metadata": {},
     "outputs": []
    },
    {
     "cell_type": "markdown",
     "metadata": {},
     "source": [
      "### Mutation matrix\n",
      "#### Global mutation"
     ]
    },
    {
     "cell_type": "code",
     "collapsed": false,
     "input": [
      "from scipy.stats import poisson\n",
      "from scipy.linalg import block_diag"
     ],
     "language": "python",
     "metadata": {},
     "outputs": [],
     "prompt_number": 436
    },
    {
     "cell_type": "markdown",
     "metadata": {},
     "source": [
      "Construct the mutation matrix"
     ]
    },
    {
     "cell_type": "code",
     "collapsed": false,
     "input": [
      "mutation_rates = array([U for _ in range(min(pi,cutoff))] + [tau * U for _ in range(pi, cutoff)])\n",
      "print mutation_rates"
     ],
     "language": "python",
     "metadata": {},
     "outputs": [
      {
       "output_type": "stream",
       "stream": "stdout",
       "text": [
        "[ 0.003  0.003  0.003  0.003]\n"
       ]
      }
     ],
     "prompt_number": 492
    },
    {
     "cell_type": "markdown",
     "metadata": {},
     "source": [
      "The mutation matrix $m_{i,j}$ gives the transition probabilities from individual with $j$ harmful alleles to an individual with $i$ harmful alleles, where $i \\ge j \\ge 0$ and $i \\ge 0$."
     ]
    },
    {
     "cell_type": "code",
     "collapsed": false,
     "input": [
      "def small_background_mutation_matrix(mutation_rates):\n",
      "    mutation_rvs = poisson(mutation_rates)\n",
      "    m = diag(mutation_rvs.pmf(0))\n",
      "    for k in range(1,mutation_rates.shape[0]):\n",
      "        m += diag(mutation_rvs.pmf(k)[:-k],-k)\n",
      "    # absorb further mutations in the last class\n",
      "    for j in range(mutation_rates.shape[0]):\n",
      "        m[-1,j] = 1 - mutation_rvs.cdf(mutation_rates.shape[0] - 2 - j)[j]\n",
      "    return m"
     ],
     "language": "python",
     "metadata": {},
     "outputs": [],
     "prompt_number": 513
    },
    {
     "cell_type": "markdown",
     "metadata": {},
     "source": [
      "This matrix now must be composed into a larger block matrix for the entire population, where $M_{k*i,l*j}$ gives the transition probability from strain $l$ with $j$ harmful alleles to strain $k$ with $i$ harmful alleles, and $l,k \\in \\{wildtype, single \\; mutant, double \\; mutant\\}, i,j \\ge 0$."
     ]
    },
    {
     "cell_type": "code",
     "collapsed": false,
     "input": [
      "def big_mutation_matrix(mutation_rates, repeats, small_mutation_matrix_function):\n",
      "    M = zeros((0,0))\n",
      "    for i in range(repeats):\n",
      "        m = small_mutation_matrix_function(mutation_rates)\n",
      "        M = block_diag(M, m)\n",
      "    assert (1 == M.sum(axis=0)).all()\n",
      "    return M"
     ],
     "language": "python",
     "metadata": {},
     "outputs": [],
     "prompt_number": 514
    },
    {
     "cell_type": "code",
     "collapsed": false,
     "input": [
      "Mm = big_mutation_matrix(mutation_rates, 3, small_background_mutation_matrix)\n",
      "mprint(Mm,9)  \n",
      "print"
     ],
     "language": "python",
     "metadata": {},
     "outputs": [
      {
       "output_type": "stream",
       "stream": "stdout",
       "text": [
        "0.997004496 0.000000000 0.000000000 0.000000000 0.000000000 0.000000000 0.000000000 0.000000000 0.000000000 0.000000000 0.000000000 0.000000000\n",
        "0.002991013 0.997004496 0.000000000 0.000000000 0.000000000 0.000000000 0.000000000 0.000000000 0.000000000 0.000000000 0.000000000 0.000000000\n",
        "0.000004487 0.002991013 0.997004496 0.000000000 0.000000000 0.000000000 0.000000000 0.000000000 0.000000000 0.000000000 0.000000000 0.000000000\n",
        "0.000000004 0.000004491 0.002995504 1.000000000 0.000000000 0.000000000 0.000000000 0.000000000 0.000000000 0.000000000 0.000000000 0.000000000\n",
        "0.000000000 0.000000000 0.000000000 0.000000000 0.997004496 0.000000000 0.000000000 0.000000000 0.000000000 0.000000000 0.000000000 0.000000000\n",
        "0.000000000 0.000000000 0.000000000 0.000000000 0.002991013 0.997004496 0.000000000 0.000000000 0.000000000 0.000000000 0.000000000 0.000000000\n",
        "0.000000000 0.000000000 0.000000000 0.000000000 0.000004487 0.002991013 0.997004496 0.000000000 0.000000000 0.000000000 0.000000000 0.000000000\n",
        "0.000000000 0.000000000 0.000000000 0.000000000 0.000000004 0.000004491 0.002995504 1.000000000 0.000000000 0.000000000 0.000000000 0.000000000\n",
        "0.000000000 0.000000000 0.000000000 0.000000000 0.000000000 0.000000000 0.000000000 0.000000000 0.997004496 0.000000000 0.000000000 0.000000000\n",
        "0.000000000 0.000000000 0.000000000 0.000000000 0.000000000 0.000000000 0.000000000 0.000000000 0.002991013 0.997004496 0.000000000 0.000000000\n",
        "0.000000000 0.000000000 0.000000000 0.000000000 0.000000000 0.000000000 0.000000000 0.000000000 0.000004487 0.002991013 0.997004496 0.000000000\n",
        "0.000000000 0.000000000 0.000000000 0.000000000 0.000000000 0.000000000 0.000000000 0.000000000 0.000000004 0.000004491 0.002995504 1.000000000\n",
        "\n"
       ]
      }
     ],
     "prompt_number": 517
    },
    {
     "cell_type": "code",
     "collapsed": false,
     "input": [
      "assert Mm[0,0] == e ** -U"
     ],
     "language": "python",
     "metadata": {},
     "outputs": [],
     "prompt_number": 521
    },
    {
     "cell_type": "markdown",
     "metadata": {},
     "source": [
      "Run the mutation function"
     ]
    },
    {
     "cell_type": "code",
     "collapsed": false,
     "input": [
      "#%%timeit\n",
      "p = mutation_free_population(pop_size, 3, cutoff)\n",
      "mprint(p,0)\n",
      "size, shape = p.sum(), p.shape\n",
      "freqs = Mm.dot( p.flatten(order=\"C\") ) / size\n",
      "p = multinomial(size, freqs)\n",
      "p = p.reshape(shape)\n",
      "mprint(p,0)"
     ],
     "language": "python",
     "metadata": {},
     "outputs": [
      {
       "output_type": "stream",
       "stream": "stdout",
       "text": [
        "1000000 0 0 0\n",
        "0 0 0 0\n",
        "0 0 0 0\n",
        "997025 2974 1 0\n",
        "0 0 0 0\n",
        "0 0 0 0\n"
       ]
      }
     ],
     "prompt_number": 519
    },
    {
     "cell_type": "markdown",
     "metadata": {},
     "source": [
      "#### Strain mutation"
     ]
    },
    {
     "cell_type": "code",
     "collapsed": false,
     "input": [
      "def small_strain_mutation_matrix(mutation_rates):\n",
      "    mu = mutation_rates\n",
      "    u = array([ [ (1-mu[0])**2, 0, 0 ], [2 * mu[0] * (1-mu[0]) , 1-mu[1], 0], [ mu[0] ** 2, mu[1], 1 ] ])\n",
      "    assert (1 == u.sum(axis=0)).all()\n",
      "    return u\n",
      "\n",
      "Mu = big_mutation_matrix(mutation_rates * beta, cutoff, small_strain_mutation_matrix)\n",
      "mprint(Mu,7)"
     ],
     "language": "python",
     "metadata": {},
     "outputs": [
      {
       "output_type": "stream",
       "stream": "stdout",
       "text": [
        "0.9999988 0.0000000 0.0000000 0.0000000 0.0000000 0.0000000 0.0000000 0.0000000 0.0000000 0.0000000 0.0000000 0.0000000\n",
        "0.0000012 0.9999994 0.0000000 0.0000000 0.0000000 0.0000000 0.0000000 0.0000000 0.0000000 0.0000000 0.0000000 0.0000000\n",
        "0.0000000 0.0000006 1.0000000 0.0000000 0.0000000 0.0000000 0.0000000 0.0000000 0.0000000 0.0000000 0.0000000 0.0000000\n",
        "0.0000000 0.0000000 0.0000000 0.9999988 0.0000000 0.0000000 0.0000000 0.0000000 0.0000000 0.0000000 0.0000000 0.0000000\n",
        "0.0000000 0.0000000 0.0000000 0.0000012 0.9999994 0.0000000 0.0000000 0.0000000 0.0000000 0.0000000 0.0000000 0.0000000\n",
        "0.0000000 0.0000000 0.0000000 0.0000000 0.0000006 1.0000000 0.0000000 0.0000000 0.0000000 0.0000000 0.0000000 0.0000000\n",
        "0.0000000 0.0000000 0.0000000 0.0000000 0.0000000 0.0000000 0.9999988 0.0000000 0.0000000 0.0000000 0.0000000 0.0000000\n",
        "0.0000000 0.0000000 0.0000000 0.0000000 0.0000000 0.0000000 0.0000012 0.9999994 0.0000000 0.0000000 0.0000000 0.0000000\n",
        "0.0000000 0.0000000 0.0000000 0.0000000 0.0000000 0.0000000 0.0000000 0.0000006 1.0000000 0.0000000 0.0000000 0.0000000\n",
        "0.0000000 0.0000000 0.0000000 0.0000000 0.0000000 0.0000000 0.0000000 0.0000000 0.0000000 0.9999988 0.0000000 0.0000000\n",
        "0.0000000 0.0000000 0.0000000 0.0000000 0.0000000 0.0000000 0.0000000 0.0000000 0.0000000 0.0000012 0.9999994 0.0000000\n",
        "0.0000000 0.0000000 0.0000000 0.0000000 0.0000000 0.0000000 0.0000000 0.0000000 0.0000000 0.0000000 0.0000006 1.0000000\n"
       ]
      }
     ],
     "prompt_number": 520
    },
    {
     "cell_type": "code",
     "collapsed": false,
     "input": [
      "p = mutation_free_population(pop_size, 3, cutoff)\n",
      "mprint(p,0)\n",
      "#print p.flatten(\"F\")\n",
      "size, shape = p.sum(), p.shape\n",
      "freqs = Mu.dot( p.flatten(order=\"F\") ) / size\n",
      "p = multinomial(size, freqs)\n",
      "p = p.reshape(shape, order=\"F\")\n",
      "#print p\n",
      "mprint(p,0)"
     ],
     "language": "python",
     "metadata": {},
     "outputs": [
      {
       "output_type": "stream",
       "stream": "stdout",
       "text": [
        "1000000 0 0 0\n",
        "0 0 0 0\n",
        "0 0 0 0\n",
        "999999 0 0 0\n",
        "1 0 0 0\n",
        "0 0 0 0\n"
       ]
      }
     ],
     "prompt_number": 522
    },
    {
     "cell_type": "markdown",
     "metadata": {},
     "source": [
      "### Integrate mutation and selection"
     ]
    },
    {
     "cell_type": "code",
     "collapsed": false,
     "input": [
      "p = mutation_free_population(pop_size, 3, cutoff)\n",
      "mprint(p,0)\n",
      "w = smooth_fitness(s, H, 3, cutoff)\n",
      "W = [mean_fitness(p,w)]\n",
      "for i in range(1):\n",
      "    #if i % 100 == 0: print p[0,1]\n",
      "    size, shape = p.sum(), p.shape\n",
      "    # selection\n",
      "    p = w * p\n",
      "    #p /= W[-1]\n",
      "    # strain mutations\n",
      "    p = Mu.dot( p.flatten(order=\"F\") ) / size\n",
      "    p = p.reshape(shape, order=\"F\")\n",
      "    # background mutations and drift\n",
      "    p = Mm.dot( p.flatten(order=\"C\") ) / size\n",
      "    p = multinomial(size, p)\n",
      "    p = p.reshape(shape, order=\"C\")\n",
      "    assert (size, shape) == (p.sum(), p.shape)\n",
      "    W += [mean_fitness(p,w)]\n",
      "print\n",
      "mprint(p,0)\n",
      "print\n",
      "mprint(w*p,14)"
     ],
     "language": "python",
     "metadata": {},
     "outputs": [
      {
       "output_type": "stream",
       "stream": "stdout",
       "text": [
        "1000000 0 0 0\n",
        "0 0 0 0\n",
        "0 0 0 0\n",
        "\n",
        "1 0 0 0\n",
        "0 0 0 0\n",
        "0 0 0 999999\n",
        "\n",
        "1.00000000000000 0.00000000000000 0.00000000000000 0.00000000000000\n",
        "0.00000000000000 0.00000000000000 0.00000000000000 0.00000000000000\n",
        "0.00000000000000 0.00000000000000 0.00000000000000 950989.09890995000023\n"
       ]
      }
     ],
     "prompt_number": 529
    },
    {
     "cell_type": "code",
     "collapsed": false,
     "input": [
      "def loop(p, w, Mm, Mu, ticks, W=None):\n",
      "    if W == None:\n",
      "        W = [mean_fitness(p,w)]\n",
      "    for tick in range(ticks):\n",
      "        size, shape = p.sum(), p.shape\n",
      "        # selection\n",
      "        p = w * p\n",
      "        \n",
      "        # strain mutations\n",
      "        p = Mu.dot( p.flatten(order=\"F\") ) / size\n",
      "        p = p.reshape(shape, order=\"F\")\n",
      "        \n",
      "        # background mutations \n",
      "        p = Mm.dot( p.flatten(order=\"C\") ) / size\n",
      "        p = p.reshape(shape, order=\"C\")\n",
      "        \n",
      "        # drift\n",
      "        p /= p.sum()\n",
      "        p = multinomial(size, p.flatten())\n",
      "        p = p.reshape(shape)\n",
      "        W += [mean_fitness(p,w)]\n",
      "    return p,W"
     ],
     "language": "python",
     "metadata": {},
     "outputs": [],
     "prompt_number": 530
    },
    {
     "cell_type": "code",
     "collapsed": false,
     "input": [
      "p = mutation_free_population(pop_size, 3, cutoff)\n",
      "w = smooth_fitness(s, H, 3, cutoff)\n",
      "W = [mean_fitness(p,w)]"
     ],
     "language": "python",
     "metadata": {},
     "outputs": [],
     "prompt_number": 531
    },
    {
     "cell_type": "markdown",
     "metadata": {},
     "source": [
      "Create Mutaion-Selection Balance"
     ]
    },
    {
     "cell_type": "code",
     "collapsed": false,
     "input": [
      "mprint(p,0)\n",
      "p,W = loop(p,w,Mm,Mu,500,W)\n",
      "plot(log(W));\n",
      "mprint(p,0)"
     ],
     "language": "python",
     "metadata": {},
     "outputs": [
      {
       "output_type": "stream",
       "stream": "stdout",
       "text": [
        "1000000 0 0 0\n",
        "0 0 0 0\n",
        "0 0 0 0\n",
        "738026"
       ]
      },
      {
       "output_type": "stream",
       "stream": "stdout",
       "text": [
        " 225506 33191 3220\n",
        "54 3 0 0\n",
        "0 0 0 0\n"
       ]
      },
      {
       "output_type": "display_data",
       "png": "[encoded data removed]",
       "text": [
        "<matplotlib.figure.Figure at 0xe313128>"
       ]
      }
     ],
     "prompt_number": 532
    },
    {
     "cell_type": "code",
     "collapsed": false,
     "input": [
      "print W[0],W[1],W[-1],e**(-(1+beta)*U)\n",
      "print abs(W[-1] - e**(-(1+beta)*U))/e**(-(1+beta)*U)"
     ],
     "language": "python",
     "metadata": {},
     "outputs": [
      {
       "output_type": "stream",
       "stream": "stdout",
       "text": [
        "1.0 0.9999697507 0.99698820218 0.997003897301\n",
        "1.57422863619e-05\n"
       ]
      }
     ],
     "prompt_number": 533
    },
    {
     "cell_type": "markdown",
     "metadata": {},
     "source": [
      "Wait for peak shift!"
     ]
    },
    {
     "cell_type": "code",
     "collapsed": false,
     "input": [
      "p[2,0] += 1000\n",
      "p[0,0] -= 1000\n",
      "w = rugged_fitness(s, H, 3, cutoff)\n",
      "mprint(p,0)\n",
      "p,W = loop(p,w,Mm,Mu,50000,W)\n",
      "plot(log(W));\n",
      "mprint(p,0)"
     ],
     "language": "python",
     "metadata": {},
     "outputs": [
      {
       "output_type": "stream",
       "stream": "stdout",
       "text": [
        "737026 225506 33191 3220\n",
        "54 3 0 0\n",
        "1000 0 0 0\n",
        "0"
       ]
      },
      {
       "output_type": "stream",
       "stream": "stdout",
       "text": [
        " 0 0 0\n",
        "0 0 0 0\n",
        "734335 228797 33409 3459\n"
       ]
      },
      {
       "output_type": "display_data",
       "png": "[encoded data removed]",
       "text": [
        "<matplotlib.figure.Figure at 0x7c8f518>"
       ]
      }
     ],
     "prompt_number": 534
    },
    {
     "cell_type": "code",
     "collapsed": false,
     "input": [
      "mprint(p,0)"
     ],
     "language": "python",
     "metadata": {},
     "outputs": [
      {
       "output_type": "stream",
       "stream": "stdout",
       "text": [
        "0 0 0 0\n",
        "0 0 0 0\n",
        "734335 228797 33409 3459\n"
       ]
      }
     ],
     "prompt_number": 535
    },
    {
     "cell_type": "code",
     "collapsed": false,
     "input": [
      "W[-1],e**(-(1+beta)*U)*(1+s*H)"
     ],
     "language": "python",
     "metadata": {},
     "outputs": [
      {
       "output_type": "pyout",
       "prompt_number": 536,
       "text": [
        "(1.0168833442438201, 1.0169439752468723)"
       ]
      }
     ],
     "prompt_number": 536
    }
   ],
   "metadata": {}
  }
 ]
}