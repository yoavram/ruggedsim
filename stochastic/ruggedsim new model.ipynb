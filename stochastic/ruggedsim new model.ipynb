{
 "metadata": {
  "name": "ruggedsim new model"
 },
 "nbformat": 3,
 "nbformat_minor": 0,
 "worksheets": [
  {
   "cells": [
    {
     "cell_type": "markdown",
     "metadata": {},
     "source": [
      "# Stress-induced mutation on rugged landscapes\n",
      "## New computational model\n",
      "\n",
      "#### Parameters"
     ]
    },
    {
     "cell_type": "code",
     "collapsed": false,
     "input": [
      "U = 0.003\n",
      "beta = 1./5000.\n",
      "s = 0.01\n",
      "H = 2\n",
      "pi = 1\n",
      "tau = 10\n",
      "pop_size = 1e6\n",
      "cutoff = 3"
     ],
     "language": "python",
     "metadata": {},
     "outputs": [],
     "prompt_number": 2
    },
    {
     "cell_type": "code",
     "collapsed": false,
     "input": [
      "def mprint(M, precision=3):\n",
      "    '''mprint(matrix, precision=int) -> None\n",
      "    pretty prints a matrix with specified precision.\n",
      "    '''\n",
      "    for row in M:\n",
      "        for cell in row:\n",
      "            print (\"%.\" +str(precision) + \"f\") % cell,\n",
      "        print\n",
      "mprint([[1,2,3],[2,3,4],[4,5,6]],1)\n",
      "help(mprint)"
     ],
     "language": "python",
     "metadata": {},
     "outputs": [
      {
       "output_type": "stream",
       "stream": "stdout",
       "text": [
        "1.0 2.0 3.0\n",
        "2.0 3.0 4.0\n",
        "4.0 5.0 6.0\n",
        "Help on function mprint in module __main__:\n",
        "\n",
        "mprint(M, precision=3)\n",
        "    mprint(matrix, precision=int) -> None\n",
        "    pretty prints a matrix with specified precision.\n",
        "\n"
       ]
      }
     ],
     "prompt_number": 66
    },
    {
     "cell_type": "markdown",
     "metadata": {},
     "source": [
      "### Population matrix"
     ]
    },
    {
     "cell_type": "markdown",
     "metadata": {},
     "source": [
      "The population matrix $p_{i,j}$ stands for the number of individuals of strain $i$ with $j$ harmful alleles, with $i \\in \\{wildtype, single \\; mutant, double \\; mutant\\}$ and $j \\ge 0$."
     ]
    },
    {
     "cell_type": "code",
     "collapsed": false,
     "input": [
      "def mutation_free_population(pop_size, strains, cutoff):\n",
      "    p = array([ [0] * cutoff for _ in range(strains) ])\n",
      "    p[0,0] = pop_size\n",
      "    return p\n",
      "p = mutation_free_population(pop_size, 3, cutoff)\n",
      "print p"
     ],
     "language": "python",
     "metadata": {},
     "outputs": [
      {
       "output_type": "stream",
       "stream": "stdout",
       "text": [
        "[[1000000       0       0]\n",
        " [      0       0       0]\n",
        " [      0       0       0]]\n"
       ]
      }
     ],
     "prompt_number": 18
    },
    {
     "cell_type": "markdown",
     "metadata": {},
     "source": [
      "### Mutation matrix\n",
      "#### Global mutation"
     ]
    },
    {
     "cell_type": "code",
     "collapsed": false,
     "input": [
      "from scipy.stats import poisson\n",
      "from scipy.linalg import block_diag\n",
      "np.set_printoptions(precision=2)"
     ],
     "language": "python",
     "metadata": {},
     "outputs": [],
     "prompt_number": 4
    },
    {
     "cell_type": "markdown",
     "metadata": {},
     "source": [
      "Construct the mutation matrix"
     ]
    },
    {
     "cell_type": "code",
     "collapsed": false,
     "input": [
      "mutation_rates = array([U for _ in range(min(pi,cutoff))] + [tau * U for _ in range(pi, cutoff)])\n",
      "print mutation_rates\n",
      "mutation_rvs = poisson(mutation_rates)"
     ],
     "language": "python",
     "metadata": {},
     "outputs": [
      {
       "output_type": "stream",
       "stream": "stdout",
       "text": [
        "[ 0.    0.03  0.03]\n"
       ]
      }
     ],
     "prompt_number": 5
    },
    {
     "cell_type": "markdown",
     "metadata": {},
     "source": [
      "The mutation matrix $m_{i,j}$ gives the transition probabilities from individual with $j$ harmful alleles to an individual with $i$ harmful alleles, where $i \\ge j \\ge 0$ and $i \\ge 0$."
     ]
    },
    {
     "cell_type": "code",
     "collapsed": false,
     "input": [
      "m = diag(mutation_rvs.pmf(0))\n",
      "for k in range(1,cutoff):\n",
      "    m += diag(mutation_rvs.pmf(k)[:-k],-k)\n",
      "# absorb further mutations in the last class\n",
      "for j in range(cutoff):\n",
      "    m[-1,j] = 1 - mutation_rvs.cdf(cutoff - 2 - j)[j]"
     ],
     "language": "python",
     "metadata": {},
     "outputs": [],
     "prompt_number": 6
    },
    {
     "cell_type": "code",
     "collapsed": false,
     "input": [
      "Mm = block_diag(m,m,m)\n",
      "print Mm"
     ],
     "language": "python",
     "metadata": {},
     "outputs": [
      {
       "output_type": "stream",
       "stream": "stdout",
       "text": [
        "[[  9.97e-01   0.00e+00   0.00e+00   0.00e+00   0.00e+00   0.00e+00\n",
        "    0.00e+00   0.00e+00   0.00e+00]\n",
        " [  2.99e-03   9.70e-01   0.00e+00   0.00e+00   0.00e+00   0.00e+00\n",
        "    0.00e+00   0.00e+00   0.00e+00]\n",
        " [  4.49e-06   2.96e-02   1.00e+00   0.00e+00   0.00e+00   0.00e+00\n",
        "    0.00e+00   0.00e+00   0.00e+00]\n",
        " [  0.00e+00   0.00e+00   0.00e+00   9.97e-01   0.00e+00   0.00e+00\n",
        "    0.00e+00   0.00e+00   0.00e+00]\n",
        " [  0.00e+00   0.00e+00   0.00e+00   2.99e-03   9.70e-01   0.00e+00\n",
        "    0.00e+00   0.00e+00   0.00e+00]\n",
        " [  0.00e+00   0.00e+00   0.00e+00   4.49e-06   2.96e-02   1.00e+00\n",
        "    0.00e+00   0.00e+00   0.00e+00]\n",
        " [  0.00e+00   0.00e+00   0.00e+00   0.00e+00   0.00e+00   0.00e+00\n",
        "    9.97e-01   0.00e+00   0.00e+00]\n",
        " [  0.00e+00   0.00e+00   0.00e+00   0.00e+00   0.00e+00   0.00e+00\n",
        "    2.99e-03   9.70e-01   0.00e+00]\n",
        " [  0.00e+00   0.00e+00   0.00e+00   0.00e+00   0.00e+00   0.00e+00\n",
        "    4.49e-06   2.96e-02   1.00e+00]]\n"
       ]
      }
     ],
     "prompt_number": 28
    },
    {
     "cell_type": "code",
     "collapsed": false,
     "input": [
      "assert Mm[0,0] == e ** -U\n",
      "assert (Mm.sum(axis=0) == 1).all()"
     ],
     "language": "python",
     "metadata": {},
     "outputs": [],
     "prompt_number": 29
    },
    {
     "cell_type": "markdown",
     "metadata": {},
     "source": [
      "Run the mutation function"
     ]
    },
    {
     "cell_type": "code",
     "collapsed": false,
     "input": [
      "%%timeit\n",
      "p = mutation_free_population(pop_size, 3, cutoff)\n",
      "#print p\n",
      "for strain in range(p.shape[0]):\n",
      "    strain_size = p[strain,:].sum()\n",
      "    if strain_size > 0:\n",
      "        freqs = m.dot( p[strain,:] ) / strain_size\n",
      "        p[strain,:] = multinomial(strain_size, freqs)\n",
      "#print p"
     ],
     "language": "python",
     "metadata": {},
     "outputs": [
      {
       "output_type": "stream",
       "stream": "stdout",
       "text": [
        "1000 loops, best of 3: 217 \u00b5s per loop\n"
       ]
      }
     ],
     "prompt_number": 25
    },
    {
     "cell_type": "code",
     "collapsed": false,
     "input": [
      "print p"
     ],
     "language": "python",
     "metadata": {},
     "outputs": [
      {
       "output_type": "stream",
       "stream": "stdout",
       "text": [
        "[[997068   2925      7]\n",
        " [     0      0      0]\n",
        " [     0      0      0]]\n"
       ]
      }
     ],
     "prompt_number": 26
    },
    {
     "cell_type": "code",
     "collapsed": false,
     "input": [
      "%%timeit\n",
      "p = mutation_free_population(pop_size, 3, cutoff)\n",
      "#print p\n",
      "size, shape = p.sum(), p.shape\n",
      "freqs = Mm.dot( p.flatten(order=\"C\") ) / size\n",
      "p = multinomial(size, freqs)\n",
      "p = p.reshape(shape)\n",
      "#print p"
     ],
     "language": "python",
     "metadata": {},
     "outputs": [
      {
       "output_type": "stream",
       "stream": "stdout",
       "text": [
        "1000 loops, best of 3: 167 \u00b5s per loop\n"
       ]
      }
     ],
     "prompt_number": 27
    },
    {
     "cell_type": "markdown",
     "metadata": {},
     "source": [
      "A separate mutation operator creates transition between the strains"
     ]
    },
    {
     "cell_type": "code",
     "collapsed": false,
     "input": [
      "print(p.flatten(\"C\"))\n",
      "print(p.flatten(\"F\"))"
     ],
     "language": "python",
     "metadata": {},
     "outputs": [
      {
       "output_type": "stream",
       "stream": "stdout",
       "text": [
        "[99999874      126        0        0        0        0        0        0\n",
        "        0]\n",
        "[99999874        0        0      126        0        0        0        0\n",
        "        0]\n"
       ]
      }
     ],
     "prompt_number": 100
    },
    {
     "cell_type": "code",
     "collapsed": false,
     "input": [
      "def small_strain_mutation_matrix(mutation_rates, beta):\n",
      "    mu = mutation_rates * beta\n",
      "    u = array([ [ (1-mu[0])**2, 0, 0 ], [2 * mu[0] * (1-mu[0]) , 1-mu[1], 0], [ mu[0] ** 2, mu[1], 1 ] ])\n",
      "    assert (1 == u.sum(axis=0)).all()\n",
      "    return u\n",
      "\n",
      "def big_strain_mutation_matrix(mutation_rates, beta, cutoff):\n",
      "    Mu = zeros((0,0))\n",
      "    for i in range(cutoff):\n",
      "        u = small_strain_mutation_matrix(mutation_rates, beta)\n",
      "        Mu = block_diag(Mu, u)\n",
      "    assert (1 == Mu.sum(axis=0)).all()\n",
      "    return Mu\n",
      "Mu = big_strain_mutation_matrix(mutation_rates, beta, cutoff)\n",
      "mprint(Mu,7)"
     ],
     "language": "python",
     "metadata": {},
     "outputs": [
      {
       "output_type": "stream",
       "stream": "stdout",
       "text": [
        "0.9999988 0.0000000 0.0000000 0.0000000 0.0000000 0.0000000 0.0000000 0.0000000 0.0000000\n",
        "0.0000012 0.9999940 0.0000000 0.0000000 0.0000000 0.0000000 0.0000000 0.0000000 0.0000000\n",
        "0.0000000 0.0000060 1.0000000 0.0000000 0.0000000 0.0000000 0.0000000 0.0000000 0.0000000\n",
        "0.0000000 0.0000000 0.0000000 0.9999988 0.0000000 0.0000000 0.0000000 0.0000000 0.0000000\n",
        "0.0000000 0.0000000 0.0000000 0.0000012 0.9999940 0.0000000 0.0000000 0.0000000 0.0000000\n",
        "0.0000000 0.0000000 0.0000000 0.0000000 0.0000060 1.0000000 0.0000000 0.0000000 0.0000000\n",
        "0.0000000 0.0000000 0.0000000 0.0000000 0.0000000 0.0000000 0.9999988 0.0000000 0.0000000\n",
        "0.0000000 0.0000000 0.0000000 0.0000000 0.0000000 0.0000000 0.0000012 0.9999940 0.0000000\n",
        "0.0000000 0.0000000 0.0000000 0.0000000 0.0000000 0.0000000 0.0000000 0.0000060 1.0000000\n"
       ]
      }
     ],
     "prompt_number": 84
    },
    {
     "cell_type": "code",
     "collapsed": false,
     "input": [
      "p = mutation_free_population(pop_size*100, 3, cutoff)\n",
      "mprint(p,0)\n",
      "for load in range(p.shape[1]):\n",
      "    load_size = p[:,load].sum()\n",
      "    if load_size > 0:\n",
      "        freqs = u.dot( p[:,load] ) / load_size\n",
      "        p[:,load] = multinomial(load_size, freqs)\n",
      "mprint(p,0)"
     ],
     "language": "python",
     "metadata": {},
     "outputs": [
      {
       "output_type": "stream",
       "stream": "stdout",
       "text": [
        "100000000 0 0\n",
        "0 0 0\n",
        "0 0 0\n",
        "99999868 0 0\n",
        "132 0 0\n",
        "0 0 0\n"
       ]
      }
     ],
     "prompt_number": 91
    },
    {
     "cell_type": "code",
     "collapsed": false,
     "input": [
      "p = mutation_free_population(pop_size*100, 3, cutoff)\n",
      "mprint(p,0)\n",
      "#print p.flatten(\"F\")\n",
      "size, shape = p.sum(), p.shape\n",
      "freqs = Mu.dot( p.flatten(order=\"F\") ) / size\n",
      "p = multinomial(size, freqs)\n",
      "p = p.reshape(shape, order=\"F\")\n",
      "#print p\n",
      "mprint(p,0)"
     ],
     "language": "python",
     "metadata": {},
     "outputs": [
      {
       "output_type": "stream",
       "stream": "stdout",
       "text": [
        "100000000 0 0\n",
        "0 0 0\n",
        "0 0 0\n",
        "99999877 0 0\n",
        "123 0 0\n",
        "0 0 0\n"
       ]
      }
     ],
     "prompt_number": 107
    },
    {
     "cell_type": "markdown",
     "metadata": {},
     "source": [
      "### Fitness matrix"
     ]
    },
    {
     "cell_type": "code",
     "collapsed": false,
     "input": [
      "w = array([ [ (1-s) ** (k+i) for k in range(cutoff)] for i in range(3) ])\n",
      "print w"
     ],
     "language": "python",
     "metadata": {},
     "outputs": [
      {
       "output_type": "stream",
       "stream": "stdout",
       "text": [
        "[[ 1.          0.99        0.9801      0.970299    0.96059601  0.95099005\n",
        "   0.94148015  0.93206535  0.92274469  0.91351725]\n",
        " [ 0.99        0.9801      0.970299    0.96059601  0.95099005  0.94148015\n",
        "   0.93206535  0.92274469  0.91351725  0.90438208]\n",
        " [ 0.9801      0.970299    0.96059601  0.95099005  0.94148015  0.93206535\n",
        "   0.92274469  0.91351725  0.90438208  0.89533825]]\n"
       ]
      }
     ],
     "prompt_number": 4
    },
    {
     "cell_type": "code",
     "collapsed": false,
     "input": [
      "ww = w.copy()\n",
      "ww[2,:] *= (1 + s * H)\n",
      "print ww"
     ],
     "language": "python",
     "metadata": {},
     "outputs": [
      {
       "output_type": "stream",
       "stream": "stdout",
       "text": [
        "[[ 1.          0.99        0.9801      0.970299    0.96059601  0.95099005\n",
        "   0.94148015  0.93206535  0.92274469  0.91351725]\n",
        " [ 0.99        0.9801      0.970299    0.96059601  0.95099005  0.94148015\n",
        "   0.93206535  0.92274469  0.91351725  0.90438208]\n",
        " [ 0.999702    0.98970498  0.97980793  0.97000985  0.96030975  0.95070665\n",
        "   0.94119959  0.93178759  0.92246972  0.91324502]]\n"
       ]
      }
     ],
     "prompt_number": 6
    },
    {
     "cell_type": "code",
     "collapsed": false,
     "input": [
      "w*p"
     ],
     "language": "python",
     "metadata": {},
     "outputs": [
      {
       "output_type": "pyout",
       "prompt_number": 7,
       "text": [
        "array([[ 1000000.,        0.,        0.,        0.,        0.,        0.,\n",
        "               0.,        0.,        0.,        0.],\n",
        "       [       0.,        0.,        0.,        0.,        0.,        0.,\n",
        "               0.,        0.,        0.,        0.],\n",
        "       [       0.,        0.,        0.,        0.,        0.,        0.,\n",
        "               0.,        0.,        0.,        0.]])"
       ]
      }
     ],
     "prompt_number": 7
    },
    {
     "cell_type": "code",
     "collapsed": false,
     "input": [],
     "language": "python",
     "metadata": {},
     "outputs": []
    }
   ],
   "metadata": {}
  }
 ]
}