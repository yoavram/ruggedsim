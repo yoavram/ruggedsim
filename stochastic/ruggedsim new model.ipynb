{
 "metadata": {
  "name": "ruggedsim new model"
 },
 "nbformat": 3,
 "nbformat_minor": 0,
 "worksheets": [
  {
   "cells": [
    {
     "cell_type": "markdown",
     "metadata": {},
     "source": [
      "# Stress-induced mutation on rugged landscapes\n",
      "## New computational model\n",
      "\n",
      "### Parameters"
     ]
    },
    {
     "cell_type": "code",
     "collapsed": false,
     "input": [
      "U = 0.003\n",
      "beta = 1./5000.\n",
      "s = 0.01\n",
      "H = 2\n",
      "pi = 0\n",
      "tau = 10\n",
      "pop_size = 1e6\n",
      "cutoff = 4"
     ],
     "language": "python",
     "metadata": {},
     "outputs": [],
     "prompt_number": 1
    },
    {
     "cell_type": "markdown",
     "metadata": {},
     "source": [
      "### General"
     ]
    },
    {
     "cell_type": "code",
     "collapsed": false,
     "input": [
      "np.set_printoptions(precision=5)"
     ],
     "language": "python",
     "metadata": {},
     "outputs": [],
     "prompt_number": 5
    },
    {
     "cell_type": "code",
     "collapsed": false,
     "input": [
      "def mprint(M, precision=3):\n",
      "    '''mprint(matrix, precision=int) -> None\n",
      "    pretty prints a matrix with specified precision.\n",
      "    '''\n",
      "    for row in M:\n",
      "        for cell in row:\n",
      "            print (\"%.\" +str(precision) + \"f\") % cell,\n",
      "        print\n",
      "mprint([[1,2,3],[2,3,4],[4,5,6]],1)\n",
      "help(mprint)"
     ],
     "language": "python",
     "metadata": {},
     "outputs": [
      {
       "output_type": "stream",
       "stream": "stdout",
       "text": [
        "1.0 2.0 3.0\n",
        "2.0 3.0 4.0\n",
        "4.0 5.0 6.0\n",
        "Help on function mprint in module __main__:\n",
        "\n",
        "mprint(M, precision=3)\n",
        "    mprint(matrix, precision=int) -> None\n",
        "    pretty prints a matrix with specified precision.\n",
        "\n"
       ]
      }
     ],
     "prompt_number": 2
    },
    {
     "cell_type": "markdown",
     "metadata": {},
     "source": [
      "### Population matrix"
     ]
    },
    {
     "cell_type": "markdown",
     "metadata": {},
     "source": [
      "The population matrix $p_{i,j}$ stands for the number of individuals of strain $i$ with $j$ harmful alleles, with $i \\in \\{wildtype, single \\; mutant, double \\; mutant\\}$ and $j \\ge 0$."
     ]
    },
    {
     "cell_type": "code",
     "collapsed": false,
     "input": [
      "def mutation_free_population(pop_size, strains, cutoff):\n",
      "    p = array([ [0] * cutoff for _ in range(strains) ], dtype=np.uint64)\n",
      "    p[0,0] = pop_size\n",
      "    return p\n",
      "p = mutation_free_population(pop_size, 3, cutoff)\n",
      "print p"
     ],
     "language": "python",
     "metadata": {},
     "outputs": [
      {
       "output_type": "stream",
       "stream": "stdout",
       "text": [
        "[[1000000       0       0       0]\n",
        " [      0       0       0       0]\n",
        " [      0       0       0       0]]\n"
       ]
      }
     ],
     "prompt_number": 3
    },
    {
     "cell_type": "code",
     "collapsed": false,
     "input": [
      "def uniform_population(pop_size, strains, cutoff):\n",
      "    rounded = int(pop_size / (strains * cutoff))\n",
      "    p =  ones((strains, cutoff), dtype=np.int) * rounded\n",
      "    p[0,0] += pop_size % (strains * cutoff)\n",
      "    return p\n",
      "mprint(uniform_population(pop_size, 3, cutoff),0)\n",
      "type(uniform_population(pop_size, 3, cutoff)[0,0])"
     ],
     "language": "python",
     "metadata": {},
     "outputs": [
      {
       "output_type": "stream",
       "stream": "stdout",
       "text": [
        "83337 83333 83333 83333\n",
        "83333 83333 83333 83333\n",
        "83333 83333 83333 83333\n"
       ]
      },
      {
       "output_type": "pyout",
       "prompt_number": 4,
       "text": [
        "numpy.int32"
       ]
      }
     ],
     "prompt_number": 4
    },
    {
     "cell_type": "markdown",
     "metadata": {},
     "source": [
      "### Fitness matrix\n",
      "The fitness matrix $\\omega_{i,j}$ gives the fitness of strain $i \\in \\{wildtype, single \\; mutant, double \\; mutant\\}$ with $j \\ge 0$ "
     ]
    },
    {
     "cell_type": "code",
     "collapsed": false,
     "input": [
      "def smooth_fitness(s, H, strains, cutoff):\n",
      "    w = array([ [ (1 - s ) ** (k + i) for k in range(cutoff)] for i in range(strains) ])\n",
      "    return w\n",
      "w = smooth_fitness(s, H, 3, cutoff)\n",
      "mprint(w,5)"
     ],
     "language": "python",
     "metadata": {},
     "outputs": [
      {
       "output_type": "stream",
       "stream": "stdout",
       "text": [
        "1.00000 0.99000 0.98010 0.97030\n",
        "0.99000 0.98010 0.97030 0.96060\n",
        "0.98010 0.97030 0.96060 0.95099\n"
       ]
      }
     ],
     "prompt_number": 6
    },
    {
     "cell_type": "code",
     "collapsed": false,
     "input": [
      "def rugged_fitness(s, H, strains, cutoff):\n",
      "    w = smooth_fitness(s, H, strains, cutoff)\n",
      "    w[-1,:] *= (1 + s * H)/((1 - s) ** 2) # fix fitness of the double mutant strain\n",
      "    return w\n",
      "ww = rugged_fitness(s, H, 3, cutoff)\n",
      "mprint(ww,5)"
     ],
     "language": "python",
     "metadata": {},
     "outputs": [
      {
       "output_type": "stream",
       "stream": "stdout",
       "text": [
        "1.00000 0.99000 0.98010 0.97030\n",
        "0.99000 0.98010 0.97030 0.96060\n",
        "1.02000 1.00980 0.99970 0.98970\n"
       ]
      }
     ],
     "prompt_number": 7
    },
    {
     "cell_type": "code",
     "collapsed": false,
     "input": [
      "p = uniform_population(pop_size, 3, cutoff)\n",
      "mprint(p,0)\n",
      "size, shape = p.sum(), p.shape\n",
      "wp = w * p\n",
      "wp /= wp.sum()\n",
      "p = multinomial(p.sum(), wp.flatten())\n",
      "p = p.reshape(shape)\n",
      "print\n",
      "mprint(p,0)"
     ],
     "language": "python",
     "metadata": {},
     "outputs": [
      {
       "output_type": "stream",
       "stream": "stdout",
       "text": [
        "83337 83333 83333 83333\n",
        "83333 83333 83333 83333\n",
        "83333 83333 83333 83333\n",
        "\n",
        "85448 84931 83950 83362\n",
        "84497 83817 82376 82152\n",
        "83912 82561 81952 81042\n"
       ]
      }
     ],
     "prompt_number": 9
    },
    {
     "cell_type": "markdown",
     "metadata": {},
     "source": [
      "### Mean fitness"
     ]
    },
    {
     "cell_type": "code",
     "collapsed": false,
     "input": [
      "def mean_fitness(p, w):\n",
      "    return ((p*w).sum())/(p.sum())\n",
      "\n",
      "p = uniform_population(pop_size, 3, cutoff)\n",
      "#p = mutation_free_population(pop_size, 3, cutoff)\n",
      "print mean_fitness(p,w)"
     ],
     "language": "python",
     "metadata": {},
     "outputs": [
      {
       "output_type": "stream",
       "stream": "stdout",
       "text": [
        "0.975281688032\n"
       ]
      }
     ],
     "prompt_number": 10
    },
    {
     "cell_type": "markdown",
     "metadata": {},
     "source": [
      "### Mutation rates matrix and stress-induction\n",
      "\n",
      "The mutation rates matrix $\\mu_{i,j}$ gives the mutation rate of strain $i$ with $j$ harmful alleles."
     ]
    },
    {
     "cell_type": "code",
     "collapsed": false,
     "input": [
      "def mutation_rates_matrix(U, pi, tau, w):\n",
      "    mutation_rates = np.ones(w.shape) * U\n",
      "    mutation_rates[w < pi] *= tau\n",
      "    return mutation_rates\n",
      "mprint(mutation_rates_matrix(U,1,10,smooth_fitness(s,H,3,cutoff)))\n",
      "print\n",
      "mprint(mutation_rates_matrix(U,1,10,rugged_fitness(s,H,3,cutoff)))\n",
      "print\n",
      "mprint(mutation_rates_matrix(U,1-s,10,smooth_fitness(s,H,3,cutoff)))\n",
      "print"
     ],
     "language": "python",
     "metadata": {},
     "outputs": [
      {
       "output_type": "stream",
       "stream": "stdout",
       "text": [
        "0.003 0.030 0.030 0.030\n",
        "0.030 0.030 0.030 0.030\n",
        "0.030 0.030 0.030 0.030\n",
        "\n",
        "0.003 0.030 0.030 0.030\n",
        "0.030 0.030 0.030 0.030\n",
        "0.003 0.003 0.030 0.030\n",
        "\n",
        "0.003 0.003 0.030 0.030\n",
        "0.003 0.030 0.030 0.030\n",
        "0.030 0.030 0.030 0.030\n",
        "\n"
       ]
      }
     ],
     "prompt_number": 12
    },
    {
     "cell_type": "markdown",
     "metadata": {},
     "source": [
      "### Mutation matrix"
     ]
    },
    {
     "cell_type": "code",
     "collapsed": false,
     "input": [
      "from scipy.stats import poisson\n",
      "from scipy.linalg import block_diag"
     ],
     "language": "python",
     "metadata": {},
     "outputs": [],
     "prompt_number": 13
    },
    {
     "cell_type": "markdown",
     "metadata": {},
     "source": [
      "#### Global mutation"
     ]
    },
    {
     "cell_type": "markdown",
     "metadata": {},
     "source": [
      "The mutation matrix $m_{i,j}$ gives the transition probabilities from individual with $j$ harmful alleles to an individual with $i$ harmful alleles, where $i \\ge j \\ge 0$ and $i \\ge 0$."
     ]
    },
    {
     "cell_type": "code",
     "collapsed": false,
     "input": [
      "def small_background_mutation_matrix(mutation_rates):\n",
      "    assert mutation_rates.shape[0] == len(mutation_rates)\n",
      "    mutation_rvs = poisson(mutation_rates)\n",
      "    m = diag(mutation_rvs.pmf(0))\n",
      "    for k in range(1,mutation_rates.shape[0]):\n",
      "        m += diag(mutation_rvs.pmf(k)[:-k],-k)\n",
      "    # absorb further mutations in the last class\n",
      "    for j in range(mutation_rates.shape[0]):\n",
      "        m[-1,j] = 1 - mutation_rvs.cdf(mutation_rates.shape[0] - 2 - j)[j]\n",
      "    return m"
     ],
     "language": "python",
     "metadata": {},
     "outputs": [],
     "prompt_number": 17
    },
    {
     "cell_type": "code",
     "collapsed": false,
     "input": [
      "mprint(small_background_mutation_matrix(mutation_rates_matrix(U,0,1,w)[0,:]))"
     ],
     "language": "python",
     "metadata": {},
     "outputs": [
      {
       "output_type": "stream",
       "stream": "stdout",
       "text": [
        "0.997 0.000 0.000 0.000\n",
        "0.003 0.997 0.000 0.000\n",
        "0.000 0.003 0.997 0.000\n",
        "0.000 0.000 0.003 1.000\n"
       ]
      }
     ],
     "prompt_number": 19
    },
    {
     "cell_type": "markdown",
     "metadata": {},
     "source": [
      "This matrix now must be composed into a larger block matrix for the entire population, where $M_{k*i,l*j}$ gives the transition probability from strain $l$ with $j$ harmful alleles to strain $k$ with $i$ harmful alleles, and $l,k \\in \\{wildtype, single \\; mutant, double \\; mutant\\}, i,j \\ge 0$."
     ]
    },
    {
     "cell_type": "code",
     "collapsed": false,
     "input": [
      "def big_mutation_matrix(mutation_rates, repeats, small_mutation_matrix_function):\n",
      "    M = zeros((0,0))\n",
      "    for i in range(repeats):\n",
      "        m = small_mutation_matrix_function(mutation_rates[i,:])\n",
      "        M = block_diag(M, m)\n",
      "    assert allclose(M.sum(axis=0),1)\n",
      "    return M"
     ],
     "language": "python",
     "metadata": {},
     "outputs": [],
     "prompt_number": 78
    },
    {
     "cell_type": "code",
     "collapsed": false,
     "input": [
      "mutation_rates = mutation_rates_matrix(U,0,1,w)\n",
      "Mm = big_mutation_matrix(mutation_rates, 3, small_background_mutation_matrix)\n",
      "mprint(Mm,9)  \n",
      "print"
     ],
     "language": "python",
     "metadata": {},
     "outputs": [
      {
       "output_type": "stream",
       "stream": "stdout",
       "text": [
        "0.997004496 0.000000000 0.000000000 0.000000000 0.000000000 0.000000000 0.000000000 0.000000000 0.000000000 0.000000000 0.000000000 0.000000000\n",
        "0.002991013 0.997004496 0.000000000 0.000000000 0.000000000 0.000000000 0.000000000 0.000000000 0.000000000 0.000000000 0.000000000 0.000000000\n",
        "0.000004487 0.002991013 0.997004496 0.000000000 0.000000000 0.000000000 0.000000000 0.000000000 0.000000000 0.000000000 0.000000000 0.000000000\n",
        "0.000000004 0.000004491 0.002995504 1.000000000 0.000000000 0.000000000 0.000000000 0.000000000 0.000000000 0.000000000 0.000000000 0.000000000\n",
        "0.000000000 0.000000000 0.000000000 0.000000000 0.997004496 0.000000000 0.000000000 0.000000000 0.000000000 0.000000000 0.000000000 0.000000000\n",
        "0.000000000 0.000000000 0.000000000 0.000000000 0.002991013 0.997004496 0.000000000 0.000000000 0.000000000 0.000000000 0.000000000 0.000000000\n",
        "0.000000000 0.000000000 0.000000000 0.000000000 0.000004487 0.002991013 0.997004496 0.000000000 0.000000000 0.000000000 0.000000000 0.000000000\n",
        "0.000000000 0.000000000 0.000000000 0.000000000 0.000000004 0.000004491 0.002995504 1.000000000 0.000000000 0.000000000 0.000000000 0.000000000\n",
        "0.000000000 0.000000000 0.000000000 0.000000000 0.000000000 0.000000000 0.000000000 0.000000000 0.997004496 0.000000000 0.000000000 0.000000000\n",
        "0.000000000 0.000000000 0.000000000 0.000000000 0.000000000 0.000000000 0.000000000 0.000000000 0.002991013 0.997004496 0.000000000 0.000000000\n",
        "0.000000000 0.000000000 0.000000000 0.000000000 0.000000000 0.000000000 0.000000000 0.000000000 0.000004487 0.002991013 0.997004496 0.000000000\n",
        "0.000000000 0.000000000 0.000000000 0.000000000 0.000000000 0.000000000 0.000000000 0.000000000 0.000000004 0.000004491 0.002995504 1.000000000\n",
        "\n"
       ]
      }
     ],
     "prompt_number": 25
    },
    {
     "cell_type": "code",
     "collapsed": false,
     "input": [
      "assert np.allclose(Mm[0,0], e ** -U)\n",
      "assert np.allclose(Mm[1,0], (U * e ** -U))"
     ],
     "language": "python",
     "metadata": {},
     "outputs": [],
     "prompt_number": 38
    },
    {
     "cell_type": "markdown",
     "metadata": {},
     "source": [
      "Run the mutation function"
     ]
    },
    {
     "cell_type": "code",
     "collapsed": false,
     "input": [
      "#%%timeit\n",
      "p = mutation_free_population(pop_size, 3, cutoff)\n",
      "mprint(p,0)\n",
      "size, shape = p.sum(), p.shape\n",
      "freqs = Mm.dot( p.flatten(order=\"C\") ) / size\n",
      "p = multinomial(size, freqs)\n",
      "p = p.reshape(shape)\n",
      "mprint(p,0)"
     ],
     "language": "python",
     "metadata": {},
     "outputs": [
      {
       "output_type": "stream",
       "stream": "stdout",
       "text": [
        "1000000 0 0 0\n",
        "0 0 0 0\n",
        "0 0 0 0\n",
        "997025 2974 1 0\n",
        "0 0 0 0\n",
        "0 0 0 0\n"
       ]
      }
     ],
     "prompt_number": 519
    },
    {
     "cell_type": "markdown",
     "metadata": {},
     "source": [
      "#### Strain mutation"
     ]
    },
    {
     "cell_type": "code",
     "collapsed": false,
     "input": [
      "def small_strain_mutation_matrix(mutation_rates):\n",
      "    assert mutation_rates.shape[0] == len(mutation_rates)\n",
      "    mu = mutation_rates\n",
      "    u = array([ [ (1-mu[0])**2, 0, 0 ], [2 * mu[0] * (1-mu[0]) , 1-mu[1], 0], [ mu[0] ** 2, mu[1], 1 ] ])\n",
      "    return u\n",
      "\n",
      "Mu = big_mutation_matrix((mutation_rates * beta).transpose(), cutoff, small_strain_mutation_matrix)\n",
      "mprint(Mu,7)"
     ],
     "language": "python",
     "metadata": {},
     "outputs": [
      {
       "output_type": "stream",
       "stream": "stdout",
       "text": [
        "0.9999988 0.0000000 0.0000000 0.0000000 0.0000000 0.0000000 0.0000000 0.0000000 0.0000000 0.0000000 0.0000000 0.0000000\n",
        "0.0000012 0.9999994 0.0000000 0.0000000 0.0000000 0.0000000 0.0000000 0.0000000 0.0000000 0.0000000 0.0000000 0.0000000\n",
        "0.0000000 0.0000006 1.0000000 0.0000000 0.0000000 0.0000000 0.0000000 0.0000000 0.0000000 0.0000000 0.0000000 0.0000000\n",
        "0.0000000 0.0000000 0.0000000 0.9999988 0.0000000 0.0000000 0.0000000 0.0000000 0.0000000 0.0000000 0.0000000 0.0000000\n",
        "0.0000000 0.0000000 0.0000000 0.0000012 0.9999994 0.0000000 0.0000000 0.0000000 0.0000000 0.0000000 0.0000000 0.0000000\n",
        "0.0000000 0.0000000 0.0000000 0.0000000 0.0000006 1.0000000 0.0000000 0.0000000 0.0000000 0.0000000 0.0000000 0.0000000\n",
        "0.0000000 0.0000000 0.0000000 0.0000000 0.0000000 0.0000000 0.9999988 0.0000000 0.0000000 0.0000000 0.0000000 0.0000000\n",
        "0.0000000 0.0000000 0.0000000 0.0000000 0.0000000 0.0000000 0.0000012 0.9999994 0.0000000 0.0000000 0.0000000 0.0000000\n",
        "0.0000000 0.0000000 0.0000000 0.0000000 0.0000000 0.0000000 0.0000000 0.0000006 1.0000000 0.0000000 0.0000000 0.0000000\n",
        "0.0000000 0.0000000 0.0000000 0.0000000 0.0000000 0.0000000 0.0000000 0.0000000 0.0000000 0.9999988 0.0000000 0.0000000\n",
        "0.0000000 0.0000000 0.0000000 0.0000000 0.0000000 0.0000000 0.0000000 0.0000000 0.0000000 0.0000012 0.9999994 0.0000000\n",
        "0.0000000 0.0000000 0.0000000 0.0000000 0.0000000 0.0000000 0.0000000 0.0000000 0.0000000 0.0000000 0.0000006 1.0000000\n"
       ]
      }
     ],
     "prompt_number": 40
    },
    {
     "cell_type": "code",
     "collapsed": false,
     "input": [
      "assert np.allclose(Mu[2,0], (beta * U) ** 2)"
     ],
     "language": "python",
     "metadata": {},
     "outputs": [],
     "prompt_number": 42
    },
    {
     "cell_type": "code",
     "collapsed": false,
     "input": [
      "p = mutation_free_population(pop_size, 3, cutoff)\n",
      "mprint(p,0)\n",
      "#print p.flatten(\"F\")\n",
      "size, shape = p.sum(), p.shape\n",
      "freqs = Mu.dot( p.flatten(order=\"F\") ) / size\n",
      "p = multinomial(size, freqs)\n",
      "p = p.reshape(shape, order=\"F\")\n",
      "#print p\n",
      "mprint(p,0)"
     ],
     "language": "python",
     "metadata": {},
     "outputs": [
      {
       "output_type": "stream",
       "stream": "stdout",
       "text": [
        "1000000 0 0 0\n",
        "0 0 0 0\n",
        "0 0 0 0\n",
        "999999 0 0 0\n",
        "1 0 0 0\n",
        "0 0 0 0\n"
       ]
      }
     ],
     "prompt_number": 43
    },
    {
     "cell_type": "markdown",
     "metadata": {},
     "source": [
      "### Integrate mutation and selection"
     ]
    },
    {
     "cell_type": "code",
     "collapsed": false,
     "input": [
      "p = mutation_free_population(pop_size, 3, cutoff)\n",
      "mprint(p,0)\n",
      "w = smooth_fitness(s, H, 3, cutoff)\n",
      "W = [mean_fitness(p,w)]\n",
      "for i in range(1):\n",
      "    #if i % 100 == 0: print p[0,1]\n",
      "    size, shape = p.sum(), p.shape\n",
      "    # selection\n",
      "    p = w * p\n",
      "    #p /= W[-1]\n",
      "    # strain mutations\n",
      "    p = Mu.dot( p.flatten(order=\"F\") ) / size\n",
      "    p = p.reshape(shape, order=\"F\")\n",
      "    # background mutations and drift\n",
      "    p = Mm.dot( p.flatten(order=\"C\") ) / size\n",
      "    p = multinomial(size, p)\n",
      "    p = p.reshape(shape, order=\"C\")\n",
      "    assert (size, shape) == (p.sum(), p.shape)\n",
      "    W += [mean_fitness(p,w)]\n",
      "print\n",
      "mprint(p,0)\n",
      "print\n",
      "mprint(w*p,14)"
     ],
     "language": "python",
     "metadata": {},
     "outputs": [
      {
       "output_type": "stream",
       "stream": "stdout",
       "text": [
        "1000000 0 0 0\n",
        "0 0 0 0\n",
        "0 0 0 0\n",
        "\n",
        "2 0 0 0\n",
        "0 0 0 0\n",
        "0 0 0 999998\n",
        "\n",
        "2.00000000000000 0.00000000000000 0.00000000000000 0.00000000000000\n",
        "0.00000000000000 0.00000000000000 0.00000000000000 0.00000000000000\n",
        "0.00000000000000 0.00000000000000 0.00000000000000 950988.14791990013327\n"
       ]
      }
     ],
     "prompt_number": 44
    },
    {
     "cell_type": "code",
     "collapsed": false,
     "input": [
      "def loop(p, w, Mm, Mu, ticks, W=None):\n",
      "    if W == None:\n",
      "        W = [mean_fitness(p,w)]\n",
      "    for tick in range(ticks):\n",
      "        size, shape = p.sum(), p.shape\n",
      "        # selection\n",
      "        p = w * p\n",
      "        \n",
      "        # strain mutations\n",
      "        p = Mu.dot( p.flatten(order=\"F\") ) / size\n",
      "        p = p.reshape(shape, order=\"F\")\n",
      "        \n",
      "        # background mutations \n",
      "        p = Mm.dot( p.flatten(order=\"C\") ) / size\n",
      "        p = p.reshape(shape, order=\"C\")\n",
      "        \n",
      "        # drift\n",
      "        p /= p.sum()\n",
      "        p = multinomial(size, p.flatten())\n",
      "        p = p.reshape(shape)\n",
      "        W += [mean_fitness(p,w)]\n",
      "    return p,W"
     ],
     "language": "python",
     "metadata": {},
     "outputs": [],
     "prompt_number": 45
    },
    {
     "cell_type": "markdown",
     "metadata": {},
     "source": [
      "Create Mutaion-Selection Balance"
     ]
    },
    {
     "cell_type": "code",
     "collapsed": false,
     "input": [
      "p = mutation_free_population(pop_size, 3, cutoff)\n",
      "w = smooth_fitness(s, H, 3, cutoff)\n",
      "\n",
      "pi,tau = 0,1\n",
      "mutation_rates = mutation_rates_matrix(U,pi,tau,w)\n",
      "Mm = big_mutation_matrix(mutation_rates, 3, small_background_mutation_matrix)\n",
      "Mu = big_mutation_matrix((mutation_rates * beta).transpose(), cutoff, small_strain_mutation_matrix)\n",
      "\n",
      "W = [mean_fitness(p,w)]\n",
      "print \"before\"\n",
      "mprint(p,0)\n",
      "print\n",
      "p,W = loop(p,w,Mm,Mu,1000,W)\n",
      "plot(log(W));\n",
      "print \"after\"\n",
      "mprint(p,0)\n",
      "print\n",
      "print W[0],W[1],W[-1],e**(-(1+beta)*U)\n",
      "print abs(W[-1] - e**(-(1+beta)*U))/e**(-(1+beta)*U)"
     ],
     "language": "python",
     "metadata": {},
     "outputs": [
      {
       "output_type": "stream",
       "stream": "stdout",
       "text": [
        "before\n",
        "1000000 0 0 0\n",
        "0 0 0 0\n",
        "0 0 0 0\n",
        "\n",
        "after"
       ]
      },
      {
       "output_type": "stream",
       "stream": "stdout",
       "text": [
        "\n",
        "739839 222607 33922 3538\n",
        "59 35 0 0\n",
        "0 0 0 0\n",
        "\n",
        "1.0 0.9999684307 0.996992513562 0.997003897301\n",
        "1.14179482007e-05\n"
       ]
      },
      {
       "output_type": "display_data",
       "png": "[encoded data removed]",
       "text": [
        "<matplotlib.figure.Figure at 0x7995630>"
       ]
      }
     ],
     "prompt_number": 66
    },
    {
     "cell_type": "markdown",
     "metadata": {},
     "source": [
      "And now with stress-induced mutations:"
     ]
    },
    {
     "cell_type": "code",
     "collapsed": false,
     "input": [
      "p = mutation_free_population(pop_size, 3, cutoff)\n",
      "w = smooth_fitness(s, H, 3, cutoff)\n",
      "\n",
      "pi,tau = 1,10\n",
      "mutation_rates = mutation_rates_matrix(U,pi,tau,w)\n",
      "Mm = big_mutation_matrix(mutation_rates, 3, small_background_mutation_matrix)\n",
      "Mu = big_mutation_matrix((mutation_rates * beta).transpose(), cutoff, small_strain_mutation_matrix)\n",
      "\n",
      "W = [mean_fitness(p,w)]\n",
      "print \"before\"\n",
      "mprint(p,0)\n",
      "print\n",
      "p,W = loop(p,w,Mm,Mu,1000,W)\n",
      "plot(log(W));\n",
      "print \"after\"\n",
      "mprint(p,0)\n",
      "print\n",
      "print W[0],W[1],W[-1],e**(-(1+beta)*U)\n",
      "print abs(W[-1] - e**(-(1+beta)*U))/e**(-(1+beta)*U)"
     ],
     "language": "python",
     "metadata": {},
     "outputs": [
      {
       "ename": "AssertionError",
       "evalue": "",
       "output_type": "pyerr",
       "traceback": [
        "\u001b[1;31m---------------------------------------------------------------------------\u001b[0m\n\u001b[1;31mAssertionError\u001b[0m                            Traceback (most recent call last)",
        "\u001b[1;32m<ipython-input-91-e198926660a3>\u001b[0m in \u001b[0;36m<module>\u001b[1;34m()\u001b[0m\n\u001b[0;32m      5\u001b[0m \u001b[0mmutation_rates\u001b[0m \u001b[1;33m=\u001b[0m \u001b[0mmutation_rates_matrix\u001b[0m\u001b[1;33m(\u001b[0m\u001b[0mU\u001b[0m\u001b[1;33m,\u001b[0m\u001b[0mpi\u001b[0m\u001b[1;33m,\u001b[0m\u001b[0mtau\u001b[0m\u001b[1;33m,\u001b[0m\u001b[0mw\u001b[0m\u001b[1;33m)\u001b[0m\u001b[1;33m\u001b[0m\u001b[0m\n\u001b[0;32m      6\u001b[0m \u001b[0mMm\u001b[0m \u001b[1;33m=\u001b[0m \u001b[0mbig_mutation_matrix\u001b[0m\u001b[1;33m(\u001b[0m\u001b[0mmutation_rates\u001b[0m\u001b[1;33m,\u001b[0m \u001b[1;36m3\u001b[0m\u001b[1;33m,\u001b[0m \u001b[0msmall_background_mutation_matrix\u001b[0m\u001b[1;33m)\u001b[0m\u001b[1;33m\u001b[0m\u001b[0m\n\u001b[1;32m----> 7\u001b[1;33m \u001b[0mMu\u001b[0m \u001b[1;33m=\u001b[0m \u001b[0mbig_mutation_matrix\u001b[0m\u001b[1;33m(\u001b[0m\u001b[1;33m(\u001b[0m\u001b[0mmutation_rates\u001b[0m \u001b[1;33m*\u001b[0m \u001b[0mbeta\u001b[0m\u001b[1;33m)\u001b[0m\u001b[1;33m.\u001b[0m\u001b[0mtranspose\u001b[0m\u001b[1;33m(\u001b[0m\u001b[1;33m)\u001b[0m\u001b[1;33m,\u001b[0m \u001b[0mcutoff\u001b[0m\u001b[1;33m,\u001b[0m \u001b[0msmall_strain_mutation_matrix\u001b[0m\u001b[1;33m)\u001b[0m\u001b[1;33m\u001b[0m\u001b[0m\n\u001b[0m\u001b[0;32m      8\u001b[0m \u001b[1;33m\u001b[0m\u001b[0m\n\u001b[0;32m      9\u001b[0m \u001b[0mW\u001b[0m \u001b[1;33m=\u001b[0m \u001b[1;33m[\u001b[0m\u001b[0mmean_fitness\u001b[0m\u001b[1;33m(\u001b[0m\u001b[0mp\u001b[0m\u001b[1;33m,\u001b[0m\u001b[0mw\u001b[0m\u001b[1;33m)\u001b[0m\u001b[1;33m]\u001b[0m\u001b[1;33m\u001b[0m\u001b[0m\n",
        "\u001b[1;32m<ipython-input-89-c55f07806b0d>\u001b[0m in \u001b[0;36mbig_mutation_matrix\u001b[1;34m(mutation_rates, repeats, small_mutation_matrix_function)\u001b[0m\n\u001b[0;32m      2\u001b[0m     \u001b[0mM\u001b[0m \u001b[1;33m=\u001b[0m \u001b[0mzeros\u001b[0m\u001b[1;33m(\u001b[0m\u001b[1;33m(\u001b[0m\u001b[1;36m0\u001b[0m\u001b[1;33m,\u001b[0m\u001b[1;36m0\u001b[0m\u001b[1;33m)\u001b[0m\u001b[1;33m)\u001b[0m\u001b[1;33m\u001b[0m\u001b[0m\n\u001b[0;32m      3\u001b[0m     \u001b[1;32mfor\u001b[0m \u001b[0mi\u001b[0m \u001b[1;32min\u001b[0m \u001b[0mrange\u001b[0m\u001b[1;33m(\u001b[0m\u001b[0mrepeats\u001b[0m\u001b[1;33m)\u001b[0m\u001b[1;33m:\u001b[0m\u001b[1;33m\u001b[0m\u001b[0m\n\u001b[1;32m----> 4\u001b[1;33m         \u001b[0mm\u001b[0m \u001b[1;33m=\u001b[0m \u001b[0msmall_mutation_matrix_function\u001b[0m\u001b[1;33m(\u001b[0m\u001b[0mmutation_rates\u001b[0m\u001b[1;33m[\u001b[0m\u001b[0mi\u001b[0m\u001b[1;33m,\u001b[0m\u001b[1;33m:\u001b[0m\u001b[1;33m]\u001b[0m\u001b[1;33m)\u001b[0m\u001b[1;33m\u001b[0m\u001b[0m\n\u001b[0m\u001b[0;32m      5\u001b[0m         \u001b[0mM\u001b[0m \u001b[1;33m=\u001b[0m \u001b[0mblock_diag\u001b[0m\u001b[1;33m(\u001b[0m\u001b[0mM\u001b[0m\u001b[1;33m,\u001b[0m \u001b[0mm\u001b[0m\u001b[1;33m)\u001b[0m\u001b[1;33m\u001b[0m\u001b[0m\n\u001b[0;32m      6\u001b[0m     \u001b[1;32massert\u001b[0m \u001b[0mallclose\u001b[0m\u001b[1;33m(\u001b[0m\u001b[0mM\u001b[0m\u001b[1;33m.\u001b[0m\u001b[0msum\u001b[0m\u001b[1;33m(\u001b[0m\u001b[0maxis\u001b[0m\u001b[1;33m=\u001b[0m\u001b[1;36m0\u001b[0m\u001b[1;33m)\u001b[0m\u001b[1;33m,\u001b[0m\u001b[1;36m1\u001b[0m\u001b[1;33m)\u001b[0m\u001b[1;33m\u001b[0m\u001b[0m\n",
        "\u001b[1;32m<ipython-input-40-4c74259183bc>\u001b[0m in \u001b[0;36msmall_strain_mutation_matrix\u001b[1;34m(mutation_rates)\u001b[0m\n\u001b[0;32m      3\u001b[0m     \u001b[0mmu\u001b[0m \u001b[1;33m=\u001b[0m \u001b[0mmutation_rates\u001b[0m\u001b[1;33m\u001b[0m\u001b[0m\n\u001b[0;32m      4\u001b[0m     \u001b[0mu\u001b[0m \u001b[1;33m=\u001b[0m \u001b[0marray\u001b[0m\u001b[1;33m(\u001b[0m\u001b[1;33m[\u001b[0m \u001b[1;33m[\u001b[0m \u001b[1;33m(\u001b[0m\u001b[1;36m1\u001b[0m\u001b[1;33m-\u001b[0m\u001b[0mmu\u001b[0m\u001b[1;33m[\u001b[0m\u001b[1;36m0\u001b[0m\u001b[1;33m]\u001b[0m\u001b[1;33m)\u001b[0m\u001b[1;33m**\u001b[0m\u001b[1;36m2\u001b[0m\u001b[1;33m,\u001b[0m \u001b[1;36m0\u001b[0m\u001b[1;33m,\u001b[0m \u001b[1;36m0\u001b[0m \u001b[1;33m]\u001b[0m\u001b[1;33m,\u001b[0m \u001b[1;33m[\u001b[0m\u001b[1;36m2\u001b[0m \u001b[1;33m*\u001b[0m \u001b[0mmu\u001b[0m\u001b[1;33m[\u001b[0m\u001b[1;36m0\u001b[0m\u001b[1;33m]\u001b[0m \u001b[1;33m*\u001b[0m \u001b[1;33m(\u001b[0m\u001b[1;36m1\u001b[0m\u001b[1;33m-\u001b[0m\u001b[0mmu\u001b[0m\u001b[1;33m[\u001b[0m\u001b[1;36m0\u001b[0m\u001b[1;33m]\u001b[0m\u001b[1;33m)\u001b[0m \u001b[1;33m,\u001b[0m \u001b[1;36m1\u001b[0m\u001b[1;33m-\u001b[0m\u001b[0mmu\u001b[0m\u001b[1;33m[\u001b[0m\u001b[1;36m1\u001b[0m\u001b[1;33m]\u001b[0m\u001b[1;33m,\u001b[0m \u001b[1;36m0\u001b[0m\u001b[1;33m]\u001b[0m\u001b[1;33m,\u001b[0m \u001b[1;33m[\u001b[0m \u001b[0mmu\u001b[0m\u001b[1;33m[\u001b[0m\u001b[1;36m0\u001b[0m\u001b[1;33m]\u001b[0m \u001b[1;33m**\u001b[0m \u001b[1;36m2\u001b[0m\u001b[1;33m,\u001b[0m \u001b[0mmu\u001b[0m\u001b[1;33m[\u001b[0m\u001b[1;36m1\u001b[0m\u001b[1;33m]\u001b[0m\u001b[1;33m,\u001b[0m \u001b[1;36m1\u001b[0m \u001b[1;33m]\u001b[0m \u001b[1;33m]\u001b[0m\u001b[1;33m)\u001b[0m\u001b[1;33m\u001b[0m\u001b[0m\n\u001b[1;32m----> 5\u001b[1;33m     \u001b[1;32massert\u001b[0m \u001b[1;33m(\u001b[0m\u001b[1;36m1\u001b[0m \u001b[1;33m==\u001b[0m \u001b[0mu\u001b[0m\u001b[1;33m.\u001b[0m\u001b[0msum\u001b[0m\u001b[1;33m(\u001b[0m\u001b[0maxis\u001b[0m\u001b[1;33m=\u001b[0m\u001b[1;36m0\u001b[0m\u001b[1;33m)\u001b[0m\u001b[1;33m)\u001b[0m\u001b[1;33m.\u001b[0m\u001b[0mall\u001b[0m\u001b[1;33m(\u001b[0m\u001b[1;33m)\u001b[0m\u001b[1;33m\u001b[0m\u001b[0m\n\u001b[0m\u001b[0;32m      6\u001b[0m     \u001b[1;32mreturn\u001b[0m \u001b[0mu\u001b[0m\u001b[1;33m\u001b[0m\u001b[0m\n\u001b[0;32m      7\u001b[0m \u001b[1;33m\u001b[0m\u001b[0m\n",
        "\u001b[1;31mAssertionError\u001b[0m: "
       ]
      }
     ],
     "prompt_number": 91
    },
    {
     "cell_type": "code",
     "collapsed": false,
     "input": [],
     "language": "python",
     "metadata": {},
     "outputs": []
    }
   ],
   "metadata": {}
  }
 ]
}