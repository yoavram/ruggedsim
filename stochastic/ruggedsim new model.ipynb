{
 "metadata": {
  "name": "ruggedsim new model"
 },
 "nbformat": 3,
 "nbformat_minor": 0,
 "worksheets": [
  {
   "cells": [
    {
     "cell_type": "markdown",
     "metadata": {},
     "source": [
      "# Stress-induced mutation on rugged landscapes\n",
      "## New computational model\n",
      "\n",
      "#### Parameters"
     ]
    },
    {
     "cell_type": "code",
     "collapsed": false,
     "input": [
      "U = 0.003\n",
      "beta = 1./5000.\n",
      "s = 0.01\n",
      "H = 2\n",
      "pi = 1\n",
      "tau = 10\n",
      "pop_size = 1e6\n",
      "cutoff = 3"
     ],
     "language": "python",
     "metadata": {},
     "outputs": [],
     "prompt_number": 213
    },
    {
     "cell_type": "markdown",
     "metadata": {},
     "source": [
      "### Population matrix"
     ]
    },
    {
     "cell_type": "code",
     "collapsed": false,
     "input": [
      "p = array([ [0] * cutoff for _ in range(3) ])\n",
      "p[0,0] = pop_size"
     ],
     "language": "python",
     "metadata": {},
     "outputs": [],
     "prompt_number": 214
    },
    {
     "cell_type": "markdown",
     "metadata": {},
     "source": [
      "### Mutation matrix\n",
      "#### Global mutation"
     ]
    },
    {
     "cell_type": "code",
     "collapsed": false,
     "input": [
      "from scipy.stats import poisson"
     ],
     "language": "python",
     "metadata": {},
     "outputs": [],
     "prompt_number": 215
    },
    {
     "cell_type": "markdown",
     "metadata": {},
     "source": [
      "Construct the mutation matrix"
     ]
    },
    {
     "cell_type": "code",
     "collapsed": false,
     "input": [
      "mutation_rates = array([U for _ in range(min(pi,cutoff))] + [tau * U for _ in range(pi, cutoff)])\n",
      "print mutation_rates\n",
      "mutation_rvs = poisson(mutation_rates)"
     ],
     "language": "python",
     "metadata": {},
     "outputs": [
      {
       "output_type": "stream",
       "stream": "stdout",
       "text": [
        "[ 0.003  0.03   0.03 ]\n"
       ]
      }
     ],
     "prompt_number": 221
    },
    {
     "cell_type": "code",
     "collapsed": false,
     "input": [
      "m = diag(mutation_rvs.pmf(0))\n",
      "for k in range(1,cutoff):\n",
      "    m += diag(mutation_rvs.pmf(k)[:-k],-k)\n",
      "# absorb further mutations in the last class\n",
      "for j in range(cutoff):\n",
      "    m[-1,j] = 1 - mutation_rvs.cdf(cutoff - 2 - j)[j]"
     ],
     "language": "python",
     "metadata": {},
     "outputs": [],
     "prompt_number": 217
    },
    {
     "cell_type": "code",
     "collapsed": false,
     "input": [
      "assert m[0,0] == e ** -U\n",
      "assert (m.sum(axis=0) == 1).all()"
     ],
     "language": "python",
     "metadata": {},
     "outputs": [],
     "prompt_number": 218
    },
    {
     "cell_type": "markdown",
     "metadata": {},
     "source": [
      "Run the mutation function"
     ]
    },
    {
     "cell_type": "code",
     "collapsed": false,
     "input": [
      "print p\n",
      "for strain in range(p.shape[0]):\n",
      "    strain_size = p[strain,:].sum()\n",
      "    if strain_size > 0:\n",
      "        freqs = m.dot( p[strain,:] ) / strain_size\n",
      "        p[strain,:] = multinomial(strain_size, freqs)\n",
      "print p"
     ],
     "language": "python",
     "metadata": {},
     "outputs": [
      {
       "output_type": "stream",
       "stream": "stdout",
       "text": [
        "[[1000000       0       0]\n",
        " [      0       0       0]\n",
        " [      0       0       0]]\n",
        "[[997081   2918      1]\n",
        " [     0      0      0]\n",
        " [     0      0      0]]\n"
       ]
      }
     ],
     "prompt_number": 219
    },
    {
     "cell_type": "markdown",
     "metadata": {},
     "source": [
      "A separate mutation operator creates transition between the strains"
     ]
    },
    {
     "cell_type": "code",
     "collapsed": false,
     "input": [
      "mu = mutation_rates * beta\n",
      "print mu"
     ],
     "language": "python",
     "metadata": {},
     "outputs": [
      {
       "output_type": "stream",
       "stream": "stdout",
       "text": [
        "[  6.00000000e-07   6.00000000e-06   6.00000000e-06]\n"
       ]
      }
     ],
     "prompt_number": 224
    },
    {
     "cell_type": "code",
     "collapsed": false,
     "input": [
      "u = array([ [ (1-mu[0])**2, 0, 0 ], [2 * mu[0] * (1-mu[0]) , 1-mu[1], 0], [ mu[0] ** 2, mu[1], 1 ] ])\n",
      "assert (1 == u.sum(axis=0)).all()"
     ],
     "language": "python",
     "metadata": {},
     "outputs": [],
     "prompt_number": 236
    },
    {
     "cell_type": "code",
     "collapsed": false,
     "input": [
      "print p\n",
      "for load in range(p.shape[1]):\n",
      "    load_size = p[:,load].sum()\n",
      "    if load_size > 0:\n",
      "        freqs = u.dot( p[:,load] ) / load_size\n",
      "        p[:,load] = multinomial(load_size, freqs)\n",
      "print p"
     ],
     "language": "python",
     "metadata": {},
     "outputs": [
      {
       "output_type": "stream",
       "stream": "stdout",
       "text": [
        "[[997079   2918      1]\n",
        " [     2      0      0]\n",
        " [     0      0      0]]\n",
        "[[997077   2918      1]\n",
        " [     4      0      0]\n",
        " [     0      0      0]]\n"
       ]
      }
     ],
     "prompt_number": 242
    },
    {
     "cell_type": "code",
     "collapsed": false,
     "input": [
      "p.flatten(order=\"F\")"
     ],
     "language": "python",
     "metadata": {},
     "outputs": [
      {
       "output_type": "pyout",
       "prompt_number": 250,
       "text": [
        "array([997077,      4,      0,   2918,      0,      0,      1,      0,\n",
        "            0])"
       ]
      }
     ],
     "prompt_number": 250
    },
    {
     "cell_type": "code",
     "collapsed": false,
     "input": [
      "p.flatten(order=\"C\")"
     ],
     "language": "python",
     "metadata": {},
     "outputs": [
      {
       "output_type": "pyout",
       "prompt_number": 251,
       "text": [
        "array([997077,   2918,      1,      4,      0,      0,      0,      0,\n",
        "            0])"
       ]
      }
     ],
     "prompt_number": 251
    },
    {
     "cell_type": "markdown",
     "metadata": {},
     "source": [
      "### Fitness matrix"
     ]
    },
    {
     "cell_type": "code",
     "collapsed": false,
     "input": [
      "w = array([ [ (1-s) ** (k+i) for k in range(cutoff)] for i in range(3) ])\n",
      "print w"
     ],
     "language": "python",
     "metadata": {},
     "outputs": [
      {
       "output_type": "stream",
       "stream": "stdout",
       "text": [
        "[[ 1.          0.99        0.9801      0.970299    0.96059601  0.95099005\n",
        "   0.94148015  0.93206535  0.92274469  0.91351725]\n",
        " [ 0.99        0.9801      0.970299    0.96059601  0.95099005  0.94148015\n",
        "   0.93206535  0.92274469  0.91351725  0.90438208]\n",
        " [ 0.9801      0.970299    0.96059601  0.95099005  0.94148015  0.93206535\n",
        "   0.92274469  0.91351725  0.90438208  0.89533825]]\n"
       ]
      }
     ],
     "prompt_number": 4
    },
    {
     "cell_type": "code",
     "collapsed": false,
     "input": [
      "ww = w.copy()\n",
      "ww[2,:] *= (1 + s * H)\n",
      "print ww"
     ],
     "language": "python",
     "metadata": {},
     "outputs": [
      {
       "output_type": "stream",
       "stream": "stdout",
       "text": [
        "[[ 1.          0.99        0.9801      0.970299    0.96059601  0.95099005\n",
        "   0.94148015  0.93206535  0.92274469  0.91351725]\n",
        " [ 0.99        0.9801      0.970299    0.96059601  0.95099005  0.94148015\n",
        "   0.93206535  0.92274469  0.91351725  0.90438208]\n",
        " [ 0.999702    0.98970498  0.97980793  0.97000985  0.96030975  0.95070665\n",
        "   0.94119959  0.93178759  0.92246972  0.91324502]]\n"
       ]
      }
     ],
     "prompt_number": 6
    },
    {
     "cell_type": "code",
     "collapsed": false,
     "input": [
      "w*p"
     ],
     "language": "python",
     "metadata": {},
     "outputs": [
      {
       "output_type": "pyout",
       "prompt_number": 7,
       "text": [
        "array([[ 1000000.,        0.,        0.,        0.,        0.,        0.,\n",
        "               0.,        0.,        0.,        0.],\n",
        "       [       0.,        0.,        0.,        0.,        0.,        0.,\n",
        "               0.,        0.,        0.,        0.],\n",
        "       [       0.,        0.,        0.,        0.,        0.,        0.,\n",
        "               0.,        0.,        0.,        0.]])"
       ]
      }
     ],
     "prompt_number": 7
    },
    {
     "cell_type": "code",
     "collapsed": false,
     "input": [],
     "language": "python",
     "metadata": {},
     "outputs": []
    }
   ],
   "metadata": {}
  }
 ]
}