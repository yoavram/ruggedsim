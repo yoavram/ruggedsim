{
 "metadata": {
  "name": "simulation analysis"
 },
 "nbformat": 3,
 "nbformat_minor": 0,
 "worksheets": [
  {
   "cells": [
    {
     "cell_type": "markdown",
     "metadata": {},
     "source": [
      "# Analysis of results of `ruggedsim` simulations\n",
      "\n",
      "The simulations code is available at [this repository](https://github.com/yoavram/ruggedsim/tree/master/stochastic)."
     ]
    },
    {
     "cell_type": "markdown",
     "metadata": {},
     "source": [
      "### Fixation results"
     ]
    },
    {
     "cell_type": "code",
     "collapsed": false,
     "input": [
      "ls output/fixation/*.data"
     ],
     "language": "python",
     "metadata": {},
     "outputs": [
      {
       "output_type": "stream",
       "stream": "stdout",
       "text": [
        "output/fixation/pop_1000000_G_25_s_0.01_H_2_U_0.003_beta_0.0002_pi_0_tau_10_2013-Mar-28_19-30-59-973607.data   output/fixation/pop_1000000_G_25_s_0.01_H_2_U_0.003_beta_0.0002_pi_10_tau_10_2013-Mar-28_19-31-31-214956.data\r\n",
        "output/fixation/pop_1000000_G_25_s_0.01_H_2_U_0.003_beta_0.0002_pi_0_tau_10_2013-Mar-28_19-31-27-391153.data   output/fixation/pop_1000000_G_25_s_0.01_H_2_U_0.003_beta_0.0002_pi_10_tau_10_2013-Mar-28_19-31-31-252093.data\r\n",
        "output/fixation/pop_1000000_G_25_s_0.01_H_2_U_0.003_beta_0.0002_pi_0_tau_10_2013-Mar-28_19-31-27-394902.data   output/fixation/pop_1000000_G_25_s_0.01_H_2_U_0.003_beta_0.0002_pi_10_tau_10_2013-Mar-28_19-31-31-273263.data\r\n",
        "output/fixation/pop_1000000_G_25_s_0.01_H_2_U_0.003_beta_0.0002_pi_0_tau_10_2013-Mar-28_19-31-28-818176.data   output/fixation/pop_1000000_G_25_s_0.01_H_2_U_0.003_beta_0.0002_pi_10_tau_10_2013-Mar-28_19-31-31-438916.data\r\n",
        "output/fixation/pop_1000000_G_25_s_0.01_H_2_U_0.003_beta_0.0002_pi_0_tau_10_2013-Mar-28_19-31-29-072825.data   output/fixation/pop_1000000_G_25_s_0.01_H_2_U_0.003_beta_0.0002_pi_10_tau_10.data\r\n",
        "output/fixation/pop_1000000_G_25_s_0.01_H_2_U_0.003_beta_0.0002_pi_0_tau_10_2013-Mar-28_19-31-29-353089.data   output/fixation/pop_1000000_G_25_s_0.01_H_2_U_0.003_beta_0.0002_pi_1_tau_10_2013-Mar-28_19-30-57-327983.data\r\n",
        "output/fixation/pop_1000000_G_25_s_0.01_H_2_U_0.003_beta_0.0002_pi_0_tau_10_2013-Mar-28_19-31-29-571031.data   output/fixation/pop_1000000_G_25_s_0.01_H_2_U_0.003_beta_0.0002_pi_1_tau_10_2013-Mar-28_19-30-57-331145.data\r\n",
        "output/fixation/pop_1000000_G_25_s_0.01_H_2_U_0.003_beta_0.0002_pi_0_tau_10_2013-Mar-28_19-31-30-006201.data   output/fixation/pop_1000000_G_25_s_0.01_H_2_U_0.003_beta_0.0002_pi_1_tau_10_2013-Mar-28_19-31-28-824920.data\r\n",
        "output/fixation/pop_1000000_G_25_s_0.01_H_2_U_0.003_beta_0.0002_pi_0_tau_10_2013-Mar-28_19-31-30-083201.data   output/fixation/pop_1000000_G_25_s_0.01_H_2_U_0.003_beta_0.0002_pi_1_tau_10_2013-Mar-28_19-31-29-079002.data\r\n",
        "output/fixation/pop_1000000_G_25_s_0.01_H_2_U_0.003_beta_0.0002_pi_0_tau_10_2013-Mar-28_19-31-30-485273.data   output/fixation/pop_1000000_G_25_s_0.01_H_2_U_0.003_beta_0.0002_pi_1_tau_10_2013-Mar-28_19-31-29-354475.data\r\n",
        "output/fixation/pop_1000000_G_25_s_0.01_H_2_U_0.003_beta_0.0002_pi_0_tau_10.data                               output/fixation/pop_1000000_G_25_s_0.01_H_2_U_0.003_beta_0.0002_pi_1_tau_10_2013-Mar-28_19-31-29-571028.data\r\n",
        "output/fixation/pop_1000000_G_25_s_0.01_H_2_U_0.003_beta_0.0002_pi_10_tau_10_2013-Mar-28_19-31-30-999213.data  output/fixation/pop_1000000_G_25_s_0.01_H_2_U_0.003_beta_0.0002_pi_1_tau_10_2013-Mar-28_19-31-30-009754.data\r\n",
        "output/fixation/pop_1000000_G_25_s_0.01_H_2_U_0.003_beta_0.0002_pi_10_tau_10_2013-Mar-28_19-31-31-000158.data  output/fixation/pop_1000000_G_25_s_0.01_H_2_U_0.003_beta_0.0002_pi_1_tau_10_2013-Mar-28_19-31-30-083200.data\r\n",
        "output/fixation/pop_1000000_G_25_s_0.01_H_2_U_0.003_beta_0.0002_pi_10_tau_10_2013-Mar-28_19-31-31-009388.data  output/fixation/pop_1000000_G_25_s_0.01_H_2_U_0.003_beta_0.0002_pi_1_tau_10_2013-Mar-28_19-31-30-083456.data\r\n",
        "output/fixation/pop_1000000_G_25_s_0.01_H_2_U_0.003_beta_0.0002_pi_10_tau_10_2013-Mar-28_19-31-31-043190.data  output/fixation/pop_1000000_G_25_s_0.01_H_2_U_0.003_beta_0.0002_pi_1_tau_10_2013-Mar-28_19-31-30-485250.data\r\n",
        "output/fixation/pop_1000000_G_25_s_0.01_H_2_U_0.003_beta_0.0002_pi_10_tau_10_2013-Mar-28_19-31-31-054816.data  output/fixation/pop_1000000_G_25_s_0.01_H_2_U_0.003_beta_0.0002_pi_1_tau_10.data\r\n",
        "output/fixation/pop_1000000_G_25_s_0.01_H_2_U_0.003_beta_0.0002_pi_10_tau_10_2013-Mar-28_19-31-31-055012.data\r\n"
       ]
      }
     ],
     "prompt_number": 8
    },
    {
     "cell_type": "code",
     "collapsed": false,
     "input": [
      "folder = 'output/fixation/'"
     ],
     "language": "python",
     "metadata": {},
     "outputs": [],
     "prompt_number": 4
    },
    {
     "cell_type": "markdown",
     "metadata": {},
     "source": [
      "#### Parse filenames\n",
      "\n",
      "The regular expression was written using the [Python regular expression testing tool](http://www.pythonregex.com/)."
     ]
    },
    {
     "cell_type": "code",
     "collapsed": false,
     "input": [
      "import re\n",
      "filename_pattern = pattern = re.compile('^pop_(?P<pop>\\d+)_G_(?P<G>\\d+)_s_(?P<s>\\d\\.?\\d*)_H_(?P<H>\\d\\.?\\d*)_U_(?P<U>\\d\\.?\\d*)_beta_(?P<beta>\\d\\.?\\d*)_pi_(?P<pi>\\d\\.?\\d*)_tau_(?P<tau>\\d\\.?\\d*)_(?P<date>\\d{4}-\\w{3}-\\d{1,2})_(?P<time>\\d{2}-\\d{2}-\\d{2}-\\d{6}).(?P<extension>\\w+)$')"
     ],
     "language": "python",
     "metadata": {},
     "outputs": [],
     "prompt_number": 10
    },
    {
     "cell_type": "code",
     "collapsed": false,
     "input": [
      "def parse_filename(fname):\n",
      "    m = pattern.match(fname)\n",
      "    if m:\n",
      "         return m.groupdict()\n",
      "    else:\n",
      "        return dict()\n",
      "\n",
      "fname = 'pop_1000000_G_25_s_0.01_H_2_U_0.003_beta_0.0002_pi_0_tau_10_2013-Mar-28_19-31-30-485273.data'\n",
      "parse_filename(fname)"
     ],
     "language": "python",
     "metadata": {},
     "outputs": [
      {
       "output_type": "pyout",
       "prompt_number": 13,
       "text": [
        "{'G': '25',\n",
        " 'H': '2',\n",
        " 'U': '0.003',\n",
        " 'beta': '0.0002',\n",
        " 'date': '2013-Mar-28',\n",
        " 'extension': 'data',\n",
        " 'pi': '0',\n",
        " 'pop': '1000000',\n",
        " 's': '0.01',\n",
        " 'tau': '10',\n",
        " 'time': '19-31-30-485273'}"
       ]
      }
     ],
     "prompt_number": 13
    },
    {
     "cell_type": "code",
     "collapsed": false,
     "input": [],
     "language": "python",
     "metadata": {},
     "outputs": []
    }
   ],
   "metadata": {}
  }
 ]
}