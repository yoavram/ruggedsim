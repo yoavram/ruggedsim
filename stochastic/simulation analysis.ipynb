{
 "metadata": {
  "name": "simulation analysis"
 },
 "nbformat": 3,
 "nbformat_minor": 0,
 "worksheets": [
  {
   "cells": [
    {
     "cell_type": "markdown",
     "metadata": {},
     "source": [
      "# Analysis of results of `ruggedsim` simulations\n",
      "\n",
      "The simulations code is available at [this repository](https://github.com/yoavram/ruggedsim/tree/master/stochastic)."
     ]
    },
    {
     "cell_type": "markdown",
     "metadata": {},
     "source": [
      "## Preparations"
     ]
    },
    {
     "cell_type": "code",
     "collapsed": false,
     "input": [
      "font = {'family' : 'sans-serif',\n",
      "        'size'   : 12}\n",
      "matplotlib.rc('font', **font)\n",
      "rcParams['figure.figsize'] = 8,6"
     ],
     "language": "python",
     "metadata": {},
     "outputs": [],
     "prompt_number": 72
    },
    {
     "cell_type": "code",
     "collapsed": false,
     "input": [
      "import glob\n",
      "import os\n",
      "import time"
     ],
     "language": "python",
     "metadata": {},
     "outputs": [],
     "prompt_number": 73
    },
    {
     "cell_type": "markdown",
     "metadata": {},
     "source": [
      "## Fixation results"
     ]
    },
    {
     "cell_type": "code",
     "collapsed": false,
     "input": [
      "folder = '/home/yoavram/lecs/workspace/ruggedsim/stochastic/output/fixation/'\n",
      "fname = glob.glob1(folder,'*.data')[0]"
     ],
     "language": "python",
     "metadata": {},
     "outputs": [],
     "prompt_number": 74
    },
    {
     "cell_type": "markdown",
     "metadata": {},
     "source": [
      "### Parse filenames\n",
      "\n",
      "The regular expression was written using the [Python regular expression testing tool](http://www.pythonregex.com/)."
     ]
    },
    {
     "cell_type": "code",
     "collapsed": false,
     "input": [
      "import re\n",
      "filename_pattern = re.compile('^pop_(?P<pop>\\d+)_G_(?P<G>\\d+)_s_(?P<s>\\d\\.?\\d*)_H_(?P<H>\\d\\.?\\d*)_U_(?P<U>\\d\\.?\\d*)_beta_(?P<beta>\\d\\.?\\d*)_pi_(?P<pi>\\d\\.?\\d*)_tau_(?P<tau>\\d\\.?\\d*)_(?P<date>\\d{4}-\\w{3}-\\d{1,2})_(?P<time>\\d{2}-\\d{2}-\\d{2}-\\d{6}).(?P<extension>\\w+)$')"
     ],
     "language": "python",
     "metadata": {},
     "outputs": [],
     "prompt_number": 75
    },
    {
     "cell_type": "code",
     "collapsed": false,
     "input": [
      "def parse_filename(fname):\n",
      "    m = pattern.match(fname)\n",
      "    if m:\n",
      "         return m.groupdict()\n",
      "    else:\n",
      "        return dict()\n",
      "parse_filename(fname)"
     ],
     "language": "python",
     "metadata": {},
     "outputs": [
      {
       "output_type": "pyout",
       "prompt_number": 76,
       "text": [
        "{'G': '25',\n",
        " 'H': '2',\n",
        " 'U': '0.003',\n",
        " 'beta': '0.0002',\n",
        " 'date': '2013-Mar-28',\n",
        " 'extension': 'data',\n",
        " 'pi': '10',\n",
        " 'pop': '10000000',\n",
        " 's': '0.01',\n",
        " 'tau': '300',\n",
        " 'time': '22-36-11-985511'}"
       ]
      }
     ],
     "prompt_number": 76
    },
    {
     "cell_type": "markdown",
     "metadata": {},
     "source": [
      "### Process data file\n",
      "\n",
      "Data files are with `.data` extension and in JSON format.\n",
      "\n",
      "Here is a comparison between the builtin `json` parser and a native one I found on *github* by the name [ultrajson](https://github.com/esnme/ultrajson):"
     ]
    },
    {
     "cell_type": "code",
     "collapsed": false,
     "input": [
      "import os.path\n",
      "fpath = folder + fname\n",
      "print fpath\n",
      "print os.path.exists(fpath)\n",
      "import gzip\n",
      "with gzip.open(fpath) as f:\n",
      "    print f.read(100)"
     ],
     "language": "python",
     "metadata": {},
     "outputs": [
      {
       "output_type": "stream",
       "stream": "stdout",
       "text": [
        "/home/yoavram/lecs/workspace/ruggedsim/stochastic/output/fixation/pop_10000000_G_25_s_0.01_H_2_U_0.003_beta_0.0002_pi_10_tau_300_2013-Mar-28_22-36-11-985511.data\n",
        "True\n",
        "{\n",
        "    \"tau\": 300.0,\n",
        "    \"G\": 25,\n",
        "    \"H\": 2.0,\n",
        "    \"beta\": 0.0002,\n",
        "    \"U\": 0.003,\n",
        "    \"T\": 10000000\n"
       ]
      }
     ],
     "prompt_number": 77
    },
    {
     "cell_type": "code",
     "collapsed": false,
     "input": [
      "import ujson \n",
      "%timeit with gzip.open(fpath) as f: ujson.load(f)\n",
      "import json\n",
      "%timeit with gzip.open(fpath) as f: json.load(f)"
     ],
     "language": "python",
     "metadata": {},
     "outputs": [
      {
       "output_type": "stream",
       "stream": "stdout",
       "text": [
        "100 loops, best of 3: 45.9 ms per loop\n",
        "10 loops, best of 3: 49.8 ms per loop"
       ]
      },
      {
       "output_type": "stream",
       "stream": "stdout",
       "text": [
        "\n"
       ]
      }
     ],
     "prompt_number": 35
    },
    {
     "cell_type": "code",
     "collapsed": false,
     "input": [
      "import ujson as json"
     ],
     "language": "python",
     "metadata": {},
     "outputs": [],
     "prompt_number": 78
    },
    {
     "cell_type": "code",
     "collapsed": false,
     "input": [
      "def process_data_file(fname):\n",
      "    fpath = folder + fname\n",
      "    params = parse_filename(fname)\n",
      "    if not params:\n",
      "        print \"Failed parsing file name\", fpath\n",
      "        return {},[],[]\n",
      "    with gzip.open(fpath) as f:\n",
      "        data = json.load(f,precise_float=True)\n",
      "    if not data:\n",
      "        print \"Failed reading data\", fpath\n",
      "        return {},[],[]\n",
      "    data.update(params)\n",
      "    W = data.pop('W')\n",
      "    p = data.pop('p')\n",
      "    data['fname'] = fname\n",
      "    for k in ['tau',  'G',  'H',  'pop',  'beta',  'U',  'T',  'pop_size',  's',  'pi']:\n",
      "        if str == type(data[k]):\n",
      "            data[k] = eval(data[k])  \n",
      "    return data, W, p"
     ],
     "language": "python",
     "metadata": {},
     "outputs": [],
     "prompt_number": 79
    },
    {
     "cell_type": "code",
     "collapsed": false,
     "input": [
      "data,W,p = process_data_file(fname)\n",
      "print len(W), data['T']\n",
      "plot(W[:10]);"
     ],
     "language": "python",
     "metadata": {},
     "outputs": [
      {
       "output_type": "stream",
       "stream": "stdout",
       "text": [
        "1001 100000000\n"
       ]
      },
      {
       "output_type": "display_data",
       "png": "[encoded data removed]",
       "text": [
        "<matplotlib.figure.Figure at 0x5bbced0>"
       ]
      }
     ],
     "prompt_number": 80
    },
    {
     "cell_type": "markdown",
     "metadata": {},
     "source": [
      "### Process all files"
     ]
    },
    {
     "cell_type": "code",
     "collapsed": false,
     "input": [
      "tic = time.clock()\n",
      "file_list = glob.glob1(folder, '*.data')\n",
      "all_data = [None] * len(file_list)\n",
      "print \"processing\", len(file_list), \"data files\"\n",
      "for i,fname in enumerate(file_list) :\n",
      "    data,W,p = process_data_file(fname)\n",
      "    all_data[i] = data\n",
      "toc = time.clock()\n",
      "print \"processed all files in\", (toc-tic), \"seconds\""
     ],
     "language": "python",
     "metadata": {},
     "outputs": [
      {
       "output_type": "stream",
       "stream": "stdout",
       "text": [
        "The history saving thread hit an unexpected error (OperationalError('disk I/O error',)).History will not be written to the database.\n",
        "processing"
       ]
      },
      {
       "output_type": "stream",
       "stream": "stdout",
       "text": [
        " 629 data files\n",
        "processed all files in"
       ]
      },
      {
       "output_type": "stream",
       "stream": "stdout",
       "text": [
        " 0.49 seconds\n"
       ]
      }
     ],
     "prompt_number": 95
    },
    {
     "cell_type": "code",
     "collapsed": false,
     "input": [
      "df = [ [data['T'],data['tau'],data['s'],data['pi'],data['pop_size'],data['U']] for data in all_data]"
     ],
     "language": "python",
     "metadata": {},
     "outputs": [],
     "prompt_number": 107
    },
    {
     "cell_type": "code",
     "collapsed": false,
     "input": [
      "%load_ext rmagic"
     ],
     "language": "python",
     "metadata": {},
     "outputs": [],
     "prompt_number": 97
    },
    {
     "cell_type": "code",
     "collapsed": false,
     "input": [
      "%%R -i df\n",
      "df <- as.data.frame(df)\n",
      "names(df) <- c(\"T\",\"tau\",\"s\",\"pi\", \"pop_size\",\"U\")\n",
      "library(ggplot2)\n",
      "df$pop_size = factor(df$pop_size)\n",
      "p <- ggplot(df, aes(tau, T, color=pop_size))\n",
      "p <- p + \n",
      "    geom_point(alpha=I(0.3)) + \n",
      "    scale_x_log10() + scale_y_log10() + \n",
      "    scale_color_brewer(palette=\"Set1\") +\n",
      "    facet_grid(facets=s~pi, labeller=function(variable,value) {paste0(variable,'=',as.character(value))}) +\n",
      "    labs(y=\"Adaptation time\", x=expression(tau)) \n",
      "print(p)"
     ],
     "language": "python",
     "metadata": {},
     "outputs": [
      {
       "output_type": "display_data",
       "png": "[encoded data removed]"
      }
     ],
     "prompt_number": 98
    },
    {
     "cell_type": "code",
     "collapsed": false,
     "input": [
      "%%R -i df\n",
      "df <- as.data.frame(df)\n",
      "names(df) <- c(\"T\",\"tau\",\"s\",\"pi\", \"pop_size\",\"U\")\n",
      "print(unique(df$U))"
     ],
     "language": "python",
     "metadata": {},
     "outputs": [
      {
       "output_type": "display_data",
       "text": [
        "[1] 0.003\n"
       ]
      }
     ],
     "prompt_number": 108
    },
    {
     "cell_type": "markdown",
     "metadata": {},
     "source": [
      "This is an **interesting result**!"
     ]
    },
    {
     "cell_type": "markdown",
     "metadata": {},
     "source": [
      "## Check for no-MSB\n",
      "\n",
      "Check in which runs the simulation did not reach an MSB:"
     ]
    },
    {
     "cell_type": "code",
     "collapsed": false,
     "input": [
      "msb_pattern = re.compile(\"\\w+? - DEBUG - Changing fitness landscape at tick (?P<tick>\\d+) with mean fitness (?P<fitness>\\d\\.\\d+)\")\n",
      "tic = time.clock()\n",
      "file_list = glob.glob1(folder, '*.log')\n",
      "print \"processing\", len(file_list), \"log files\"\n",
      "yes = {}\n",
      "for fname in file_list:\n",
      "    with open(folder + fname) as f:\n",
      "        for line in f:\n",
      "            m = msb_pattern.search(line)\n",
      "            if m:\n",
      "                yes[fname] = m.groupdict()\n",
      "toc = time.clock()\n",
      "print \"processed all files in\", (toc-tic), \"seconds\""
     ],
     "language": "python",
     "metadata": {},
     "outputs": [
      {
       "output_type": "stream",
       "stream": "stdout",
       "text": [
        "processing 570 log files\n",
        "processed all files in"
       ]
      },
      {
       "output_type": "stream",
       "stream": "stdout",
       "text": [
        " 0.8 seconds\n"
       ]
      }
     ],
     "prompt_number": 83
    },
    {
     "cell_type": "code",
     "collapsed": false,
     "input": [
      "len(yes), len(file_list)"
     ],
     "language": "python",
     "metadata": {},
     "outputs": [
      {
       "output_type": "pyout",
       "prompt_number": 84,
       "text": [
        "(570, 570)"
       ]
      }
     ],
     "prompt_number": 84
    },
    {
     "cell_type": "code",
     "collapsed": false,
     "input": [
      "tick = [int(d['tick']) for d in yes.values()]\n",
      "fitness = [float(d['fitness']) for d in yes.values()]"
     ],
     "language": "python",
     "metadata": {},
     "outputs": [],
     "prompt_number": 85
    },
    {
     "cell_type": "code",
     "collapsed": false,
     "input": [
      "scatter(log10(tick),fitness,alpha=0.1);\n",
      "axhline(y=0.997,color='k');\n",
      "axvline(x=log10(mean(tick)),color='k');"
     ],
     "language": "python",
     "metadata": {},
     "outputs": [
      {
       "output_type": "display_data",
       "png": "[encoded data removed]",
       "text": [
        "<matplotlib.figure.Figure at 0x630bad0>"
       ]
      }
     ],
     "prompt_number": 94
    },
    {
     "cell_type": "markdown",
     "metadata": {},
     "source": [
      "## Final distribution"
     ]
    },
    {
     "cell_type": "code",
     "collapsed": false,
     "input": [
      "data,W,p = process_data_file(fname)"
     ],
     "language": "python",
     "metadata": {},
     "outputs": [],
     "prompt_number": 20
    },
    {
     "cell_type": "code",
     "collapsed": false,
     "input": [
      "from model import mprint"
     ],
     "language": "python",
     "metadata": {},
     "outputs": [],
     "prompt_number": 21
    },
    {
     "cell_type": "code",
     "collapsed": false,
     "input": [
      "mprint(p)"
     ],
     "language": "python",
     "metadata": {},
     "outputs": [
      {
       "output_type": "stream",
       "stream": "stdout",
       "text": [
        "0.952 0.006 0.004 0.004 0.004 0.004 0.004 0.003 0.003 0.003 0.002 0.002 0.002 0.001 0.001 0.001 0.001 0.001 0.000 0.000 0.000 0.000 0.000 0.000 0.000\n",
        "0.000 0.000 0.000 0.000 0.000 0.000 0.000 0.000 0.000 0.000 0.000 0.000 0.000 0.000 0.000 0.000 0.000 0.000 0.000 0.000 0.000 0.000 0.000 0.000 0.000\n",
        "0.000 0.000 0.000 0.000 0.000 0.000 0.000 0.000 0.000 0.000 0.000 0.000 0.000 0.000 0.000 0.000 0.000 0.000 0.000 0.000 0.000 0.000 0.000 0.000 0.000\n"
       ]
      }
     ],
     "prompt_number": 22
    },
    {
     "cell_type": "code",
     "collapsed": false,
     "input": [
      "from scipy.stats import poisson\n",
      "lam = float(data['U'])/float(data['s'])\n",
      "poi = poisson(lam)"
     ],
     "language": "python",
     "metadata": {},
     "outputs": [],
     "prompt_number": 23
    },
    {
     "cell_type": "code",
     "collapsed": false,
     "input": [
      "theoretical = [ poi.pmf(x) for x in range(int(data['G'])) if poi.pmf(x) > 1/float(data['pop_size'])]\n",
      "empirical = [x for x in p[0] if x > 0]"
     ],
     "language": "python",
     "metadata": {},
     "outputs": [],
     "prompt_number": 28
    },
    {
     "cell_type": "code",
     "collapsed": false,
     "input": [
      "plot(empirical, '.r')\n",
      "plot(theoretical, 'b')\n",
      "yscale('log')\n",
      "xlabel('number of harmful alleles')\n",
      "ylabel('frequency')\n",
      "legend(['theoretical','empirical']);"
     ],
     "language": "python",
     "metadata": {},
     "outputs": [
      {
       "output_type": "display_data",
       "png": "[encoded data removed]",
       "text": [
        "<matplotlib.figure.Figure at 0x70a4690>"
       ]
      }
     ],
     "prompt_number": 29
    },
    {
     "cell_type": "code",
     "collapsed": false,
     "input": [],
     "language": "python",
     "metadata": {},
     "outputs": []
    }
   ],
   "metadata": {}
  }
 ]
}