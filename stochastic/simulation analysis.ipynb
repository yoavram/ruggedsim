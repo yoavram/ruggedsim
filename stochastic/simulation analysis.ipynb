{
 "metadata": {
  "name": "simulation analysis"
 },
 "nbformat": 3,
 "nbformat_minor": 0,
 "worksheets": [
  {
   "cells": [
    {
     "cell_type": "markdown",
     "metadata": {},
     "source": [
      "# Analysis of results of `ruggedsim` simulations\n",
      "\n",
      "The simulations code is available at [this repository](https://github.com/yoavram/ruggedsim/tree/master/stochastic)."
     ]
    },
    {
     "cell_type": "markdown",
     "metadata": {},
     "source": [
      "## Preparations"
     ]
    },
    {
     "cell_type": "code",
     "collapsed": false,
     "input": [
      "font = {'family' : 'sans-serif',\n",
      "        'size'   : 12}\n",
      "matplotlib.rc('font', **font)"
     ],
     "language": "python",
     "metadata": {},
     "outputs": [],
     "prompt_number": 1
    },
    {
     "cell_type": "markdown",
     "metadata": {},
     "source": [
      "## Fixation results"
     ]
    },
    {
     "cell_type": "code",
     "collapsed": false,
     "input": [
      "folder = 'output/fixation/'\n",
      "fname = 'pop_1000000_G_25_s_0.01_H_2_U_0.003_beta_0.0002_pi_0_tau_10_2013-Mar-28_19-31-30-485273.data'"
     ],
     "language": "python",
     "metadata": {},
     "outputs": [],
     "prompt_number": 6
    },
    {
     "cell_type": "markdown",
     "metadata": {},
     "source": [
      "### Parse filenames\n",
      "\n",
      "The regular expression was written using the [Python regular expression testing tool](http://www.pythonregex.com/)."
     ]
    },
    {
     "cell_type": "code",
     "collapsed": false,
     "input": [
      "import re\n",
      "filename_pattern = pattern = re.compile('^pop_(?P<pop>\\d+)_G_(?P<G>\\d+)_s_(?P<s>\\d\\.?\\d*)_H_(?P<H>\\d\\.?\\d*)_U_(?P<U>\\d\\.?\\d*)_beta_(?P<beta>\\d\\.?\\d*)_pi_(?P<pi>\\d\\.?\\d*)_tau_(?P<tau>\\d\\.?\\d*)_(?P<date>\\d{4}-\\w{3}-\\d{1,2})_(?P<time>\\d{2}-\\d{2}-\\d{2}-\\d{6}).(?P<extension>\\w+)$')"
     ],
     "language": "python",
     "metadata": {},
     "outputs": [],
     "prompt_number": 7
    },
    {
     "cell_type": "code",
     "collapsed": false,
     "input": [
      "def parse_filename(fname):\n",
      "    m = pattern.match(fname)\n",
      "    if m:\n",
      "         return m.groupdict()\n",
      "    else:\n",
      "        return dict()\n",
      "parse_filename(fname)"
     ],
     "language": "python",
     "metadata": {},
     "outputs": [
      {
       "output_type": "pyout",
       "prompt_number": 8,
       "text": [
        "{'G': '25',\n",
        " 'H': '2',\n",
        " 'U': '0.003',\n",
        " 'beta': '0.0002',\n",
        " 'date': '2013-Mar-28',\n",
        " 'extension': 'data',\n",
        " 'pi': '0',\n",
        " 'pop': '1000000',\n",
        " 's': '0.01',\n",
        " 'tau': '10',\n",
        " 'time': '19-31-30-485273'}"
       ]
      }
     ],
     "prompt_number": 8
    },
    {
     "cell_type": "markdown",
     "metadata": {},
     "source": [
      "### Process data file\n",
      "\n",
      "Data files are with `.data` extension and in JSON format.\n",
      "\n",
      "Here is a comparison between the builtin `json` parser and a native one I found on *github* by the name [ultrajson](https://github.com/esnme/ultrajson):"
     ]
    },
    {
     "cell_type": "code",
     "collapsed": false,
     "input": [
      "fpath = folder + fname\n",
      "import ujson \n",
      "%timeit with open(fpath) as f: ujson.load(f)\n",
      "import json\n",
      "%timeit with open(fpath) as f: json.load(f)"
     ],
     "language": "python",
     "metadata": {},
     "outputs": [
      {
       "output_type": "stream",
       "stream": "stdout",
       "text": [
        "10 loops, best of 3: 61.6 ms per loop\n",
        "10 loops, best of 3: 144 ms per loop"
       ]
      },
      {
       "output_type": "stream",
       "stream": "stdout",
       "text": [
        "\n"
       ]
      }
     ],
     "prompt_number": 12
    },
    {
     "cell_type": "code",
     "collapsed": false,
     "input": [
      "import ujson as json"
     ],
     "language": "python",
     "metadata": {},
     "outputs": [],
     "prompt_number": 14
    },
    {
     "cell_type": "code",
     "collapsed": false,
     "input": [
      "def process_data_file(fname):\n",
      "    fpath = folder + fname\n",
      "    params = parse_filename(fname)\n",
      "    if not params:\n",
      "        print \"Failed parsing file name\", fpath\n",
      "        return {},[],[]\n",
      "    with open(fpath) as f:\n",
      "        data = json.load(f)\n",
      "    if not data:\n",
      "        print \"Failed reading data\", fpath\n",
      "        return {},[],[]\n",
      "    data.update(params)\n",
      "    W = data.pop('W')\n",
      "    p = data.pop('p')\n",
      "    data['T'] = len(W)\n",
      "    return data, W, p"
     ],
     "language": "python",
     "metadata": {},
     "outputs": [],
     "prompt_number": 15
    },
    {
     "cell_type": "code",
     "collapsed": false,
     "input": [
      "data,W,p = process_data_file(fname)\n",
      "plot(W);\n",
      "xlim(len(W)-5000, len(W));"
     ],
     "language": "python",
     "metadata": {},
     "outputs": [
      {
       "output_type": "display_data",
       "png": "[encoded data removed]",
       "text": [
        "<matplotlib.figure.Figure at 0x4259a10>"
       ]
      }
     ],
     "prompt_number": 16
    },
    {
     "cell_type": "markdown",
     "metadata": {},
     "source": [
      "### Process all files"
     ]
    },
    {
     "cell_type": "code",
     "collapsed": false,
     "input": [
      "import glob\n",
      "import os\n",
      "import time"
     ],
     "language": "python",
     "metadata": {},
     "outputs": [],
     "prompt_number": 17
    },
    {
     "cell_type": "code",
     "collapsed": false,
     "input": [
      "tic = time.clock()\n",
      "file_list = glob.glob1(folder, '*.data')\n",
      "all_data = [None] * len(file_list)\n",
      "print \"processing\", len(file_list), \"data files\"\n",
      "for i,fname in enumerate(file_list) :\n",
      "    data,W,p = process_data_file(fname)\n",
      "    all_data[i] = data\n",
      "toc = time.clock()\n",
      "print \"processed all files in\", (toc-tic), \"seconds\""
     ],
     "language": "python",
     "metadata": {},
     "outputs": [],
     "prompt_number": "*"
    },
    {
     "cell_type": "markdown",
     "metadata": {},
     "source": [
      "## Final distribution"
     ]
    },
    {
     "cell_type": "code",
     "collapsed": false,
     "input": [
      "data,W,p = process_data_file(fname)"
     ],
     "language": "python",
     "metadata": {},
     "outputs": [],
     "prompt_number": 101
    },
    {
     "cell_type": "code",
     "collapsed": false,
     "input": [
      "from model import mprint"
     ],
     "language": "python",
     "metadata": {},
     "outputs": [],
     "prompt_number": 102
    },
    {
     "cell_type": "code",
     "collapsed": false,
     "input": [
      "mprint(p)"
     ],
     "language": "python",
     "metadata": {},
     "outputs": [
      {
       "output_type": "stream",
       "stream": "stdout",
       "text": [
        "0.000 0.000 0.000 0.000 0.000 0.000 0.000 0.000 0.000 0.000 0.000 0.000 0.000 0.000 0.000 0.000 0.000 0.000 0.000 0.000 0.000 0.000 0.000 0.000 0.000\n",
        "0.000 0.000 0.000 0.000 0.000 0.000 0.000 0.000 0.000 0.000 0.000 0.000 0.000 0.000 0.000 0.000 0.000 0.000 0.000 0.000 0.000 0.000 0.000 0.000 0.000\n",
        "0.742 0.222 0.032 0.003 0.000 0.000 0.000 0.000 0.000 0.000 0.000 0.000 0.000 0.000 0.000 0.000 0.000 0.000 0.000 0.000 0.000 0.000 0.000 0.000 0.000\n"
       ]
      }
     ],
     "prompt_number": 103
    },
    {
     "cell_type": "code",
     "collapsed": false,
     "input": [
      "from scipy.stats import poisson\n",
      "lam = float(data['U'])/float(data['s'])\n",
      "poi = poisson(lam)"
     ],
     "language": "python",
     "metadata": {},
     "outputs": [],
     "prompt_number": 59
    },
    {
     "cell_type": "code",
     "collapsed": false,
     "input": [
      "theoretical = [ poi.pmf(x) for x in range(int(data['G'])) if poi.pmf(x) > 1/float(data['pop_size'])]\n",
      "empirical = [x for x in p[-1] if x > 0]"
     ],
     "language": "python",
     "metadata": {},
     "outputs": [],
     "prompt_number": 76
    },
    {
     "cell_type": "code",
     "collapsed": false,
     "input": [
      "plot(theoretical, 'b')\n",
      "plot(empirical, '.r')\n",
      "yscale('log')\n",
      "xlabel('number of harmful alleles')\n",
      "ylabel('frequency')\n",
      "legend(['theoretical','empirical']);"
     ],
     "language": "python",
     "metadata": {},
     "outputs": [
      {
       "output_type": "display_data",
       "png": "[encoded data removed]",
       "text": [
        "<matplotlib.figure.Figure at 0x64c1cd0>"
       ]
      }
     ],
     "prompt_number": 89
    },
    {
     "cell_type": "code",
     "collapsed": false,
     "input": [],
     "language": "python",
     "metadata": {},
     "outputs": []
    }
   ],
   "metadata": {}
  }
 ]
}